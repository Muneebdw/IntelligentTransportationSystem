{
 "cells": [
  {
   "cell_type": "code",
   "execution_count": 474,
   "metadata": {},
   "outputs": [],
   "source": [
    "import numpy as np\n",
    "import pandas as pd\n",
    "import matplotlib.pyplot as plt\n",
    "import seaborn as sns\n",
    "import os\n",
    "import sys\n",
    "import time\n",
    "import datetime\n",
    "import random\n",
    "import io\n",
    "import folium\n",
    "from dgraph import *\n",
    "from numpy import random as np_random\n",
    "from scipy.spatial import distance_matrix\n",
    "from collections import defaultdict\n"
   ]
  },
  {
   "cell_type": "code",
   "execution_count": 475,
   "metadata": {},
   "outputs": [
    {
     "data": {
      "text/html": [
       "<div>\n",
       "<style scoped>\n",
       "    .dataframe tbody tr th:only-of-type {\n",
       "        vertical-align: middle;\n",
       "    }\n",
       "\n",
       "    .dataframe tbody tr th {\n",
       "        vertical-align: top;\n",
       "    }\n",
       "\n",
       "    .dataframe thead th {\n",
       "        text-align: right;\n",
       "    }\n",
       "</style>\n",
       "<table border=\"1\" class=\"dataframe\">\n",
       "  <thead>\n",
       "    <tr style=\"text-align: right;\">\n",
       "      <th></th>\n",
       "      <th>City</th>\n",
       "      <th>Lattitude</th>\n",
       "      <th>Longitude</th>\n",
       "    </tr>\n",
       "  </thead>\n",
       "  <tbody>\n",
       "    <tr>\n",
       "      <th>0</th>\n",
       "      <td>Islamabad</td>\n",
       "      <td>33.6989</td>\n",
       "      <td>73.0369</td>\n",
       "    </tr>\n",
       "    <tr>\n",
       "      <th>1</th>\n",
       "      <td>Lahore</td>\n",
       "      <td>31.5497</td>\n",
       "      <td>74.3436</td>\n",
       "    </tr>\n",
       "    <tr>\n",
       "      <th>2</th>\n",
       "      <td>Karachi</td>\n",
       "      <td>24.8600</td>\n",
       "      <td>67.0100</td>\n",
       "    </tr>\n",
       "    <tr>\n",
       "      <th>3</th>\n",
       "      <td>Peshawar</td>\n",
       "      <td>34.0000</td>\n",
       "      <td>71.5000</td>\n",
       "    </tr>\n",
       "    <tr>\n",
       "      <th>4</th>\n",
       "      <td>Hyderabad</td>\n",
       "      <td>25.3792</td>\n",
       "      <td>68.3683</td>\n",
       "    </tr>\n",
       "  </tbody>\n",
       "</table>\n",
       "</div>"
      ],
      "text/plain": [
       "        City  Lattitude  Longitude\n",
       "0  Islamabad    33.6989    73.0369\n",
       "1     Lahore    31.5497    74.3436\n",
       "2    Karachi    24.8600    67.0100\n",
       "3   Peshawar    34.0000    71.5000\n",
       "4  Hyderabad    25.3792    68.3683"
      ]
     },
     "execution_count": 475,
     "metadata": {},
     "output_type": "execute_result"
    }
   ],
   "source": [
    "df = pd.read_csv('data.csv')\n",
    "df.head()"
   ]
  },
  {
   "cell_type": "code",
   "execution_count": 476,
   "metadata": {},
   "outputs": [
    {
     "data": {
      "text/plain": [
       "(66.975, 24.86, 74.3436, 34.0)"
      ]
     },
     "execution_count": 476,
     "metadata": {},
     "output_type": "execute_result"
    }
   ],
   "source": [
    "#HERE I CALCULATE THE  min/max lang/lat values\n",
    "values =(df.Longitude.min(), df.Lattitude.min(), df.Longitude.max(), df.Lattitude.max())\n",
    "\n",
    "values\n"
   ]
  },
  {
   "cell_type": "code",
   "execution_count": 477,
   "metadata": {},
   "outputs": [
    {
     "data": {
      "text/html": [
       "<div style=\"width:100%;\"><div style=\"position:relative;width:100%;height:0;padding-bottom:60%;\"><span style=\"color:#565656\">Make this Notebook Trusted to load map: File -> Trust Notebook</span><iframe src=\"about:blank\" style=\"position:absolute;width:100%;height:100%;left:0;top:0;border:none !important;\" data-html=%3C%21DOCTYPE%20html%3E%0A%3Chead%3E%20%20%20%20%0A%20%20%20%20%3Cmeta%20http-equiv%3D%22content-type%22%20content%3D%22text/html%3B%20charset%3DUTF-8%22%20/%3E%0A%20%20%20%20%0A%20%20%20%20%20%20%20%20%3Cscript%3E%0A%20%20%20%20%20%20%20%20%20%20%20%20L_NO_TOUCH%20%3D%20false%3B%0A%20%20%20%20%20%20%20%20%20%20%20%20L_DISABLE_3D%20%3D%20false%3B%0A%20%20%20%20%20%20%20%20%3C/script%3E%0A%20%20%20%20%0A%20%20%20%20%3Cstyle%3Ehtml%2C%20body%20%7Bwidth%3A%20100%25%3Bheight%3A%20100%25%3Bmargin%3A%200%3Bpadding%3A%200%3B%7D%3C/style%3E%0A%20%20%20%20%3Cstyle%3E%23map%20%7Bposition%3Aabsolute%3Btop%3A0%3Bbottom%3A0%3Bright%3A0%3Bleft%3A0%3B%7D%3C/style%3E%0A%20%20%20%20%3Cscript%20src%3D%22https%3A//cdn.jsdelivr.net/npm/leaflet%401.6.0/dist/leaflet.js%22%3E%3C/script%3E%0A%20%20%20%20%3Cscript%20src%3D%22https%3A//code.jquery.com/jquery-1.12.4.min.js%22%3E%3C/script%3E%0A%20%20%20%20%3Cscript%20src%3D%22https%3A//maxcdn.bootstrapcdn.com/bootstrap/3.2.0/js/bootstrap.min.js%22%3E%3C/script%3E%0A%20%20%20%20%3Cscript%20src%3D%22https%3A//cdnjs.cloudflare.com/ajax/libs/Leaflet.awesome-markers/2.0.2/leaflet.awesome-markers.js%22%3E%3C/script%3E%0A%20%20%20%20%3Clink%20rel%3D%22stylesheet%22%20href%3D%22https%3A//cdn.jsdelivr.net/npm/leaflet%401.6.0/dist/leaflet.css%22/%3E%0A%20%20%20%20%3Clink%20rel%3D%22stylesheet%22%20href%3D%22https%3A//maxcdn.bootstrapcdn.com/bootstrap/3.2.0/css/bootstrap.min.css%22/%3E%0A%20%20%20%20%3Clink%20rel%3D%22stylesheet%22%20href%3D%22https%3A//maxcdn.bootstrapcdn.com/bootstrap/3.2.0/css/bootstrap-theme.min.css%22/%3E%0A%20%20%20%20%3Clink%20rel%3D%22stylesheet%22%20href%3D%22https%3A//maxcdn.bootstrapcdn.com/font-awesome/4.6.3/css/font-awesome.min.css%22/%3E%0A%20%20%20%20%3Clink%20rel%3D%22stylesheet%22%20href%3D%22https%3A//cdnjs.cloudflare.com/ajax/libs/Leaflet.awesome-markers/2.0.2/leaflet.awesome-markers.css%22/%3E%0A%20%20%20%20%3Clink%20rel%3D%22stylesheet%22%20href%3D%22https%3A//cdn.jsdelivr.net/gh/python-visualization/folium/folium/templates/leaflet.awesome.rotate.min.css%22/%3E%0A%20%20%20%20%0A%20%20%20%20%20%20%20%20%20%20%20%20%3Cmeta%20name%3D%22viewport%22%20content%3D%22width%3Ddevice-width%2C%0A%20%20%20%20%20%20%20%20%20%20%20%20%20%20%20%20initial-scale%3D1.0%2C%20maximum-scale%3D1.0%2C%20user-scalable%3Dno%22%20/%3E%0A%20%20%20%20%20%20%20%20%20%20%20%20%3Cstyle%3E%0A%20%20%20%20%20%20%20%20%20%20%20%20%20%20%20%20%23map_6f0a76cb36c5487ba31762a36426c73c%20%7B%0A%20%20%20%20%20%20%20%20%20%20%20%20%20%20%20%20%20%20%20%20position%3A%20relative%3B%0A%20%20%20%20%20%20%20%20%20%20%20%20%20%20%20%20%20%20%20%20width%3A%20100.0%25%3B%0A%20%20%20%20%20%20%20%20%20%20%20%20%20%20%20%20%20%20%20%20height%3A%20100.0%25%3B%0A%20%20%20%20%20%20%20%20%20%20%20%20%20%20%20%20%20%20%20%20left%3A%200.0%25%3B%0A%20%20%20%20%20%20%20%20%20%20%20%20%20%20%20%20%20%20%20%20top%3A%200.0%25%3B%0A%20%20%20%20%20%20%20%20%20%20%20%20%20%20%20%20%7D%0A%20%20%20%20%20%20%20%20%20%20%20%20%3C/style%3E%0A%20%20%20%20%20%20%20%20%0A%3C/head%3E%0A%3Cbody%3E%20%20%20%20%0A%20%20%20%20%0A%20%20%20%20%20%20%20%20%20%20%20%20%3Cdiv%20class%3D%22folium-map%22%20id%3D%22map_6f0a76cb36c5487ba31762a36426c73c%22%20%3E%3C/div%3E%0A%20%20%20%20%20%20%20%20%0A%3C/body%3E%0A%3Cscript%3E%20%20%20%20%0A%20%20%20%20%0A%20%20%20%20%20%20%20%20%20%20%20%20var%20map_6f0a76cb36c5487ba31762a36426c73c%20%3D%20L.map%28%0A%20%20%20%20%20%20%20%20%20%20%20%20%20%20%20%20%22map_6f0a76cb36c5487ba31762a36426c73c%22%2C%0A%20%20%20%20%20%20%20%20%20%20%20%20%20%20%20%20%7B%0A%20%20%20%20%20%20%20%20%20%20%20%20%20%20%20%20%20%20%20%20center%3A%20%5B30.6894721%2C%2070.94217836363636%5D%2C%0A%20%20%20%20%20%20%20%20%20%20%20%20%20%20%20%20%20%20%20%20crs%3A%20L.CRS.EPSG3857%2C%0A%20%20%20%20%20%20%20%20%20%20%20%20%20%20%20%20%20%20%20%20zoom%3A%2012%2C%0A%20%20%20%20%20%20%20%20%20%20%20%20%20%20%20%20%20%20%20%20zoomControl%3A%20true%2C%0A%20%20%20%20%20%20%20%20%20%20%20%20%20%20%20%20%20%20%20%20preferCanvas%3A%20false%2C%0A%20%20%20%20%20%20%20%20%20%20%20%20%20%20%20%20%7D%0A%20%20%20%20%20%20%20%20%20%20%20%20%29%3B%0A%20%20%20%20%20%20%20%20%20%20%20%20L.control.scale%28%29.addTo%28map_6f0a76cb36c5487ba31762a36426c73c%29%3B%0A%0A%20%20%20%20%20%20%20%20%20%20%20%20%0A%0A%20%20%20%20%20%20%20%20%0A%20%20%20%20%0A%20%20%20%20%20%20%20%20%20%20%20%20var%20tile_layer_8e8990c88caf4bd7998a20f4b460ab9c%20%3D%20L.tileLayer%28%0A%20%20%20%20%20%20%20%20%20%20%20%20%20%20%20%20%22https%3A//%7Bs%7D.tile.openstreetmap.org/%7Bz%7D/%7Bx%7D/%7By%7D.png%22%2C%0A%20%20%20%20%20%20%20%20%20%20%20%20%20%20%20%20%7B%22attribution%22%3A%20%22Data%20by%20%5Cu0026copy%3B%20%5Cu003ca%20href%3D%5C%22http%3A//openstreetmap.org%5C%22%5Cu003eOpenStreetMap%5Cu003c/a%5Cu003e%2C%20under%20%5Cu003ca%20href%3D%5C%22http%3A//www.openstreetmap.org/copyright%5C%22%5Cu003eODbL%5Cu003c/a%5Cu003e.%22%2C%20%22detectRetina%22%3A%20false%2C%20%22maxNativeZoom%22%3A%2018%2C%20%22maxZoom%22%3A%2018%2C%20%22minZoom%22%3A%200%2C%20%22noWrap%22%3A%20false%2C%20%22opacity%22%3A%201%2C%20%22subdomains%22%3A%20%22abc%22%2C%20%22tms%22%3A%20false%7D%0A%20%20%20%20%20%20%20%20%20%20%20%20%29.addTo%28map_6f0a76cb36c5487ba31762a36426c73c%29%3B%0A%20%20%20%20%20%20%20%20%0A%20%20%20%20%0A%20%20%20%20%20%20%20%20%20%20%20%20var%20marker_1d908b8fbefd4407843572fc2f946385%20%3D%20L.marker%28%0A%20%20%20%20%20%20%20%20%20%20%20%20%20%20%20%20%5B33.6989%2C%2073.0369%5D%2C%0A%20%20%20%20%20%20%20%20%20%20%20%20%20%20%20%20%7B%22markerColor%22%3A%20%22red%22%7D%0A%20%20%20%20%20%20%20%20%20%20%20%20%29.addTo%28map_6f0a76cb36c5487ba31762a36426c73c%29%3B%0A%20%20%20%20%20%20%20%20%0A%20%20%20%20%0A%20%20%20%20%20%20%20%20var%20popup_610dc8207e0449468ffcd305fd077e1e%20%3D%20L.popup%28%7B%22maxWidth%22%3A%20%22100%25%22%7D%29%3B%0A%0A%20%20%20%20%20%20%20%20%0A%20%20%20%20%20%20%20%20%20%20%20%20var%20html_58a7b71e34344d95b12a153ca806a5fe%20%3D%20%24%28%60%3Cdiv%20id%3D%22html_58a7b71e34344d95b12a153ca806a5fe%22%20style%3D%22width%3A%20100.0%25%3B%20height%3A%20100.0%25%3B%22%3EIslamabad%3C/div%3E%60%29%5B0%5D%3B%0A%20%20%20%20%20%20%20%20%20%20%20%20popup_610dc8207e0449468ffcd305fd077e1e.setContent%28html_58a7b71e34344d95b12a153ca806a5fe%29%3B%0A%20%20%20%20%20%20%20%20%0A%0A%20%20%20%20%20%20%20%20marker_1d908b8fbefd4407843572fc2f946385.bindPopup%28popup_610dc8207e0449468ffcd305fd077e1e%29%0A%20%20%20%20%20%20%20%20%3B%0A%0A%20%20%20%20%20%20%20%20%0A%20%20%20%20%0A%20%20%20%20%0A%20%20%20%20%20%20%20%20%20%20%20%20var%20marker_420c23765d9f47f4af53107fb809d844%20%3D%20L.marker%28%0A%20%20%20%20%20%20%20%20%20%20%20%20%20%20%20%20%5B31.5497%2C%2074.3436%5D%2C%0A%20%20%20%20%20%20%20%20%20%20%20%20%20%20%20%20%7B%22markerColor%22%3A%20%22red%22%7D%0A%20%20%20%20%20%20%20%20%20%20%20%20%29.addTo%28map_6f0a76cb36c5487ba31762a36426c73c%29%3B%0A%20%20%20%20%20%20%20%20%0A%20%20%20%20%0A%20%20%20%20%20%20%20%20var%20popup_da5e65e77f164ba9bd6cead56ea4ff28%20%3D%20L.popup%28%7B%22maxWidth%22%3A%20%22100%25%22%7D%29%3B%0A%0A%20%20%20%20%20%20%20%20%0A%20%20%20%20%20%20%20%20%20%20%20%20var%20html_e0967caf982b4f96967611dd0e98f9f5%20%3D%20%24%28%60%3Cdiv%20id%3D%22html_e0967caf982b4f96967611dd0e98f9f5%22%20style%3D%22width%3A%20100.0%25%3B%20height%3A%20100.0%25%3B%22%3ELahore%3C/div%3E%60%29%5B0%5D%3B%0A%20%20%20%20%20%20%20%20%20%20%20%20popup_da5e65e77f164ba9bd6cead56ea4ff28.setContent%28html_e0967caf982b4f96967611dd0e98f9f5%29%3B%0A%20%20%20%20%20%20%20%20%0A%0A%20%20%20%20%20%20%20%20marker_420c23765d9f47f4af53107fb809d844.bindPopup%28popup_da5e65e77f164ba9bd6cead56ea4ff28%29%0A%20%20%20%20%20%20%20%20%3B%0A%0A%20%20%20%20%20%20%20%20%0A%20%20%20%20%0A%20%20%20%20%0A%20%20%20%20%20%20%20%20%20%20%20%20var%20marker_ab4c048772c74a46805375371da3729c%20%3D%20L.marker%28%0A%20%20%20%20%20%20%20%20%20%20%20%20%20%20%20%20%5B24.86%2C%2067.01%5D%2C%0A%20%20%20%20%20%20%20%20%20%20%20%20%20%20%20%20%7B%22markerColor%22%3A%20%22red%22%7D%0A%20%20%20%20%20%20%20%20%20%20%20%20%29.addTo%28map_6f0a76cb36c5487ba31762a36426c73c%29%3B%0A%20%20%20%20%20%20%20%20%0A%20%20%20%20%0A%20%20%20%20%20%20%20%20var%20popup_374301194e724b90acad8816179699b8%20%3D%20L.popup%28%7B%22maxWidth%22%3A%20%22100%25%22%7D%29%3B%0A%0A%20%20%20%20%20%20%20%20%0A%20%20%20%20%20%20%20%20%20%20%20%20var%20html_efa1488934754b36a4526e834b012f92%20%3D%20%24%28%60%3Cdiv%20id%3D%22html_efa1488934754b36a4526e834b012f92%22%20style%3D%22width%3A%20100.0%25%3B%20height%3A%20100.0%25%3B%22%3EKarachi%3C/div%3E%60%29%5B0%5D%3B%0A%20%20%20%20%20%20%20%20%20%20%20%20popup_374301194e724b90acad8816179699b8.setContent%28html_efa1488934754b36a4526e834b012f92%29%3B%0A%20%20%20%20%20%20%20%20%0A%0A%20%20%20%20%20%20%20%20marker_ab4c048772c74a46805375371da3729c.bindPopup%28popup_374301194e724b90acad8816179699b8%29%0A%20%20%20%20%20%20%20%20%3B%0A%0A%20%20%20%20%20%20%20%20%0A%20%20%20%20%0A%20%20%20%20%0A%20%20%20%20%20%20%20%20%20%20%20%20var%20marker_c6cb0c93f5814b2986183403c76a07bc%20%3D%20L.marker%28%0A%20%20%20%20%20%20%20%20%20%20%20%20%20%20%20%20%5B34.0%2C%2071.5%5D%2C%0A%20%20%20%20%20%20%20%20%20%20%20%20%20%20%20%20%7B%22markerColor%22%3A%20%22red%22%7D%0A%20%20%20%20%20%20%20%20%20%20%20%20%29.addTo%28map_6f0a76cb36c5487ba31762a36426c73c%29%3B%0A%20%20%20%20%20%20%20%20%0A%20%20%20%20%0A%20%20%20%20%20%20%20%20var%20popup_684ead0e63114d0fb93e495be8490a06%20%3D%20L.popup%28%7B%22maxWidth%22%3A%20%22100%25%22%7D%29%3B%0A%0A%20%20%20%20%20%20%20%20%0A%20%20%20%20%20%20%20%20%20%20%20%20var%20html_3fbbb231c1434ba182ace767b8e34f4c%20%3D%20%24%28%60%3Cdiv%20id%3D%22html_3fbbb231c1434ba182ace767b8e34f4c%22%20style%3D%22width%3A%20100.0%25%3B%20height%3A%20100.0%25%3B%22%3EPeshawar%3C/div%3E%60%29%5B0%5D%3B%0A%20%20%20%20%20%20%20%20%20%20%20%20popup_684ead0e63114d0fb93e495be8490a06.setContent%28html_3fbbb231c1434ba182ace767b8e34f4c%29%3B%0A%20%20%20%20%20%20%20%20%0A%0A%20%20%20%20%20%20%20%20marker_c6cb0c93f5814b2986183403c76a07bc.bindPopup%28popup_684ead0e63114d0fb93e495be8490a06%29%0A%20%20%20%20%20%20%20%20%3B%0A%0A%20%20%20%20%20%20%20%20%0A%20%20%20%20%0A%20%20%20%20%0A%20%20%20%20%20%20%20%20%20%20%20%20var%20marker_002ef347962749a9b0900e8b96e85b91%20%3D%20L.marker%28%0A%20%20%20%20%20%20%20%20%20%20%20%20%20%20%20%20%5B25.3792%2C%2068.3683%5D%2C%0A%20%20%20%20%20%20%20%20%20%20%20%20%20%20%20%20%7B%22markerColor%22%3A%20%22red%22%7D%0A%20%20%20%20%20%20%20%20%20%20%20%20%29.addTo%28map_6f0a76cb36c5487ba31762a36426c73c%29%3B%0A%20%20%20%20%20%20%20%20%0A%20%20%20%20%0A%20%20%20%20%20%20%20%20var%20popup_190276f1ed874b07ab33dedba41b800b%20%3D%20L.popup%28%7B%22maxWidth%22%3A%20%22100%25%22%7D%29%3B%0A%0A%20%20%20%20%20%20%20%20%0A%20%20%20%20%20%20%20%20%20%20%20%20var%20html_68a229dce9d74dc89814dea048ec9246%20%3D%20%24%28%60%3Cdiv%20id%3D%22html_68a229dce9d74dc89814dea048ec9246%22%20style%3D%22width%3A%20100.0%25%3B%20height%3A%20100.0%25%3B%22%3EHyderabad%3C/div%3E%60%29%5B0%5D%3B%0A%20%20%20%20%20%20%20%20%20%20%20%20popup_190276f1ed874b07ab33dedba41b800b.setContent%28html_68a229dce9d74dc89814dea048ec9246%29%3B%0A%20%20%20%20%20%20%20%20%0A%0A%20%20%20%20%20%20%20%20marker_002ef347962749a9b0900e8b96e85b91.bindPopup%28popup_190276f1ed874b07ab33dedba41b800b%29%0A%20%20%20%20%20%20%20%20%3B%0A%0A%20%20%20%20%20%20%20%20%0A%20%20%20%20%0A%20%20%20%20%0A%20%20%20%20%20%20%20%20%20%20%20%20var%20marker_2287ae495144404bb8889a60b73d4599%20%3D%20L.marker%28%0A%20%20%20%20%20%20%20%20%20%20%20%20%20%20%20%20%5B32.9405%2C%2073.7276%5D%2C%0A%20%20%20%20%20%20%20%20%20%20%20%20%20%20%20%20%7B%22markerColor%22%3A%20%22red%22%7D%0A%20%20%20%20%20%20%20%20%20%20%20%20%29.addTo%28map_6f0a76cb36c5487ba31762a36426c73c%29%3B%0A%20%20%20%20%20%20%20%20%0A%20%20%20%20%0A%20%20%20%20%20%20%20%20var%20popup_b0db8b4aac5e422f96f091b6dfbefbef%20%3D%20L.popup%28%7B%22maxWidth%22%3A%20%22100%25%22%7D%29%3B%0A%0A%20%20%20%20%20%20%20%20%0A%20%20%20%20%20%20%20%20%20%20%20%20var%20html_65b05987bf6e4516bc4073d2a707b344%20%3D%20%24%28%60%3Cdiv%20id%3D%22html_65b05987bf6e4516bc4073d2a707b344%22%20style%3D%22width%3A%20100.0%25%3B%20height%3A%20100.0%25%3B%22%3EJehlum%3C/div%3E%60%29%5B0%5D%3B%0A%20%20%20%20%20%20%20%20%20%20%20%20popup_b0db8b4aac5e422f96f091b6dfbefbef.setContent%28html_65b05987bf6e4516bc4073d2a707b344%29%3B%0A%20%20%20%20%20%20%20%20%0A%0A%20%20%20%20%20%20%20%20marker_2287ae495144404bb8889a60b73d4599.bindPopup%28popup_b0db8b4aac5e422f96f091b6dfbefbef%29%0A%20%20%20%20%20%20%20%20%3B%0A%0A%20%20%20%20%20%20%20%20%0A%20%20%20%20%0A%20%20%20%20%0A%20%20%20%20%20%20%20%20%20%20%20%20var%20marker_c585d02be2a4428c9d86b3421b59a804%20%3D%20L.marker%28%0A%20%20%20%20%20%20%20%20%20%20%20%20%20%20%20%20%5B30.1978%2C%2071.4711%5D%2C%0A%20%20%20%20%20%20%20%20%20%20%20%20%20%20%20%20%7B%22markerColor%22%3A%20%22red%22%7D%0A%20%20%20%20%20%20%20%20%20%20%20%20%29.addTo%28map_6f0a76cb36c5487ba31762a36426c73c%29%3B%0A%20%20%20%20%20%20%20%20%0A%20%20%20%20%0A%20%20%20%20%20%20%20%20var%20popup_521c3a29c6b34305b19956a7b127f434%20%3D%20L.popup%28%7B%22maxWidth%22%3A%20%22100%25%22%7D%29%3B%0A%0A%20%20%20%20%20%20%20%20%0A%20%20%20%20%20%20%20%20%20%20%20%20var%20html_e2ea22460878435db6595d1c6ab12814%20%3D%20%24%28%60%3Cdiv%20id%3D%22html_e2ea22460878435db6595d1c6ab12814%22%20style%3D%22width%3A%20100.0%25%3B%20height%3A%20100.0%25%3B%22%3EMultan%3C/div%3E%60%29%5B0%5D%3B%0A%20%20%20%20%20%20%20%20%20%20%20%20popup_521c3a29c6b34305b19956a7b127f434.setContent%28html_e2ea22460878435db6595d1c6ab12814%29%3B%0A%20%20%20%20%20%20%20%20%0A%0A%20%20%20%20%20%20%20%20marker_c585d02be2a4428c9d86b3421b59a804.bindPopup%28popup_521c3a29c6b34305b19956a7b127f434%29%0A%20%20%20%20%20%20%20%20%3B%0A%0A%20%20%20%20%20%20%20%20%0A%20%20%20%20%0A%20%20%20%20%0A%20%20%20%20%20%20%20%20%20%20%20%20var%20marker_f37651b3bef544cbbdefaaa6c860bd11%20%3D%20L.marker%28%0A%20%20%20%20%20%20%20%20%20%20%20%20%20%20%20%20%5B33.2536611%2C%2070.496744%5D%2C%0A%20%20%20%20%20%20%20%20%20%20%20%20%20%20%20%20%7B%22markerColor%22%3A%20%22red%22%7D%0A%20%20%20%20%20%20%20%20%20%20%20%20%29.addTo%28map_6f0a76cb36c5487ba31762a36426c73c%29%3B%0A%20%20%20%20%20%20%20%20%0A%20%20%20%20%0A%20%20%20%20%20%20%20%20var%20popup_d4df9c5ac6f94b5f9d62e5c03bc2a2b4%20%3D%20L.popup%28%7B%22maxWidth%22%3A%20%22100%25%22%7D%29%3B%0A%0A%20%20%20%20%20%20%20%20%0A%20%20%20%20%20%20%20%20%20%20%20%20var%20html_87cbe5519ad14f65882408d52b34175a%20%3D%20%24%28%60%3Cdiv%20id%3D%22html_87cbe5519ad14f65882408d52b34175a%22%20style%3D%22width%3A%20100.0%25%3B%20height%3A%20100.0%25%3B%22%3EShewa%3C/div%3E%60%29%5B0%5D%3B%0A%20%20%20%20%20%20%20%20%20%20%20%20popup_d4df9c5ac6f94b5f9d62e5c03bc2a2b4.setContent%28html_87cbe5519ad14f65882408d52b34175a%29%3B%0A%20%20%20%20%20%20%20%20%0A%0A%20%20%20%20%20%20%20%20marker_f37651b3bef544cbbdefaaa6c860bd11.bindPopup%28popup_d4df9c5ac6f94b5f9d62e5c03bc2a2b4%29%0A%20%20%20%20%20%20%20%20%3B%0A%0A%20%20%20%20%20%20%20%20%0A%20%20%20%20%0A%20%20%20%20%0A%20%20%20%20%20%20%20%20%20%20%20%20var%20marker_c9bac0eaeef249f1ada9c2351c88aac5%20%3D%20L.marker%28%0A%20%20%20%20%20%20%20%20%20%20%20%20%20%20%20%20%5B30.1798%2C%2066.975%5D%2C%0A%20%20%20%20%20%20%20%20%20%20%20%20%20%20%20%20%7B%22markerColor%22%3A%20%22red%22%7D%0A%20%20%20%20%20%20%20%20%20%20%20%20%29.addTo%28map_6f0a76cb36c5487ba31762a36426c73c%29%3B%0A%20%20%20%20%20%20%20%20%0A%20%20%20%20%0A%20%20%20%20%20%20%20%20var%20popup_0ba16977b9d54fd093a8d57a074bd2f1%20%3D%20L.popup%28%7B%22maxWidth%22%3A%20%22100%25%22%7D%29%3B%0A%0A%20%20%20%20%20%20%20%20%0A%20%20%20%20%20%20%20%20%20%20%20%20var%20html_22b0f97baec249a597360dffeca54c4e%20%3D%20%24%28%60%3Cdiv%20id%3D%22html_22b0f97baec249a597360dffeca54c4e%22%20style%3D%22width%3A%20100.0%25%3B%20height%3A%20100.0%25%3B%22%3EQuetta%3C/div%3E%60%29%5B0%5D%3B%0A%20%20%20%20%20%20%20%20%20%20%20%20popup_0ba16977b9d54fd093a8d57a074bd2f1.setContent%28html_22b0f97baec249a597360dffeca54c4e%29%3B%0A%20%20%20%20%20%20%20%20%0A%0A%20%20%20%20%20%20%20%20marker_c9bac0eaeef249f1ada9c2351c88aac5.bindPopup%28popup_0ba16977b9d54fd093a8d57a074bd2f1%29%0A%20%20%20%20%20%20%20%20%3B%0A%0A%20%20%20%20%20%20%20%20%0A%20%20%20%20%0A%20%20%20%20%0A%20%20%20%20%20%20%20%20%20%20%20%20var%20marker_3ae8e5300de245a9acad17a72caceeea%20%3D%20L.marker%28%0A%20%20%20%20%20%20%20%20%20%20%20%20%20%20%20%20%5B31.831832%2C%2070.911518%5D%2C%0A%20%20%20%20%20%20%20%20%20%20%20%20%20%20%20%20%7B%22markerColor%22%3A%20%22red%22%7D%0A%20%20%20%20%20%20%20%20%20%20%20%20%29.addTo%28map_6f0a76cb36c5487ba31762a36426c73c%29%3B%0A%20%20%20%20%20%20%20%20%0A%20%20%20%20%0A%20%20%20%20%20%20%20%20var%20popup_e500e40058074f72bd94bdb69ba8f86c%20%3D%20L.popup%28%7B%22maxWidth%22%3A%20%22100%25%22%7D%29%3B%0A%0A%20%20%20%20%20%20%20%20%0A%20%20%20%20%20%20%20%20%20%20%20%20var%20html_ff6c850a4de54cbfbb97e93e81c4f737%20%3D%20%24%28%60%3Cdiv%20id%3D%22html_ff6c850a4de54cbfbb97e93e81c4f737%22%20style%3D%22width%3A%20100.0%25%3B%20height%3A%20100.0%25%3B%22%3EDera%20Ismail%20Khan%3C/div%3E%60%29%5B0%5D%3B%0A%20%20%20%20%20%20%20%20%20%20%20%20popup_e500e40058074f72bd94bdb69ba8f86c.setContent%28html_ff6c850a4de54cbfbb97e93e81c4f737%29%3B%0A%20%20%20%20%20%20%20%20%0A%0A%20%20%20%20%20%20%20%20marker_3ae8e5300de245a9acad17a72caceeea.bindPopup%28popup_e500e40058074f72bd94bdb69ba8f86c%29%0A%20%20%20%20%20%20%20%20%3B%0A%0A%20%20%20%20%20%20%20%20%0A%20%20%20%20%0A%20%20%20%20%0A%20%20%20%20%20%20%20%20%20%20%20%20var%20marker_b78fd2c94bf94d1f9746754f89ab67c7%20%3D%20L.marker%28%0A%20%20%20%20%20%20%20%20%20%20%20%20%20%20%20%20%5B29.6928%2C%2072.5232%5D%2C%0A%20%20%20%20%20%20%20%20%20%20%20%20%20%20%20%20%7B%22markerColor%22%3A%20%22red%22%7D%0A%20%20%20%20%20%20%20%20%20%20%20%20%29.addTo%28map_6f0a76cb36c5487ba31762a36426c73c%29%3B%0A%20%20%20%20%20%20%20%20%0A%20%20%20%20%0A%20%20%20%20%20%20%20%20var%20popup_893855c9e1944d12a6838b72687caa4f%20%3D%20L.popup%28%7B%22maxWidth%22%3A%20%22100%25%22%7D%29%3B%0A%0A%20%20%20%20%20%20%20%20%0A%20%20%20%20%20%20%20%20%20%20%20%20var%20html_1dad36017db14e62a24a22dd78ffe59e%20%3D%20%24%28%60%3Cdiv%20id%3D%22html_1dad36017db14e62a24a22dd78ffe59e%22%20style%3D%22width%3A%20100.0%25%3B%20height%3A%20100.0%25%3B%22%3ECholistan%3C/div%3E%60%29%5B0%5D%3B%0A%20%20%20%20%20%20%20%20%20%20%20%20popup_893855c9e1944d12a6838b72687caa4f.setContent%28html_1dad36017db14e62a24a22dd78ffe59e%29%3B%0A%20%20%20%20%20%20%20%20%0A%0A%20%20%20%20%20%20%20%20marker_b78fd2c94bf94d1f9746754f89ab67c7.bindPopup%28popup_893855c9e1944d12a6838b72687caa4f%29%0A%20%20%20%20%20%20%20%20%3B%0A%0A%20%20%20%20%20%20%20%20%0A%20%20%20%20%0A%3C/script%3E onload=\"this.contentDocument.open();this.contentDocument.write(    decodeURIComponent(this.getAttribute('data-html')));this.contentDocument.close();\" allowfullscreen webkitallowfullscreen mozallowfullscreen></iframe></div></div>"
      ],
      "text/plain": [
       "<folium.folium.Map at 0x262036d4340>"
      ]
     },
     "execution_count": 477,
     "metadata": {},
     "output_type": "execute_result"
    }
   ],
   "source": [
    "#HERE I USED FOLIUM TO CREATE A MAP WHICH PLACES THE VALUES IN THE DATASET ON THE MAP\n",
    "x  = []\n",
    "y = []\n",
    "for i in range(8):\n",
    "        x.append(np_random.uniform(24.86, 34.0, size=1))\n",
    "        y.append(np_random.uniform(67.01,74.3436,size=1))\n",
    "\n",
    "map = folium.Map(location=[df.Lattitude.mean(), df.Longitude.mean()], zoom_start=12,control_scale=True)\n",
    "#folium place markers\n",
    "for lat, lng, label in zip(df.Lattitude, df.Longitude, df.City):\n",
    "    folium.Marker(location=[lat, lng], popup=label, marker_color='red').add_to(map)\n",
    "map\n"
   ]
  },
  {
   "cell_type": "code",
   "execution_count": 478,
   "metadata": {},
   "outputs": [
    {
     "data": {
      "image/png": "[encoded data removed]",
      "text/plain": [
       "<Figure size 720x720 with 1 Axes>"
      ]
     },
     "metadata": {
      "needs_background": "light"
     },
     "output_type": "display_data"
    }
   ],
   "source": [
    "#THIS IS A BASIC PLOT OF THE POints\n",
    "#plot the lang and lat\n",
    "plt.figure(figsize=(10,10))\n",
    "plt.scatter(df.Longitude, df.Lattitude)\n",
    "plt.xlabel('Longitude')\n",
    "plt.ylabel('Lattitude')\n",
    "#obs_4_x = [6.5, 8, 8, 6.5, 6.5]\n",
    "#obs_4_y = [6, 6, 9.5, 9.5, 6]\n",
    "#plt.fill(obs_4_x, obs_4_y, \"r\")\n",
    "\n",
    "\n",
    "rectangle = plt.Rectangle((69.05499773,27.30419314), 0.38, 0.95, fc='red',ec=\"red\")\n",
    "#use y[1] and x[1] to get the coordinates of the rectangle\n",
    "rectangle2 = plt.Rectangle((68.40579368,32.2244921), 0.38,0.95 , fc='red',ec=\"red\")\n",
    "#use y[2] and x[2] to get the coordinates of the rectangle\n",
    "rectangle3 = plt.Rectangle((73.95673648,30.2707003), 0.38, 0.95, fc='red',ec=\"red\")\n",
    "#use y[3] and x[3] to get the coordinates of the rectangle\n",
    "rectangle4 = plt.Rectangle((69.65336426,31.05971192), 0.38, 0.95, fc='red',ec=\"red\")\n",
    "#use y[4] and x[4] to get the coordinates of the rectangle\n",
    "rectangle5 = plt.Rectangle((73.52528668,26.72029817), 0.38, 0.95, fc='red',ec=\"red\")\n",
    "#use y[5] and x[5] to get the coordinates of the rectangle\n",
    "rectangle6 = plt.Rectangle((72.34731228,31.6979375), 0.38, 0.95, fc='red',ec=\"red\")\n",
    "#use y[6] and x[6] to get the coordinates of the rectangle\n",
    "rectangle7 = plt.Rectangle((67.32759484,27.59375763), 0.38, 0.95, fc='red',ec=\"red\")\n",
    "#use y[7] and x[7] to get the coordinates of the rectangle\n",
    "rectangle8 = plt.Rectangle((72.11769889,25.95242895), 0.38, 0.95, fc='red',ec=\"red\")\n",
    "#use y[8] and x[8] to get the coordinates of the rectangle\n",
    "\n",
    "\n",
    "plt.gca().add_patch(rectangle)\n",
    "plt.gca().add_patch(rectangle2)\n",
    "plt.gca().add_patch(rectangle3)\n",
    "plt.gca().add_patch(rectangle4)\n",
    "plt.gca().add_patch(rectangle5)\n",
    "plt.gca().add_patch(rectangle6)\n",
    "plt.gca().add_patch(rectangle7)\n",
    "plt.gca().add_patch(rectangle8)\n",
    "\n",
    "\n",
    "plt.axis('scaled')\n",
    "plt.show()\n",
    "\n",
    "\n",
    "\n"
   ]
  },
  {
   "cell_type": "code",
   "execution_count": 479,
   "metadata": {},
   "outputs": [
    {
     "name": "stdout",
     "output_type": "stream",
     "text": [
      "['Islamabad', 'Lahore', 'Karachi', 'Peshawar', 'Hyderabad', 'Jehlum', 'Multan', 'Shewa', 'Quetta', 'Dera Ismail Khan', 'Cholistan']\n",
      "[[73.0369, 33.6989], [74.3436, 31.5497], [67.01, 24.86], [71.5, 34.0], [68.3683, 25.3792], [73.7276, 32.9405], [71.4711, 30.1978], [70.496744, 33.2536611], [66.975, 30.1798], [70.911518, 31.831832], [72.5232, 29.6928]]\n"
     ]
    }
   ],
   "source": [
    "#calculate distance between each langitute and lattitude point\n",
    "#calculate distance between each points and save in array\n",
    "counter = 0\n",
    "distances = []\n",
    "cities =[]\n",
    "for i in range(len(df)):\n",
    "    cities.append(df.City[i])\n",
    "print(cities)\n",
    "data = []\n",
    "for i in range(len(df)):\n",
    "    l2 = [df.iloc[i].Longitude, df.iloc[i].Lattitude]\n",
    "    #print(l2)\n",
    "    data.append(l2)\n",
    "print(data)\n",
    "df = pd.DataFrame(data, columns=['xcord', 'ycord'], index=cities)\n",
    "dist_m = pd.DataFrame(distance_matrix(df.values, df.values), index=df.index, columns=df.index)\n",
    "dist_m.to_csv('dist_m.csv')\n",
    "\n",
    "\n",
    "\n",
    "\n",
    "\n",
    "\n",
    "\n"
   ]
  },
  {
   "cell_type": "code",
   "execution_count": 480,
   "metadata": {},
   "outputs": [],
   "source": [
    "islamabad = 0\n",
    "lahore = 1\n",
    "karachi=2\n",
    "peshawar=3\n",
    "hyderabad=4\n",
    "jhelum=5\n",
    "multan=6\n",
    "shewa=7\n",
    "quetta=8\n",
    "dera_ismail_khan=9\n",
    "cholistan=10\n",
    "\n",
    "            #0  1  2  3  4  5  6  7  8  9 10\n",
    "path_mat = [[0, 0, 0, 1, 0, 1, 1, 0, 0, 0, 0], #1\n",
    "            [0, 0, 0, 0, 0, 1, 1, 0, 0, 1, 1], #1\n",
    "            [0, 0, 0, 0, 1, 0, 0, 0, 1, 0, 0], #2\n",
    "            [1, 0, 0, 0, 0, 0, 1, 0, 1, 0, 0], #3\n",
    "            [0, 0, 1, 0, 0, 0, 0, 0, 0, 1, 0], #4\n",
    "            [1, 1, 0, 0, 0, 0, 1, 0, 0, 0, 0], #5    \n",
    "            [1, 0, 0, 1, 0, 1, 0, 1, 0, 0, 0], #6\n",
    "            [0, 0, 0, 0, 0, 0, 1, 0, 1, 1, 0], #7\n",
    "            [0, 0, 1, 1, 0, 0, 0, 1, 0, 0, 0], #8\n",
    "            [0, 1, 0, 0, 0, 0, 0, 1, 0, 0, 1], #9\n",
    "            [0, 1, 0, 0, 0, 0, 0, 0, 0, 1, 0]] #10\n",
    "            "
   ]
  },
  {
   "cell_type": "code",
   "execution_count": 481,
   "metadata": {},
   "outputs": [],
   "source": [
    "\n",
    "\n",
    "             #0  1  2  3  4  5  6  7  8  9 10\n",
    "ist_mat =   [[0, 0, 0, 1.5661, 0, 1.0258, 3.8353, 0, 0, 0, 0],    #0\n",
    "            [0, 0, 0, 0, 0, 1.5211, 0, 0, 0, 3.4437, 2.6004],     #1\n",
    "            [0, 0, 0, 0, 1.4541, 0, 0, 0, 5.3199, 0, 0],          #2\n",
    "            [1.5661, 0, 0, 0, 0, 0, 3.8023, 0, 5.9219, 0, 0],     #3\n",
    "            [0, 0, 1.4541, 0, 0, 0, 0, 0, 0, 6.9357, 0],          #4\n",
    "            [1.0258, 1.5211, 0, 0, 0, 0, 3.5516, 0, 0, 0, 0],     #5 \n",
    "            [3.8353, 0, 0, 3.8023, 0, 3.5516, 0, 3.2074, 0, 0, 0],#6\n",
    "            [0, 0, 0, 0, 0, 0, 3.2074, 0, 4.6745, 1.4810, 0],     #7\n",
    "            [0, 0, 5.3199, 5.9219, 0, 0, 0, 4.6745, 0, 0, 0],     #8\n",
    "            [0, 3.4437, 0, 0, 0, 0, 0, 1.4811, 0, 0, 2.6782],     #9\n",
    "            [0, 2.6004, 0, 0, 0, 0, 0, 0, 0, 2.6782, 0] ]         #10\n",
    "\n",
    "\n",
    "\n",
    "\n"
   ]
  },
  {
   "cell_type": "code",
   "execution_count": 482,
   "metadata": {},
   "outputs": [],
   "source": [
    "\n",
    "class Graph:\n",
    " \n",
    "    def __init__(self, vertices):\n",
    "        # No. of vertices\n",
    "        self.V = vertices \n",
    "        self.paths = []\n",
    "        # default dictionary to store graph\n",
    "        self.graph = defaultdict(list) \n",
    " \n",
    "    # function to add an edge to graph\n",
    "    def addEdge(self, u, v):\n",
    "        self.graph[u].append(v)\n",
    " \n",
    "    '''A recursive function to print all paths from 'u' to 'd'.\n",
    "    visited[] keeps track of vertices in current path.\n",
    "    path[] stores actual vertices and path_index is current\n",
    "    index in path[]'''\n",
    "    def printAllPathsUtil(self, u, d, visited, path):\n",
    "\n",
    "        # Mark the current node as visited and store in path\n",
    "        visited[u]= True\n",
    "        path.append(u)\n",
    "\n",
    "        # If current vertex is same as destination, then print\n",
    "        # current path[]\n",
    "        if u == d:\n",
    "            print (path)\n",
    "            l2 = path\n",
    "            self.paths.append(l2.copy())\n",
    "        else:\n",
    "            # If current vertex is not destination\n",
    "            # Recur for all the vertices adjacent to this vertex\n",
    "            for i in self.graph[u]:\n",
    "                if visited[i]== False:\n",
    "                    self.printAllPathsUtil(i, d, visited, path)\n",
    "                    \n",
    "        # Remove current vertex from path[] and mark it as unvisited\n",
    "        path.pop()\n",
    "        visited[u]= False\n",
    " \n",
    " \n",
    "    # Prints all paths from 's' to 'd'\n",
    "    def printAllPaths(self, s, d):\n",
    "\n",
    "        # Mark all the vertices as not visited\n",
    "        visited =[False]*(self.V)\n",
    "\n",
    "        # Create an array to store paths\n",
    "        path = []\n",
    "\n",
    "        # Call the recursive helper function to print all paths\n",
    "        self.printAllPathsUtil(s, d, visited, path)\n",
    "        print (path)\n",
    "        "
   ]
  },
  {
   "cell_type": "code",
   "execution_count": 483,
   "metadata": {},
   "outputs": [
    {
     "name": "stdout",
     "output_type": "stream",
     "text": [
      "[1, 5, 0, 3, 6, 7, 8]\n",
      "[1, 5, 0, 3, 8]\n",
      "[1, 5, 0, 6, 3, 8]\n",
      "[1, 5, 0, 6, 7, 8]\n",
      "[1, 5, 6, 0, 3, 8]\n",
      "[1, 5, 6, 3, 8]\n",
      "[1, 5, 6, 7, 8]\n",
      "[1, 9, 7, 6, 0, 3, 8]\n",
      "[1, 9, 7, 6, 3, 8]\n",
      "[1, 9, 7, 6, 5, 0, 3, 8]\n",
      "[1, 9, 7, 8]\n",
      "[1, 10, 9, 7, 6, 0, 3, 8]\n",
      "[1, 10, 9, 7, 6, 3, 8]\n",
      "[1, 10, 9, 7, 6, 5, 0, 3, 8]\n",
      "[1, 10, 9, 7, 8]\n",
      "[]\n"
     ]
    },
    {
     "data": {
      "text/plain": [
       "[[1, 5, 0, 3, 6, 7, 8],\n",
       " [1, 5, 0, 3, 8],\n",
       " [1, 5, 0, 6, 3, 8],\n",
       " [1, 5, 0, 6, 7, 8],\n",
       " [1, 5, 6, 0, 3, 8],\n",
       " [1, 5, 6, 3, 8],\n",
       " [1, 5, 6, 7, 8],\n",
       " [1, 9, 7, 6, 0, 3, 8],\n",
       " [1, 9, 7, 6, 3, 8],\n",
       " [1, 9, 7, 6, 5, 0, 3, 8],\n",
       " [1, 9, 7, 8],\n",
       " [1, 10, 9, 7, 6, 0, 3, 8],\n",
       " [1, 10, 9, 7, 6, 3, 8],\n",
       " [1, 10, 9, 7, 6, 5, 0, 3, 8],\n",
       " [1, 10, 9, 7, 8]]"
      ]
     },
     "execution_count": 483,
     "metadata": {},
     "output_type": "execute_result"
    }
   ],
   "source": [
    "distancegraph = Graph(11)  \n",
    "distancegraph.addEdge(0,3)\n",
    "distancegraph.addEdge(0,5)\n",
    "distancegraph.addEdge(0,6)\n",
    "distancegraph.addEdge(1,5)\n",
    "distancegraph.addEdge(1,9)\n",
    "distancegraph.addEdge(1,10)\n",
    "distancegraph.addEdge(2,4)\n",
    "distancegraph.addEdge(2,8)\n",
    "distancegraph.addEdge(3,0)\n",
    "distancegraph.addEdge(3,6)\n",
    "distancegraph.addEdge(3,8)\n",
    "distancegraph.addEdge(4,2)\n",
    "distancegraph.addEdge(4,9)\n",
    "distancegraph.addEdge(5,0)\n",
    "distancegraph.addEdge(5,1)\n",
    "distancegraph.addEdge(5,6)\n",
    "distancegraph.addEdge(6,0)\n",
    "distancegraph.addEdge(6,3)\n",
    "distancegraph.addEdge(6,5)\n",
    "distancegraph.addEdge(6,7)\n",
    "distancegraph.addEdge(7,6)\n",
    "distancegraph.addEdge(7,8)\n",
    "distancegraph.addEdge(7,9)\n",
    "distancegraph.addEdge(8,2)\n",
    "distancegraph.addEdge(8,3)\n",
    "distancegraph.addEdge(8,7)\n",
    "distancegraph.addEdge(9,1)\n",
    "distancegraph.addEdge(9,7)\n",
    "distancegraph.addEdge(9,10)\n",
    "distancegraph.addEdge(10,1)\n",
    "distancegraph.addEdge(10,9)\n",
    "distancegraph.printAllPaths(1,8)\n",
    "distancegraph.paths"
   ]
  },
  {
   "cell_type": "code",
   "execution_count": 484,
   "metadata": {},
   "outputs": [
    {
     "data": {
      "text/plain": [
       "[<matplotlib.lines.Line2D at 0x262037b7d00>]"
      ]
     },
     "execution_count": 484,
     "metadata": {},
     "output_type": "execute_result"
    },
    {
     "data": {
      "image/png": "[encoded data removed]",
      "text/plain": [
       "<Figure size 432x288 with 1 Axes>"
      ]
     },
     "metadata": {
      "needs_background": "light"
     },
     "output_type": "display_data"
    }
   ],
   "source": [
    "#fitness list calculated by adding weights\n",
    "\n",
    "fitness_list = []\n",
    "temp = []\n",
    "sum = 0\n",
    "for i in range(len(distancegraph.paths)):\n",
    "  for j in range(len(distancegraph.paths[i])-1):\n",
    "    x = distancegraph.paths[i][j]\n",
    "    y = distancegraph.paths[i][j+1]\n",
    "    sum = sum + ist_mat[x][y]\n",
    "    x =0\n",
    "    y = 0\n",
    "  fitness_list.append(sum)\n",
    "  sum = 0\n",
    "\n",
    "\n",
    "fitness_list\n",
    "\n",
    "#plot fitness_list\n",
    "plt.plot(fitness_list)\n",
    "\n"
   ]
  },
  {
   "cell_type": "code",
   "execution_count": 485,
   "metadata": {},
   "outputs": [],
   "source": [
    "fitness_list\n",
    "\n",
    "#finding max fitness value path\n",
    "max_value = max(fitness_list)\n",
    "max_index = fitness_list.index(max_value)\n",
    "\n",
    "min_value = min(fitness_list)\n",
    "min_index = fitness_list.index(min_value)\n",
    "\n",
    "a = distancegraph.paths[min_index]\n",
    "temp_fitness_list = fitness_list\n",
    "pre_fitness_list = fitness_list.copy()\n",
    "\n",
    "temp_fitness_list[min_index] = 1000\n",
    "\n",
    "second_min_value = min(temp_fitness_list)\n",
    "second_min_index = temp_fitness_list.index(second_min_value)\n",
    "\n",
    "\n",
    "\n",
    "b = distancegraph.paths[second_min_index]"
   ]
  },
  {
   "cell_type": "code",
   "execution_count": 486,
   "metadata": {},
   "outputs": [
    {
     "name": "stdout",
     "output_type": "stream",
     "text": [
      "Best path or parent(having fitness value or distance =  [1, 9, 7, 8]\n",
      "fitness value =  9.5993\n",
      "Second best path or parent(having second best fitness value or distance =  [1, 5, 0, 3, 8]\n",
      "fitness value =  10.0349\n"
     ]
    }
   ],
   "source": [
    "print (\"Best path or parent(having fitness value or distance = \",a)\n",
    "print (\"fitness value = \", min_value)\n",
    "print (\"Second best path or parent(having second best fitness value or distance = \",b)\n",
    "print (\"fitness value = \", second_min_value)"
   ]
  },
  {
   "cell_type": "code",
   "execution_count": 487,
   "metadata": {},
   "outputs": [
    {
     "data": {
      "text/plain": [
       "[1, 5, 0, 3, 8]"
      ]
     },
     "execution_count": 487,
     "metadata": {},
     "output_type": "execute_result"
    }
   ],
   "source": [
    "parent1 = list(a)\n",
    "parent2 = list(b)\n",
    "\n",
    "\n",
    "parent1\n",
    "parent2"
   ]
  },
  {
   "cell_type": "code",
   "execution_count": 488,
   "metadata": {},
   "outputs": [
    {
     "name": "stdout",
     "output_type": "stream",
     "text": [
      "[8, 1]\n"
     ]
    }
   ],
   "source": [
    "flag = 0\n",
    "list1_as_set = set(parent1)\n",
    "intersection = list1_as_set.intersection(parent2)\n",
    "\n",
    "if intersection != []:\n",
    "  intersection_as_list = list(intersection)\n",
    "else:\n",
    "  random_intersection_point = random.choice(parent1)\n",
    "  flag = 1\n",
    "\n",
    "print(intersection_as_list)"
   ]
  },
  {
   "cell_type": "code",
   "execution_count": 489,
   "metadata": {},
   "outputs": [
    {
     "data": {
      "text/plain": [
       "1"
      ]
     },
     "execution_count": 489,
     "metadata": {},
     "output_type": "execute_result"
    }
   ],
   "source": [
    "if flag ==1:\n",
    "    final_intersection_point = random_intersection_point\n",
    "else:\n",
    "    final_intersection_point = random.choice(intersection_as_list)\n",
    "\n",
    "final_intersection_point"
   ]
  },
  {
   "cell_type": "code",
   "execution_count": 490,
   "metadata": {},
   "outputs": [],
   "source": [
    "parent1 = np.array(parent1)\n",
    "parent2 = np.array(parent2)\n",
    "\n"
   ]
  },
  {
   "cell_type": "code",
   "execution_count": 491,
   "metadata": {},
   "outputs": [
    {
     "name": "stdout",
     "output_type": "stream",
     "text": [
      "[1 5 0 3 8]\n"
     ]
    }
   ],
   "source": [
    "def single_point_crossover(parent1,parent2,final_intersection_point):\n",
    "      child1 = np.append(parent1[:final_intersection_point] , parent2[final_intersection_point:])\n",
    "      child2 = np.append(parent2[:final_intersection_point] , parent1[final_intersection_point:])\n",
    "      return child1\n",
    "\n",
    "child1 = single_point_crossover(parent1 , parent2 , final_intersection_point)\n",
    "print(child1)\n"
   ]
  },
  {
   "cell_type": "code",
   "execution_count": 492,
   "metadata": {},
   "outputs": [
    {
     "data": {
      "text/plain": [
       "[1, 5, 0, 3, 8]"
      ]
     },
     "execution_count": 492,
     "metadata": {},
     "output_type": "execute_result"
    }
   ],
   "source": [
    "#converting child1 to list\n",
    "child1_list = child1.tolist()\n",
    "\n",
    "child1_list"
   ]
  },
  {
   "cell_type": "code",
   "execution_count": 493,
   "metadata": {},
   "outputs": [
    {
     "name": "stdout",
     "output_type": "stream",
     "text": [
      "population updated after Crossover.\n"
     ]
    }
   ],
   "source": [
    "# checking if the new child is present in the population or not\n",
    "def Updating_population(child1_list):\n",
    "        check = False\n",
    "        for i in range(len(distancegraph.paths)):\n",
    "            if child1_list == distancegraph.paths[i]:\n",
    "                check = True\n",
    "                break\n",
    "            else:\n",
    "                check = False \n",
    "\n",
    "        #Updating the population after the Crossover e.g putting new child in population\n",
    "        if check == False:\n",
    "            distancegraph.paths[max_index] = child1_list\n",
    "\n",
    "\n",
    "Updating_population(child1_list)\n",
    "print(\"population updated after Crossover.\")\n"
   ]
  },
  {
   "cell_type": "code",
   "execution_count": null,
   "metadata": {},
   "outputs": [],
   "source": []
  },
  {
   "cell_type": "code",
   "execution_count": 494,
   "metadata": {},
   "outputs": [
    {
     "ename": "IndexError",
     "evalue": "list assignment index out of range",
     "output_type": "error",
     "traceback": [
      "\u001b[1;31m---------------------------------------------------------------------------\u001b[0m",
      "\u001b[1;31mIndexError\u001b[0m                                Traceback (most recent call last)",
      "\u001b[1;32m~\\AppData\\Local\\Temp/ipykernel_10884/630833694.py\u001b[0m in \u001b[0;36m<module>\u001b[1;34m\u001b[0m\n\u001b[0;32m     10\u001b[0m \u001b[1;32mfor\u001b[0m \u001b[0mi\u001b[0m \u001b[1;32min\u001b[0m \u001b[0mrange\u001b[0m\u001b[1;33m(\u001b[0m\u001b[1;36m9\u001b[0m\u001b[1;33m)\u001b[0m\u001b[1;33m:\u001b[0m\u001b[1;33m\u001b[0m\u001b[1;33m\u001b[0m\u001b[0m\n\u001b[0;32m     11\u001b[0m     \u001b[1;32mif\u001b[0m\u001b[1;33m(\u001b[0m\u001b[0mrandom_index\u001b[0m\u001b[1;33m!=\u001b[0m\u001b[0mmax_index\u001b[0m\u001b[1;33m)\u001b[0m\u001b[1;33m:\u001b[0m\u001b[1;33m\u001b[0m\u001b[1;33m\u001b[0m\u001b[0m\n\u001b[1;32m---> 12\u001b[1;33m         \u001b[0mdistancegraph\u001b[0m\u001b[1;33m.\u001b[0m\u001b[0mpaths\u001b[0m\u001b[1;33m[\u001b[0m\u001b[0mrandom_index\u001b[0m\u001b[1;33m]\u001b[0m \u001b[1;33m=\u001b[0m \u001b[0mmutation\u001b[0m\u001b[1;33m(\u001b[0m\u001b[0munmutated_chromosome\u001b[0m\u001b[1;33m)\u001b[0m\u001b[1;33m\u001b[0m\u001b[1;33m\u001b[0m\u001b[0m\n\u001b[0m\u001b[0;32m     13\u001b[0m \u001b[1;33m\u001b[0m\u001b[0m\n\u001b[0;32m     14\u001b[0m \u001b[1;33m\u001b[0m\u001b[0m\n",
      "\u001b[1;32m~\\AppData\\Local\\Temp/ipykernel_10884/630833694.py\u001b[0m in \u001b[0;36mmutation\u001b[1;34m(chromosome)\u001b[0m\n\u001b[0;32m      3\u001b[0m \u001b[1;32mdef\u001b[0m \u001b[0mmutation\u001b[0m \u001b[1;33m(\u001b[0m\u001b[0mchromosome\u001b[0m\u001b[1;33m)\u001b[0m\u001b[1;33m:\u001b[0m\u001b[1;33m\u001b[0m\u001b[1;33m\u001b[0m\u001b[0m\n\u001b[0;32m      4\u001b[0m     \u001b[0mmutated_chromosome\u001b[0m \u001b[1;33m=\u001b[0m \u001b[0mchromosome\u001b[0m\u001b[1;33m\u001b[0m\u001b[1;33m\u001b[0m\u001b[0m\n\u001b[1;32m----> 5\u001b[1;33m     \u001b[0mmutated_chromosome\u001b[0m\u001b[1;33m[\u001b[0m\u001b[0mrandom\u001b[0m\u001b[1;33m.\u001b[0m\u001b[0mrandint\u001b[0m\u001b[1;33m(\u001b[0m\u001b[1;36m0\u001b[0m\u001b[1;33m,\u001b[0m\u001b[0mlen\u001b[0m\u001b[1;33m(\u001b[0m\u001b[0mmutated_chromosome\u001b[0m\u001b[1;33m)\u001b[0m\u001b[1;33m)\u001b[0m\u001b[1;33m]\u001b[0m \u001b[1;33m=\u001b[0m \u001b[0mrandom\u001b[0m\u001b[1;33m.\u001b[0m\u001b[0mrandint\u001b[0m\u001b[1;33m(\u001b[0m\u001b[1;36m0\u001b[0m\u001b[1;33m,\u001b[0m\u001b[1;36m7\u001b[0m\u001b[1;33m)\u001b[0m\u001b[1;33m\u001b[0m\u001b[1;33m\u001b[0m\u001b[0m\n\u001b[0m\u001b[0;32m      6\u001b[0m     \u001b[1;32mreturn\u001b[0m \u001b[0mmutated_chromosome\u001b[0m\u001b[1;33m\u001b[0m\u001b[1;33m\u001b[0m\u001b[0m\n\u001b[0;32m      7\u001b[0m \u001b[1;33m\u001b[0m\u001b[0m\n",
      "\u001b[1;31mIndexError\u001b[0m: list assignment index out of range"
     ]
    }
   ],
   "source": [
    "#mutation done\n",
    "\n",
    "def mutation (chromosome):\n",
    "    mutated_chromosome = chromosome\n",
    "    mutated_chromosome[random.randint(0,len(mutated_chromosome))] = random.randint(0,7)\n",
    "    return mutated_chromosome\n",
    "\n",
    "random_index = random.randint(0,7)\n",
    "unmutated_chromosome = distancegraph.paths[random_index]\n",
    "distancegraph.paths[random_index] = mutation(unmutated_chromosome)\n",
    "\n",
    "\n"
   ]
  },
  {
   "cell_type": "code",
   "execution_count": null,
   "metadata": {},
   "outputs": [
    {
     "data": {
      "text/plain": [
       "[15.797199999999998,\n",
       " 10.0349,\n",
       " 16.1064,\n",
       " 14.264100000000001,\n",
       " 16.396,\n",
       " 14.7969,\n",
       " 12.954600000000001,\n",
       " 19.4555,\n",
       " 17.8564,\n",
       " 20.1976,\n",
       " 21.2904,\n",
       " 19.691300000000002,\n",
       " 22.032500000000002,\n",
       " 11.4342]"
      ]
     },
     "execution_count": 452,
     "metadata": {},
     "output_type": "execute_result"
    },
    {
     "data": {
      "image/png": "[encoded data removed]",
      "text/plain": [
       "<Figure size 432x288 with 1 Axes>"
      ]
     },
     "metadata": {
      "needs_background": "light"
     },
     "output_type": "display_data"
    }
   ],
   "source": [
    "#plot all the paths in distancegraph paths\n",
    "#remove 1000 from fitness list\n",
    "fitness_list.remove(1000)\n",
    "plt.plot(pre_fitness_list)\n",
    "plt.plot(fitness_list)\n",
    "\n",
    "fitness_list"
   ]
  }
 ],
 "metadata": {
  "interpreter": {
   "hash": "bb8a3a1323f3c340db4ed9b667a7574bb3d09f377c2e3b6d53cc22a1278630b4"
  },
  "kernelspec": {
   "display_name": "Python 3.9.1 64-bit",
   "name": "python3"
  },
  "language_info": {
   "codemirror_mode": {
    "name": "ipython",
    "version": 3
   },
   "file_extension": ".py",
   "mimetype": "text/x-python",
   "name": "python",
   "nbconvert_exporter": "python",
   "pygments_lexer": "ipython3",
   "version": "3.9.6"
  },
  "orig_nbformat": 4
 },
 "nbformat": 4,
 "nbformat_minor": 2
}
