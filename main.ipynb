{
 "cells": [
  {
   "cell_type": "code",
   "execution_count": 2841,
   "metadata": {},
   "outputs": [],
   "source": [
    "import numpy as np\n",
    "import pandas as pd\n",
    "import matplotlib.pyplot as plt\n",
    "import seaborn as sns\n",
    "import os\n",
    "import sys\n",
    "import time\n",
    "import datetime\n",
    "import random\n",
    "import io\n",
    "import folium\n",
    "from dgraph import *\n",
    "from numpy import random as np_random\n",
    "from scipy.spatial import distance_matrix\n",
    "from collections import defaultdict\n",
    "\n"
   ]
  },
  {
   "cell_type": "code",
   "execution_count": 2842,
   "metadata": {},
   "outputs": [],
   "source": [
    "#Graph Class taken from : https://www.geeksforgeeks.org/find-paths-given-source-destination/\n",
    "\n",
    "class Graph:\n",
    " \n",
    "    def __init__(self, vertices):\n",
    "        # No. of vertices\n",
    "        self.V = vertices \n",
    "        self.paths = []\n",
    "        # default dictionary to store graph\n",
    "        self.graph = defaultdict(list) \n",
    " \n",
    "    # function to add an edge to graph\n",
    "    def addEdge(self, u, v):\n",
    "        self.graph[u].append(v)\n",
    " \n",
    "    '''A recursive function to print all paths from 'u' to 'd'.\n",
    "    visited[] keeps track of vertices in current path.\n",
    "    path[] stores actual vertices and path_index is current\n",
    "    index in path[]'''\n",
    "    def printAllPathsUtil(self, u, d, visited, path):\n",
    "\n",
    "        # Mark the current node as visited and store in path\n",
    "        visited[u]= True\n",
    "        path.append(u)\n",
    "\n",
    "        # If current vertex is same as destination, then print\n",
    "        # current path[]\n",
    "        if u == d:\n",
    "            print (path)\n",
    "            l2 = path\n",
    "            self.paths.append(l2.copy())\n",
    "        else:\n",
    "            # If current vertex is not destination\n",
    "            # Recur for all the vertices adjacent to this vertex\n",
    "            for i in self.graph[u]:\n",
    "                if visited[i]== False:\n",
    "                    self.printAllPathsUtil(i, d, visited, path)\n",
    "                    \n",
    "        # Remove current vertex from path[] and mark it as unvisited\n",
    "        path.pop()\n",
    "        visited[u]= False\n",
    " \n",
    " \n",
    "    # Prints all paths from 's' to 'd'\n",
    "    def printAllPaths(self, s, d):\n",
    "\n",
    "        # Mark all the vertices as not visited\n",
    "        visited =[False]*(self.V)\n",
    "\n",
    "        # Create an array to store paths\n",
    "        path = []\n",
    "\n",
    "        # Call the recursive helper function to print all paths\n",
    "        self.printAllPathsUtil(s, d, visited, path)\n",
    "        print (path)\n",
    "  "
   ]
  },
  {
   "cell_type": "code",
   "execution_count": 2843,
   "metadata": {},
   "outputs": [],
   "source": [
    "#functions\n",
    "\n",
    "#HERE I USED FOLIUM TO CREATE A MAP WHICH PLACES THE VALUES IN THE DATASET ON THE MAP\n",
    "\n",
    "def Create_map(df):\n",
    "        x  = []\n",
    "        y = []\n",
    "        for i in range(8):\n",
    "                x.append(np_random.uniform(24.86, 34.0, size=1))\n",
    "                y.append(np_random.uniform(67.01,74.3436,size=1))\n",
    "\n",
    "        map = folium.Map(location=[df.Lattitude.mean(), df.Longitude.mean()], zoom_start=12,control_scale=True)\n",
    "        #folium place markers\n",
    "        for lat, lng, label in zip(df.Lattitude, df.Longitude, df.City):\n",
    "            folium.Marker(location=[lat, lng], popup=label, marker_color='red').add_to(map)\n",
    "        display(map)\n",
    "\n",
    "\n",
    "#THIS IS A BASIC PLOT OF THE POints\n",
    "#plot the lang and lat\n",
    "\n",
    "def Create_Stations_and_Obstacles(df):\n",
    "\n",
    "        plt.figure(figsize=(10,10))\n",
    "        plt.scatter(df.Longitude, df.Lattitude)\n",
    "        plt.xlabel('Longitude')\n",
    "        plt.ylabel('Lattitude')\n",
    "\n",
    "        rectangle = plt.Rectangle((69.05499773,27.30419314), 0.38, 0.95, fc='red',ec=\"red\")\n",
    "        #use y[1] and x[1] to get the coordinates of the rectangle\n",
    "        rectangle2 = plt.Rectangle((68.40579368,32.2244921), 0.38,0.95 , fc='red',ec=\"red\")\n",
    "        #use y[2] and x[2] to get the coordinates of the rectangle\n",
    "        rectangle3 = plt.Rectangle((73.95673648,30.2707003), 0.38, 0.95, fc='red',ec=\"red\")\n",
    "        #use y[3] and x[3] to get the coordinates of the rectangle\n",
    "        rectangle4 = plt.Rectangle((69.65336426,31.05971192), 0.38, 0.95, fc='red',ec=\"red\")\n",
    "        #use y[4] and x[4] to get the coordinates of the rectangle\n",
    "        rectangle5 = plt.Rectangle((73.52528668,26.72029817), 0.38, 0.95, fc='red',ec=\"red\")\n",
    "        #use y[5] and x[5] to get the coordinates of the rectangle\n",
    "        rectangle6 = plt.Rectangle((72.34731228,31.6979375), 0.38, 0.95, fc='red',ec=\"red\")\n",
    "        #use y[6] and x[6] to get the coordinates of the rectangle\n",
    "        rectangle7 = plt.Rectangle((67.32759484,27.59375763), 0.38, 0.95, fc='red',ec=\"red\")\n",
    "        #use y[7] and x[7] to get the coordinates of the rectangle\n",
    "        rectangle8 = plt.Rectangle((72.11769889,25.95242895), 0.38, 0.95, fc='red',ec=\"red\")\n",
    "        #use y[8] and x[8] to get the coordinates of the rectangle\n",
    "\n",
    "        plt.gca().add_patch(rectangle)\n",
    "        plt.gca().add_patch(rectangle2)\n",
    "        plt.gca().add_patch(rectangle3)\n",
    "        plt.gca().add_patch(rectangle4)\n",
    "        plt.gca().add_patch(rectangle5)\n",
    "        plt.gca().add_patch(rectangle6)\n",
    "        plt.gca().add_patch(rectangle7)\n",
    "        plt.gca().add_patch(rectangle8)\n",
    "\n",
    "        plt.axis('scaled')\n",
    "        plt.show()        \n",
    "\n",
    "\n",
    "\n",
    "\n",
    "def Calcluate_distance_Matrix(df):\n",
    "        counter = 0\n",
    "        distances = []\n",
    "        cities =[]\n",
    "        for i in range(len(df)):\n",
    "            cities.append(df.City[i])\n",
    "        data = []\n",
    "        for i in range(len(df)):\n",
    "            l2 = [df.iloc[i].Longitude, df.iloc[i].Lattitude]\n",
    "            #print(l2)\n",
    "            data.append(l2)\n",
    "        df = pd.DataFrame(data, columns=['xcord', 'ycord'], index=cities)\n",
    "        dist_m = pd.DataFrame(distance_matrix(df.values, df.values), index=df.index, columns=df.index)\n",
    "        dist_m.to_csv('dist_m.csv')\n",
    "\n",
    "\n",
    "\n",
    "def Calculate_fitness(distancegraph_list ):\n",
    "    fitness_list = []\n",
    "    temp = []\n",
    "    sum = 0\n",
    "    for i in range(len(distancegraph_list)):\n",
    "      for j in range(len(distancegraph_list[i])-1):\n",
    "        x = distancegraph_list[i][j]\n",
    "        y = distancegraph_list[i][j+1]\n",
    "        sum = sum + ist_mat[x][y]\n",
    "        x =0\n",
    "        y = 0\n",
    "      fitness_list.append(sum)\n",
    "      sum = 0\n",
    "    return fitness_list  \n",
    "\n",
    "\n",
    "def Calculate_max_fitness(fitness_list):\n",
    "    max_value = max(fitness_list)\n",
    "    max_index = fitness_list.index(max_value)\n",
    "    return max_index\n",
    "\n",
    "def Calculate_Parents(fitness_list):\n",
    "    min_value = min(fitness_list)\n",
    "    min_index = fitness_list.index(min_value)\n",
    "\n",
    "    a = distancegraph.paths[min_index]\n",
    "    temp_fitness_list = fitness_list\n",
    "    pre_fitness_list = fitness_list\n",
    "\n",
    "    temp_fitness_list.remove(min_value)\n",
    "\n",
    "    second_min_value = min(temp_fitness_list)\n",
    "    second_min_index = temp_fitness_list.index(second_min_value)\n",
    "\n",
    "    b = distancegraph.paths[second_min_index]\n",
    "\n",
    "    temp_fitness_list.insert(0,min_value)\n",
    "\n",
    "    return a,b\n",
    "\n",
    "\n",
    "def Calculate_Crossover_Inetersection_Point(a,b):\n",
    "    parent1 = list(a)\n",
    "    parent2 = list(b)\n",
    "\n",
    "    flag = 0\n",
    "    list1_as_set = set(parent1)\n",
    "    intersection = list1_as_set.intersection(parent2)\n",
    "\n",
    "    if intersection != []:\n",
    "      intersection_as_list = list(intersection)\n",
    "    else:\n",
    "      random_intersection_point = random.choice(parent1)\n",
    "      flag = 1\n",
    "    if flag ==1:\n",
    "        final_intersection_point = random_intersection_point\n",
    "    else:\n",
    "        final_intersection_point = random.choice(intersection_as_list)\n",
    "    return final_intersection_point\n",
    "\n",
    "\n",
    "def single_point_crossover(a,b,final_intersection_point):\n",
    "      parent1 = np.array(a)\n",
    "      parent2 = np.array(b)\n",
    "      child1 = np.append(parent1[:final_intersection_point] , parent2[final_intersection_point:])\n",
    "      child2 = np.append(parent2[:final_intersection_point] , parent1[final_intersection_point:])\n",
    "\n",
    "      #converting child1 to list\n",
    "      child1_list = child1.tolist()\n",
    "      child1_list\n",
    "\n",
    "      return child1_list\n",
    "\n",
    "def Updating_population(child1_list):\n",
    "        check = False\n",
    "        for i in range(len(distancegraph.paths)):\n",
    "            if child1_list == distancegraph.paths[i]:\n",
    "                check = True\n",
    "                break\n",
    "            else:\n",
    "                check = False \n",
    "\n",
    "        #Updating the population after the Crossover e.g putting new child in population\n",
    "        if check == False:\n",
    "            distancegraph.paths[max_index] = child1_list\n",
    "\n",
    "\n",
    "def mutation (chromosome):\n",
    "    mutated_chromosome = chromosome\n",
    "    mutated_chromosome[1] = random.randint(0,10)\n",
    "    return mutated_chromosome    \n",
    "\n",
    "\n",
    "\n"
   ]
  },
  {
   "cell_type": "code",
   "execution_count": 2844,
   "metadata": {},
   "outputs": [
    {
     "data": {
      "text/html": [
       "<div>\n",
       "<style scoped>\n",
       "    .dataframe tbody tr th:only-of-type {\n",
       "        vertical-align: middle;\n",
       "    }\n",
       "\n",
       "    .dataframe tbody tr th {\n",
       "        vertical-align: top;\n",
       "    }\n",
       "\n",
       "    .dataframe thead th {\n",
       "        text-align: right;\n",
       "    }\n",
       "</style>\n",
       "<table border=\"1\" class=\"dataframe\">\n",
       "  <thead>\n",
       "    <tr style=\"text-align: right;\">\n",
       "      <th></th>\n",
       "      <th>City</th>\n",
       "      <th>Lattitude</th>\n",
       "      <th>Longitude</th>\n",
       "    </tr>\n",
       "  </thead>\n",
       "  <tbody>\n",
       "    <tr>\n",
       "      <th>0</th>\n",
       "      <td>Islamabad</td>\n",
       "      <td>33.6989</td>\n",
       "      <td>73.0369</td>\n",
       "    </tr>\n",
       "    <tr>\n",
       "      <th>1</th>\n",
       "      <td>Lahore</td>\n",
       "      <td>31.5497</td>\n",
       "      <td>74.3436</td>\n",
       "    </tr>\n",
       "    <tr>\n",
       "      <th>2</th>\n",
       "      <td>Karachi</td>\n",
       "      <td>24.8600</td>\n",
       "      <td>67.0100</td>\n",
       "    </tr>\n",
       "    <tr>\n",
       "      <th>3</th>\n",
       "      <td>Peshawar</td>\n",
       "      <td>34.0000</td>\n",
       "      <td>71.5000</td>\n",
       "    </tr>\n",
       "    <tr>\n",
       "      <th>4</th>\n",
       "      <td>Hyderabad</td>\n",
       "      <td>25.3792</td>\n",
       "      <td>68.3683</td>\n",
       "    </tr>\n",
       "  </tbody>\n",
       "</table>\n",
       "</div>"
      ],
      "text/plain": [
       "        City  Lattitude  Longitude\n",
       "0  Islamabad    33.6989    73.0369\n",
       "1     Lahore    31.5497    74.3436\n",
       "2    Karachi    24.8600    67.0100\n",
       "3   Peshawar    34.0000    71.5000\n",
       "4  Hyderabad    25.3792    68.3683"
      ]
     },
     "execution_count": 2844,
     "metadata": {},
     "output_type": "execute_result"
    }
   ],
   "source": [
    "df = pd.read_csv('data.csv')\n",
    "df.head()"
   ]
  },
  {
   "cell_type": "code",
   "execution_count": 2845,
   "metadata": {},
   "outputs": [],
   "source": [
    " #HERE I CALCULATE THE  min/max lang/lat values\n",
    "values =(df.Longitude.min(), df.Lattitude.min(), df.Longitude.max(), df.Lattitude.max())\n"
   ]
  },
  {
   "cell_type": "code",
   "execution_count": 2846,
   "metadata": {},
   "outputs": [
    {
     "data": {
      "text/html": [
       "<div style=\"width:100%;\"><div style=\"position:relative;width:100%;height:0;padding-bottom:60%;\"><span style=\"color:#565656\">Make this Notebook Trusted to load map: File -> Trust Notebook</span><iframe src=\"about:blank\" style=\"position:absolute;width:100%;height:100%;left:0;top:0;border:none !important;\" data-html=%3C%21DOCTYPE%20html%3E%0A%3Chead%3E%20%20%20%20%0A%20%20%20%20%3Cmeta%20http-equiv%3D%22content-type%22%20content%3D%22text/html%3B%20charset%3DUTF-8%22%20/%3E%0A%20%20%20%20%0A%20%20%20%20%20%20%20%20%3Cscript%3E%0A%20%20%20%20%20%20%20%20%20%20%20%20L_NO_TOUCH%20%3D%20false%3B%0A%20%20%20%20%20%20%20%20%20%20%20%20L_DISABLE_3D%20%3D%20false%3B%0A%20%20%20%20%20%20%20%20%3C/script%3E%0A%20%20%20%20%0A%20%20%20%20%3Cstyle%3Ehtml%2C%20body%20%7Bwidth%3A%20100%25%3Bheight%3A%20100%25%3Bmargin%3A%200%3Bpadding%3A%200%3B%7D%3C/style%3E%0A%20%20%20%20%3Cstyle%3E%23map%20%7Bposition%3Aabsolute%3Btop%3A0%3Bbottom%3A0%3Bright%3A0%3Bleft%3A0%3B%7D%3C/style%3E%0A%20%20%20%20%3Cscript%20src%3D%22https%3A//cdn.jsdelivr.net/npm/leaflet%401.6.0/dist/leaflet.js%22%3E%3C/script%3E%0A%20%20%20%20%3Cscript%20src%3D%22https%3A//code.jquery.com/jquery-1.12.4.min.js%22%3E%3C/script%3E%0A%20%20%20%20%3Cscript%20src%3D%22https%3A//maxcdn.bootstrapcdn.com/bootstrap/3.2.0/js/bootstrap.min.js%22%3E%3C/script%3E%0A%20%20%20%20%3Cscript%20src%3D%22https%3A//cdnjs.cloudflare.com/ajax/libs/Leaflet.awesome-markers/2.0.2/leaflet.awesome-markers.js%22%3E%3C/script%3E%0A%20%20%20%20%3Clink%20rel%3D%22stylesheet%22%20href%3D%22https%3A//cdn.jsdelivr.net/npm/leaflet%401.6.0/dist/leaflet.css%22/%3E%0A%20%20%20%20%3Clink%20rel%3D%22stylesheet%22%20href%3D%22https%3A//maxcdn.bootstrapcdn.com/bootstrap/3.2.0/css/bootstrap.min.css%22/%3E%0A%20%20%20%20%3Clink%20rel%3D%22stylesheet%22%20href%3D%22https%3A//maxcdn.bootstrapcdn.com/bootstrap/3.2.0/css/bootstrap-theme.min.css%22/%3E%0A%20%20%20%20%3Clink%20rel%3D%22stylesheet%22%20href%3D%22https%3A//maxcdn.bootstrapcdn.com/font-awesome/4.6.3/css/font-awesome.min.css%22/%3E%0A%20%20%20%20%3Clink%20rel%3D%22stylesheet%22%20href%3D%22https%3A//cdnjs.cloudflare.com/ajax/libs/Leaflet.awesome-markers/2.0.2/leaflet.awesome-markers.css%22/%3E%0A%20%20%20%20%3Clink%20rel%3D%22stylesheet%22%20href%3D%22https%3A//cdn.jsdelivr.net/gh/python-visualization/folium/folium/templates/leaflet.awesome.rotate.min.css%22/%3E%0A%20%20%20%20%0A%20%20%20%20%20%20%20%20%20%20%20%20%3Cmeta%20name%3D%22viewport%22%20content%3D%22width%3Ddevice-width%2C%0A%20%20%20%20%20%20%20%20%20%20%20%20%20%20%20%20initial-scale%3D1.0%2C%20maximum-scale%3D1.0%2C%20user-scalable%3Dno%22%20/%3E%0A%20%20%20%20%20%20%20%20%20%20%20%20%3Cstyle%3E%0A%20%20%20%20%20%20%20%20%20%20%20%20%20%20%20%20%23map_29672af8646848d8b8529039736dbd52%20%7B%0A%20%20%20%20%20%20%20%20%20%20%20%20%20%20%20%20%20%20%20%20position%3A%20relative%3B%0A%20%20%20%20%20%20%20%20%20%20%20%20%20%20%20%20%20%20%20%20width%3A%20100.0%25%3B%0A%20%20%20%20%20%20%20%20%20%20%20%20%20%20%20%20%20%20%20%20height%3A%20100.0%25%3B%0A%20%20%20%20%20%20%20%20%20%20%20%20%20%20%20%20%20%20%20%20left%3A%200.0%25%3B%0A%20%20%20%20%20%20%20%20%20%20%20%20%20%20%20%20%20%20%20%20top%3A%200.0%25%3B%0A%20%20%20%20%20%20%20%20%20%20%20%20%20%20%20%20%7D%0A%20%20%20%20%20%20%20%20%20%20%20%20%3C/style%3E%0A%20%20%20%20%20%20%20%20%0A%3C/head%3E%0A%3Cbody%3E%20%20%20%20%0A%20%20%20%20%0A%20%20%20%20%20%20%20%20%20%20%20%20%3Cdiv%20class%3D%22folium-map%22%20id%3D%22map_29672af8646848d8b8529039736dbd52%22%20%3E%3C/div%3E%0A%20%20%20%20%20%20%20%20%0A%3C/body%3E%0A%3Cscript%3E%20%20%20%20%0A%20%20%20%20%0A%20%20%20%20%20%20%20%20%20%20%20%20var%20map_29672af8646848d8b8529039736dbd52%20%3D%20L.map%28%0A%20%20%20%20%20%20%20%20%20%20%20%20%20%20%20%20%22map_29672af8646848d8b8529039736dbd52%22%2C%0A%20%20%20%20%20%20%20%20%20%20%20%20%20%20%20%20%7B%0A%20%20%20%20%20%20%20%20%20%20%20%20%20%20%20%20%20%20%20%20center%3A%20%5B30.689472100000003%2C%2070.94217836363636%5D%2C%0A%20%20%20%20%20%20%20%20%20%20%20%20%20%20%20%20%20%20%20%20crs%3A%20L.CRS.EPSG3857%2C%0A%20%20%20%20%20%20%20%20%20%20%20%20%20%20%20%20%20%20%20%20zoom%3A%2012%2C%0A%20%20%20%20%20%20%20%20%20%20%20%20%20%20%20%20%20%20%20%20zoomControl%3A%20true%2C%0A%20%20%20%20%20%20%20%20%20%20%20%20%20%20%20%20%20%20%20%20preferCanvas%3A%20false%2C%0A%20%20%20%20%20%20%20%20%20%20%20%20%20%20%20%20%7D%0A%20%20%20%20%20%20%20%20%20%20%20%20%29%3B%0A%20%20%20%20%20%20%20%20%20%20%20%20L.control.scale%28%29.addTo%28map_29672af8646848d8b8529039736dbd52%29%3B%0A%0A%20%20%20%20%20%20%20%20%20%20%20%20%0A%0A%20%20%20%20%20%20%20%20%0A%20%20%20%20%0A%20%20%20%20%20%20%20%20%20%20%20%20var%20tile_layer_640fa414c68c4cbcbd2287714ee78644%20%3D%20L.tileLayer%28%0A%20%20%20%20%20%20%20%20%20%20%20%20%20%20%20%20%22https%3A//%7Bs%7D.tile.openstreetmap.org/%7Bz%7D/%7Bx%7D/%7By%7D.png%22%2C%0A%20%20%20%20%20%20%20%20%20%20%20%20%20%20%20%20%7B%22attribution%22%3A%20%22Data%20by%20%5Cu0026copy%3B%20%5Cu003ca%20href%3D%5C%22http%3A//openstreetmap.org%5C%22%5Cu003eOpenStreetMap%5Cu003c/a%5Cu003e%2C%20under%20%5Cu003ca%20href%3D%5C%22http%3A//www.openstreetmap.org/copyright%5C%22%5Cu003eODbL%5Cu003c/a%5Cu003e.%22%2C%20%22detectRetina%22%3A%20false%2C%20%22maxNativeZoom%22%3A%2018%2C%20%22maxZoom%22%3A%2018%2C%20%22minZoom%22%3A%200%2C%20%22noWrap%22%3A%20false%2C%20%22opacity%22%3A%201%2C%20%22subdomains%22%3A%20%22abc%22%2C%20%22tms%22%3A%20false%7D%0A%20%20%20%20%20%20%20%20%20%20%20%20%29.addTo%28map_29672af8646848d8b8529039736dbd52%29%3B%0A%20%20%20%20%20%20%20%20%0A%20%20%20%20%0A%20%20%20%20%20%20%20%20%20%20%20%20var%20marker_0f07cedd0fca4033ab24418865274161%20%3D%20L.marker%28%0A%20%20%20%20%20%20%20%20%20%20%20%20%20%20%20%20%5B33.6989%2C%2073.0369%5D%2C%0A%20%20%20%20%20%20%20%20%20%20%20%20%20%20%20%20%7B%22markerColor%22%3A%20%22red%22%7D%0A%20%20%20%20%20%20%20%20%20%20%20%20%29.addTo%28map_29672af8646848d8b8529039736dbd52%29%3B%0A%20%20%20%20%20%20%20%20%0A%20%20%20%20%0A%20%20%20%20%20%20%20%20var%20popup_b083e3bd747348dcb9931aefd9bd3a17%20%3D%20L.popup%28%7B%22maxWidth%22%3A%20%22100%25%22%7D%29%3B%0A%0A%20%20%20%20%20%20%20%20%0A%20%20%20%20%20%20%20%20%20%20%20%20var%20html_6e0d71feb5ee4a8db55abf136c58160b%20%3D%20%24%28%60%3Cdiv%20id%3D%22html_6e0d71feb5ee4a8db55abf136c58160b%22%20style%3D%22width%3A%20100.0%25%3B%20height%3A%20100.0%25%3B%22%3EIslamabad%3C/div%3E%60%29%5B0%5D%3B%0A%20%20%20%20%20%20%20%20%20%20%20%20popup_b083e3bd747348dcb9931aefd9bd3a17.setContent%28html_6e0d71feb5ee4a8db55abf136c58160b%29%3B%0A%20%20%20%20%20%20%20%20%0A%0A%20%20%20%20%20%20%20%20marker_0f07cedd0fca4033ab24418865274161.bindPopup%28popup_b083e3bd747348dcb9931aefd9bd3a17%29%0A%20%20%20%20%20%20%20%20%3B%0A%0A%20%20%20%20%20%20%20%20%0A%20%20%20%20%0A%20%20%20%20%0A%20%20%20%20%20%20%20%20%20%20%20%20var%20marker_b4cf4d662b694c0aa186d27e4313add2%20%3D%20L.marker%28%0A%20%20%20%20%20%20%20%20%20%20%20%20%20%20%20%20%5B31.5497%2C%2074.3436%5D%2C%0A%20%20%20%20%20%20%20%20%20%20%20%20%20%20%20%20%7B%22markerColor%22%3A%20%22red%22%7D%0A%20%20%20%20%20%20%20%20%20%20%20%20%29.addTo%28map_29672af8646848d8b8529039736dbd52%29%3B%0A%20%20%20%20%20%20%20%20%0A%20%20%20%20%0A%20%20%20%20%20%20%20%20var%20popup_9c2d495e37834beabc6b9a33649355a4%20%3D%20L.popup%28%7B%22maxWidth%22%3A%20%22100%25%22%7D%29%3B%0A%0A%20%20%20%20%20%20%20%20%0A%20%20%20%20%20%20%20%20%20%20%20%20var%20html_6eea3834bb914ce79ed0d584706c1503%20%3D%20%24%28%60%3Cdiv%20id%3D%22html_6eea3834bb914ce79ed0d584706c1503%22%20style%3D%22width%3A%20100.0%25%3B%20height%3A%20100.0%25%3B%22%3ELahore%3C/div%3E%60%29%5B0%5D%3B%0A%20%20%20%20%20%20%20%20%20%20%20%20popup_9c2d495e37834beabc6b9a33649355a4.setContent%28html_6eea3834bb914ce79ed0d584706c1503%29%3B%0A%20%20%20%20%20%20%20%20%0A%0A%20%20%20%20%20%20%20%20marker_b4cf4d662b694c0aa186d27e4313add2.bindPopup%28popup_9c2d495e37834beabc6b9a33649355a4%29%0A%20%20%20%20%20%20%20%20%3B%0A%0A%20%20%20%20%20%20%20%20%0A%20%20%20%20%0A%20%20%20%20%0A%20%20%20%20%20%20%20%20%20%20%20%20var%20marker_37e5885814d241dcb0e8c174ecc62683%20%3D%20L.marker%28%0A%20%20%20%20%20%20%20%20%20%20%20%20%20%20%20%20%5B24.86%2C%2067.01%5D%2C%0A%20%20%20%20%20%20%20%20%20%20%20%20%20%20%20%20%7B%22markerColor%22%3A%20%22red%22%7D%0A%20%20%20%20%20%20%20%20%20%20%20%20%29.addTo%28map_29672af8646848d8b8529039736dbd52%29%3B%0A%20%20%20%20%20%20%20%20%0A%20%20%20%20%0A%20%20%20%20%20%20%20%20var%20popup_53f8f17d406440d697c4d797ba2167ea%20%3D%20L.popup%28%7B%22maxWidth%22%3A%20%22100%25%22%7D%29%3B%0A%0A%20%20%20%20%20%20%20%20%0A%20%20%20%20%20%20%20%20%20%20%20%20var%20html_0c5a8f1ba0984da5b428881c80ca4698%20%3D%20%24%28%60%3Cdiv%20id%3D%22html_0c5a8f1ba0984da5b428881c80ca4698%22%20style%3D%22width%3A%20100.0%25%3B%20height%3A%20100.0%25%3B%22%3EKarachi%3C/div%3E%60%29%5B0%5D%3B%0A%20%20%20%20%20%20%20%20%20%20%20%20popup_53f8f17d406440d697c4d797ba2167ea.setContent%28html_0c5a8f1ba0984da5b428881c80ca4698%29%3B%0A%20%20%20%20%20%20%20%20%0A%0A%20%20%20%20%20%20%20%20marker_37e5885814d241dcb0e8c174ecc62683.bindPopup%28popup_53f8f17d406440d697c4d797ba2167ea%29%0A%20%20%20%20%20%20%20%20%3B%0A%0A%20%20%20%20%20%20%20%20%0A%20%20%20%20%0A%20%20%20%20%0A%20%20%20%20%20%20%20%20%20%20%20%20var%20marker_f4011b545322462e81d1aacb6499ca87%20%3D%20L.marker%28%0A%20%20%20%20%20%20%20%20%20%20%20%20%20%20%20%20%5B34.0%2C%2071.5%5D%2C%0A%20%20%20%20%20%20%20%20%20%20%20%20%20%20%20%20%7B%22markerColor%22%3A%20%22red%22%7D%0A%20%20%20%20%20%20%20%20%20%20%20%20%29.addTo%28map_29672af8646848d8b8529039736dbd52%29%3B%0A%20%20%20%20%20%20%20%20%0A%20%20%20%20%0A%20%20%20%20%20%20%20%20var%20popup_4390ceae6308472d8d6433c8a89f0887%20%3D%20L.popup%28%7B%22maxWidth%22%3A%20%22100%25%22%7D%29%3B%0A%0A%20%20%20%20%20%20%20%20%0A%20%20%20%20%20%20%20%20%20%20%20%20var%20html_13f9390e9b894a2084944c434ae4a33c%20%3D%20%24%28%60%3Cdiv%20id%3D%22html_13f9390e9b894a2084944c434ae4a33c%22%20style%3D%22width%3A%20100.0%25%3B%20height%3A%20100.0%25%3B%22%3EPeshawar%3C/div%3E%60%29%5B0%5D%3B%0A%20%20%20%20%20%20%20%20%20%20%20%20popup_4390ceae6308472d8d6433c8a89f0887.setContent%28html_13f9390e9b894a2084944c434ae4a33c%29%3B%0A%20%20%20%20%20%20%20%20%0A%0A%20%20%20%20%20%20%20%20marker_f4011b545322462e81d1aacb6499ca87.bindPopup%28popup_4390ceae6308472d8d6433c8a89f0887%29%0A%20%20%20%20%20%20%20%20%3B%0A%0A%20%20%20%20%20%20%20%20%0A%20%20%20%20%0A%20%20%20%20%0A%20%20%20%20%20%20%20%20%20%20%20%20var%20marker_869b44aae90f42c696c403d8f0f4f591%20%3D%20L.marker%28%0A%20%20%20%20%20%20%20%20%20%20%20%20%20%20%20%20%5B25.3792%2C%2068.3683%5D%2C%0A%20%20%20%20%20%20%20%20%20%20%20%20%20%20%20%20%7B%22markerColor%22%3A%20%22red%22%7D%0A%20%20%20%20%20%20%20%20%20%20%20%20%29.addTo%28map_29672af8646848d8b8529039736dbd52%29%3B%0A%20%20%20%20%20%20%20%20%0A%20%20%20%20%0A%20%20%20%20%20%20%20%20var%20popup_d1a78258550c468193892a117585cf12%20%3D%20L.popup%28%7B%22maxWidth%22%3A%20%22100%25%22%7D%29%3B%0A%0A%20%20%20%20%20%20%20%20%0A%20%20%20%20%20%20%20%20%20%20%20%20var%20html_30a76fcf1f9a4694b85baaa321082e2b%20%3D%20%24%28%60%3Cdiv%20id%3D%22html_30a76fcf1f9a4694b85baaa321082e2b%22%20style%3D%22width%3A%20100.0%25%3B%20height%3A%20100.0%25%3B%22%3EHyderabad%3C/div%3E%60%29%5B0%5D%3B%0A%20%20%20%20%20%20%20%20%20%20%20%20popup_d1a78258550c468193892a117585cf12.setContent%28html_30a76fcf1f9a4694b85baaa321082e2b%29%3B%0A%20%20%20%20%20%20%20%20%0A%0A%20%20%20%20%20%20%20%20marker_869b44aae90f42c696c403d8f0f4f591.bindPopup%28popup_d1a78258550c468193892a117585cf12%29%0A%20%20%20%20%20%20%20%20%3B%0A%0A%20%20%20%20%20%20%20%20%0A%20%20%20%20%0A%20%20%20%20%0A%20%20%20%20%20%20%20%20%20%20%20%20var%20marker_c3dec53061c044788d9a2124b6e1822e%20%3D%20L.marker%28%0A%20%20%20%20%20%20%20%20%20%20%20%20%20%20%20%20%5B32.9405%2C%2073.7276%5D%2C%0A%20%20%20%20%20%20%20%20%20%20%20%20%20%20%20%20%7B%22markerColor%22%3A%20%22red%22%7D%0A%20%20%20%20%20%20%20%20%20%20%20%20%29.addTo%28map_29672af8646848d8b8529039736dbd52%29%3B%0A%20%20%20%20%20%20%20%20%0A%20%20%20%20%0A%20%20%20%20%20%20%20%20var%20popup_c46f19a04a004f9bb7ab9884ba816111%20%3D%20L.popup%28%7B%22maxWidth%22%3A%20%22100%25%22%7D%29%3B%0A%0A%20%20%20%20%20%20%20%20%0A%20%20%20%20%20%20%20%20%20%20%20%20var%20html_5fa627cbe1dd40d699cbc86f7047fec9%20%3D%20%24%28%60%3Cdiv%20id%3D%22html_5fa627cbe1dd40d699cbc86f7047fec9%22%20style%3D%22width%3A%20100.0%25%3B%20height%3A%20100.0%25%3B%22%3EJehlum%3C/div%3E%60%29%5B0%5D%3B%0A%20%20%20%20%20%20%20%20%20%20%20%20popup_c46f19a04a004f9bb7ab9884ba816111.setContent%28html_5fa627cbe1dd40d699cbc86f7047fec9%29%3B%0A%20%20%20%20%20%20%20%20%0A%0A%20%20%20%20%20%20%20%20marker_c3dec53061c044788d9a2124b6e1822e.bindPopup%28popup_c46f19a04a004f9bb7ab9884ba816111%29%0A%20%20%20%20%20%20%20%20%3B%0A%0A%20%20%20%20%20%20%20%20%0A%20%20%20%20%0A%20%20%20%20%0A%20%20%20%20%20%20%20%20%20%20%20%20var%20marker_be8bc1d6254a4afa87d9f1c4437bd97d%20%3D%20L.marker%28%0A%20%20%20%20%20%20%20%20%20%20%20%20%20%20%20%20%5B30.1978%2C%2071.4711%5D%2C%0A%20%20%20%20%20%20%20%20%20%20%20%20%20%20%20%20%7B%22markerColor%22%3A%20%22red%22%7D%0A%20%20%20%20%20%20%20%20%20%20%20%20%29.addTo%28map_29672af8646848d8b8529039736dbd52%29%3B%0A%20%20%20%20%20%20%20%20%0A%20%20%20%20%0A%20%20%20%20%20%20%20%20var%20popup_8175719d9065480f82aa3da6a5d0f823%20%3D%20L.popup%28%7B%22maxWidth%22%3A%20%22100%25%22%7D%29%3B%0A%0A%20%20%20%20%20%20%20%20%0A%20%20%20%20%20%20%20%20%20%20%20%20var%20html_2f5ee38accb643ac829b089c0c083bcc%20%3D%20%24%28%60%3Cdiv%20id%3D%22html_2f5ee38accb643ac829b089c0c083bcc%22%20style%3D%22width%3A%20100.0%25%3B%20height%3A%20100.0%25%3B%22%3EMultan%3C/div%3E%60%29%5B0%5D%3B%0A%20%20%20%20%20%20%20%20%20%20%20%20popup_8175719d9065480f82aa3da6a5d0f823.setContent%28html_2f5ee38accb643ac829b089c0c083bcc%29%3B%0A%20%20%20%20%20%20%20%20%0A%0A%20%20%20%20%20%20%20%20marker_be8bc1d6254a4afa87d9f1c4437bd97d.bindPopup%28popup_8175719d9065480f82aa3da6a5d0f823%29%0A%20%20%20%20%20%20%20%20%3B%0A%0A%20%20%20%20%20%20%20%20%0A%20%20%20%20%0A%20%20%20%20%0A%20%20%20%20%20%20%20%20%20%20%20%20var%20marker_178438c1aac347ef816582b21b9c028c%20%3D%20L.marker%28%0A%20%20%20%20%20%20%20%20%20%20%20%20%20%20%20%20%5B33.2536611%2C%2070.496744%5D%2C%0A%20%20%20%20%20%20%20%20%20%20%20%20%20%20%20%20%7B%22markerColor%22%3A%20%22red%22%7D%0A%20%20%20%20%20%20%20%20%20%20%20%20%29.addTo%28map_29672af8646848d8b8529039736dbd52%29%3B%0A%20%20%20%20%20%20%20%20%0A%20%20%20%20%0A%20%20%20%20%20%20%20%20var%20popup_1369fe24b3f64b2c892bbd6af77652c8%20%3D%20L.popup%28%7B%22maxWidth%22%3A%20%22100%25%22%7D%29%3B%0A%0A%20%20%20%20%20%20%20%20%0A%20%20%20%20%20%20%20%20%20%20%20%20var%20html_63ac33a19b2b418b98229daaed5d99f0%20%3D%20%24%28%60%3Cdiv%20id%3D%22html_63ac33a19b2b418b98229daaed5d99f0%22%20style%3D%22width%3A%20100.0%25%3B%20height%3A%20100.0%25%3B%22%3EShewa%3C/div%3E%60%29%5B0%5D%3B%0A%20%20%20%20%20%20%20%20%20%20%20%20popup_1369fe24b3f64b2c892bbd6af77652c8.setContent%28html_63ac33a19b2b418b98229daaed5d99f0%29%3B%0A%20%20%20%20%20%20%20%20%0A%0A%20%20%20%20%20%20%20%20marker_178438c1aac347ef816582b21b9c028c.bindPopup%28popup_1369fe24b3f64b2c892bbd6af77652c8%29%0A%20%20%20%20%20%20%20%20%3B%0A%0A%20%20%20%20%20%20%20%20%0A%20%20%20%20%0A%20%20%20%20%0A%20%20%20%20%20%20%20%20%20%20%20%20var%20marker_446523c8705b4107a33a35031fd5f6e6%20%3D%20L.marker%28%0A%20%20%20%20%20%20%20%20%20%20%20%20%20%20%20%20%5B30.1798%2C%2066.975%5D%2C%0A%20%20%20%20%20%20%20%20%20%20%20%20%20%20%20%20%7B%22markerColor%22%3A%20%22red%22%7D%0A%20%20%20%20%20%20%20%20%20%20%20%20%29.addTo%28map_29672af8646848d8b8529039736dbd52%29%3B%0A%20%20%20%20%20%20%20%20%0A%20%20%20%20%0A%20%20%20%20%20%20%20%20var%20popup_3a2fde0c1ee9476ea1b2ad3a79b77281%20%3D%20L.popup%28%7B%22maxWidth%22%3A%20%22100%25%22%7D%29%3B%0A%0A%20%20%20%20%20%20%20%20%0A%20%20%20%20%20%20%20%20%20%20%20%20var%20html_a373fe10049c4605a46688de6d63e974%20%3D%20%24%28%60%3Cdiv%20id%3D%22html_a373fe10049c4605a46688de6d63e974%22%20style%3D%22width%3A%20100.0%25%3B%20height%3A%20100.0%25%3B%22%3EQuetta%3C/div%3E%60%29%5B0%5D%3B%0A%20%20%20%20%20%20%20%20%20%20%20%20popup_3a2fde0c1ee9476ea1b2ad3a79b77281.setContent%28html_a373fe10049c4605a46688de6d63e974%29%3B%0A%20%20%20%20%20%20%20%20%0A%0A%20%20%20%20%20%20%20%20marker_446523c8705b4107a33a35031fd5f6e6.bindPopup%28popup_3a2fde0c1ee9476ea1b2ad3a79b77281%29%0A%20%20%20%20%20%20%20%20%3B%0A%0A%20%20%20%20%20%20%20%20%0A%20%20%20%20%0A%20%20%20%20%0A%20%20%20%20%20%20%20%20%20%20%20%20var%20marker_f3f3b52ec9dd463fa551b7e71ad63e08%20%3D%20L.marker%28%0A%20%20%20%20%20%20%20%20%20%20%20%20%20%20%20%20%5B31.831832%2C%2070.911518%5D%2C%0A%20%20%20%20%20%20%20%20%20%20%20%20%20%20%20%20%7B%22markerColor%22%3A%20%22red%22%7D%0A%20%20%20%20%20%20%20%20%20%20%20%20%29.addTo%28map_29672af8646848d8b8529039736dbd52%29%3B%0A%20%20%20%20%20%20%20%20%0A%20%20%20%20%0A%20%20%20%20%20%20%20%20var%20popup_d401b86c2d2d479b99f733ad02caa821%20%3D%20L.popup%28%7B%22maxWidth%22%3A%20%22100%25%22%7D%29%3B%0A%0A%20%20%20%20%20%20%20%20%0A%20%20%20%20%20%20%20%20%20%20%20%20var%20html_b0833a2a359a440ab33d5ba686b8d1f5%20%3D%20%24%28%60%3Cdiv%20id%3D%22html_b0833a2a359a440ab33d5ba686b8d1f5%22%20style%3D%22width%3A%20100.0%25%3B%20height%3A%20100.0%25%3B%22%3EDera%20Ismail%20Khan%3C/div%3E%60%29%5B0%5D%3B%0A%20%20%20%20%20%20%20%20%20%20%20%20popup_d401b86c2d2d479b99f733ad02caa821.setContent%28html_b0833a2a359a440ab33d5ba686b8d1f5%29%3B%0A%20%20%20%20%20%20%20%20%0A%0A%20%20%20%20%20%20%20%20marker_f3f3b52ec9dd463fa551b7e71ad63e08.bindPopup%28popup_d401b86c2d2d479b99f733ad02caa821%29%0A%20%20%20%20%20%20%20%20%3B%0A%0A%20%20%20%20%20%20%20%20%0A%20%20%20%20%0A%20%20%20%20%0A%20%20%20%20%20%20%20%20%20%20%20%20var%20marker_dfb24287d5134c16bd64d46ad8c5d3dd%20%3D%20L.marker%28%0A%20%20%20%20%20%20%20%20%20%20%20%20%20%20%20%20%5B29.6928%2C%2072.5232%5D%2C%0A%20%20%20%20%20%20%20%20%20%20%20%20%20%20%20%20%7B%22markerColor%22%3A%20%22red%22%7D%0A%20%20%20%20%20%20%20%20%20%20%20%20%29.addTo%28map_29672af8646848d8b8529039736dbd52%29%3B%0A%20%20%20%20%20%20%20%20%0A%20%20%20%20%0A%20%20%20%20%20%20%20%20var%20popup_4bb4b1f29b364122a304ec79e08fb26f%20%3D%20L.popup%28%7B%22maxWidth%22%3A%20%22100%25%22%7D%29%3B%0A%0A%20%20%20%20%20%20%20%20%0A%20%20%20%20%20%20%20%20%20%20%20%20var%20html_5038764fe28c45f29fbc96982077bc56%20%3D%20%24%28%60%3Cdiv%20id%3D%22html_5038764fe28c45f29fbc96982077bc56%22%20style%3D%22width%3A%20100.0%25%3B%20height%3A%20100.0%25%3B%22%3ECholistan%3C/div%3E%60%29%5B0%5D%3B%0A%20%20%20%20%20%20%20%20%20%20%20%20popup_4bb4b1f29b364122a304ec79e08fb26f.setContent%28html_5038764fe28c45f29fbc96982077bc56%29%3B%0A%20%20%20%20%20%20%20%20%0A%0A%20%20%20%20%20%20%20%20marker_dfb24287d5134c16bd64d46ad8c5d3dd.bindPopup%28popup_4bb4b1f29b364122a304ec79e08fb26f%29%0A%20%20%20%20%20%20%20%20%3B%0A%0A%20%20%20%20%20%20%20%20%0A%20%20%20%20%0A%3C/script%3E onload=\"this.contentDocument.open();this.contentDocument.write(    decodeURIComponent(this.getAttribute('data-html')));this.contentDocument.close();\" allowfullscreen webkitallowfullscreen mozallowfullscreen></iframe></div></div>"
      ],
      "text/plain": [
       "<folium.folium.Map at 0x2cb7ff266d0>"
      ]
     },
     "metadata": {},
     "output_type": "display_data"
    }
   ],
   "source": [
    "\n",
    "\n",
    "Create_map(df)\n"
   ]
  },
  {
   "cell_type": "code",
   "execution_count": 2847,
   "metadata": {},
   "outputs": [
    {
     "data": {
      "image/png": "[encoded data removed]",
      "text/plain": [
       "<Figure size 720x720 with 1 Axes>"
      ]
     },
     "metadata": {
      "needs_background": "light"
     },
     "output_type": "display_data"
    }
   ],
   "source": [
    "\n",
    "\n",
    "\n",
    "\n",
    "Create_Stations_and_Obstacles(df)\n"
   ]
  },
  {
   "cell_type": "code",
   "execution_count": 2848,
   "metadata": {},
   "outputs": [],
   "source": [
    "#calculate distance between each langitute and lattitude point\n",
    "#calculate distance between each points and save in array\n",
    "\n",
    "\n",
    "Calcluate_distance_Matrix(df)\n",
    "\n",
    "\n",
    "\n",
    "\n"
   ]
  },
  {
   "cell_type": "code",
   "execution_count": 2849,
   "metadata": {},
   "outputs": [],
   "source": [
    "islamabad = 0\n",
    "lahore = 1\n",
    "karachi=2\n",
    "peshawar=3\n",
    "hyderabad=4\n",
    "jhelum=5\n",
    "multan=6\n",
    "shewa=7\n",
    "quetta=8\n",
    "dera_ismail_khan=9\n",
    "cholistan=10\n",
    "\n",
    "            #0  1  2  3  4  5  6  7  8  9 10\n",
    "path_mat = [[0, 0, 0, 1, 0, 1, 1, 0, 0, 0, 0], #1\n",
    "            [0, 0, 0, 0, 0, 1, 1, 0, 0, 1, 1], #1\n",
    "            [0, 0, 0, 0, 1, 0, 0, 0, 1, 0, 0], #2\n",
    "            [1, 0, 0, 0, 0, 0, 1, 0, 1, 0, 0], #3\n",
    "            [0, 0, 1, 0, 0, 0, 0, 0, 0, 1, 0], #4\n",
    "            [1, 1, 0, 0, 0, 0, 1, 0, 0, 0, 0], #5    \n",
    "            [1, 0, 0, 1, 0, 1, 0, 1, 0, 0, 0], #6\n",
    "            [0, 0, 0, 0, 0, 0, 1, 0, 1, 1, 0], #7\n",
    "            [0, 0, 1, 1, 0, 0, 0, 1, 0, 0, 0], #8\n",
    "            [0, 1, 0, 0, 0, 0, 0, 1, 0, 0, 1], #9\n",
    "            [0, 1, 0, 0, 0, 0, 0, 0, 0, 1, 0]] #10\n",
    "            "
   ]
  },
  {
   "cell_type": "code",
   "execution_count": 2850,
   "metadata": {},
   "outputs": [],
   "source": [
    "\n",
    "\n",
    "             #0  1  2  3  4  5  6  7  8  9 10\n",
    "ist_mat =   [[0, 0, 0, 1.5661, 0, 1.0258, 3.8353, 0, 0, 0, 0],    #0\n",
    "            [0, 0, 0, 0, 0, 1.5211, 0, 0, 0, 3.4437, 2.6004],     #1\n",
    "            [0, 0, 0, 0, 1.4541, 0, 0, 0, 5.3199, 0, 0],          #2\n",
    "            [1.5661, 0, 0, 0, 0, 0, 3.8023, 0, 5.9219, 0, 0],     #3\n",
    "            [0, 0, 1.4541, 0, 0, 0, 0, 0, 0, 6.9357, 0],          #4\n",
    "            [1.0258, 1.5211, 0, 0, 0, 0, 3.5516, 0, 0, 0, 0],     #5 \n",
    "            [3.8353, 0, 0, 3.8023, 0, 3.5516, 0, 3.2074, 0, 0, 0],#6\n",
    "            [0, 0, 0, 0, 0, 0, 3.2074, 0, 4.6745, 1.4810, 0],     #7\n",
    "            [0, 0, 5.3199, 5.9219, 0, 0, 0, 4.6745, 0, 0, 0],     #8\n",
    "            [0, 3.4437, 0, 0, 0, 0, 0, 1.4811, 0, 0, 2.6782],     #9\n",
    "            [0, 2.6004, 0, 0, 0, 0, 0, 0, 0, 2.6782, 0] ]         #10\n",
    "\n",
    "\n",
    "\n",
    "\n"
   ]
  },
  {
   "cell_type": "code",
   "execution_count": 2851,
   "metadata": {},
   "outputs": [
    {
     "name": "stdout",
     "output_type": "stream",
     "text": [
      "[0, 3]\n",
      "[0, 5, 1, 9, 7, 6, 3]\n",
      "[0, 5, 1, 9, 7, 8, 3]\n",
      "[0, 5, 1, 10, 9, 7, 6, 3]\n",
      "[0, 5, 1, 10, 9, 7, 8, 3]\n",
      "[0, 5, 6, 3]\n",
      "[0, 5, 6, 7, 8, 3]\n",
      "[0, 6, 3]\n",
      "[0, 6, 5, 1, 9, 7, 8, 3]\n",
      "[0, 6, 5, 1, 10, 9, 7, 8, 3]\n",
      "[0, 6, 7, 8, 3]\n",
      "[]\n"
     ]
    },
    {
     "data": {
      "text/plain": [
       "[[0, 3],\n",
       " [0, 5, 1, 9, 7, 6, 3],\n",
       " [0, 5, 1, 9, 7, 8, 3],\n",
       " [0, 5, 1, 10, 9, 7, 6, 3],\n",
       " [0, 5, 1, 10, 9, 7, 8, 3],\n",
       " [0, 5, 6, 3],\n",
       " [0, 5, 6, 7, 8, 3],\n",
       " [0, 6, 3],\n",
       " [0, 6, 5, 1, 9, 7, 8, 3],\n",
       " [0, 6, 5, 1, 10, 9, 7, 8, 3],\n",
       " [0, 6, 7, 8, 3]]"
      ]
     },
     "execution_count": 2851,
     "metadata": {},
     "output_type": "execute_result"
    }
   ],
   "source": [
    "\n",
    "distancegraph = Graph(11)  \n",
    "distancegraph.addEdge(0,3)\n",
    "distancegraph.addEdge(0,5)\n",
    "distancegraph.addEdge(0,6)\n",
    "distancegraph.addEdge(1,5)\n",
    "distancegraph.addEdge(1,9)\n",
    "distancegraph.addEdge(1,10)\n",
    "distancegraph.addEdge(2,4)\n",
    "distancegraph.addEdge(2,8)\n",
    "distancegraph.addEdge(3,0)\n",
    "distancegraph.addEdge(3,6)\n",
    "distancegraph.addEdge(3,8)\n",
    "distancegraph.addEdge(4,2)\n",
    "distancegraph.addEdge(4,9)\n",
    "distancegraph.addEdge(5,0)\n",
    "distancegraph.addEdge(5,1)\n",
    "distancegraph.addEdge(5,6)\n",
    "distancegraph.addEdge(6,0)\n",
    "distancegraph.addEdge(6,3)\n",
    "distancegraph.addEdge(6,5)\n",
    "distancegraph.addEdge(6,7)\n",
    "distancegraph.addEdge(7,6)\n",
    "distancegraph.addEdge(7,8)\n",
    "distancegraph.addEdge(7,9)\n",
    "distancegraph.addEdge(8,2)\n",
    "distancegraph.addEdge(8,3)\n",
    "distancegraph.addEdge(8,7)\n",
    "distancegraph.addEdge(9,1)\n",
    "distancegraph.addEdge(9,7)\n",
    "distancegraph.addEdge(9,10)\n",
    "distancegraph.addEdge(10,1)\n",
    "distancegraph.addEdge(10,9)\n",
    "distancegraph.printAllPaths(0,3)\n",
    "\n",
    "distancegraph.paths"
   ]
  },
  {
   "cell_type": "code",
   "execution_count": 2852,
   "metadata": {},
   "outputs": [],
   "source": [
    "#Genetic Algorithm Implementation :\n",
    "\n",
    "loop_var = 0\n",
    "while(loop_var<10):\n",
    "    distancegraph_list = distancegraph.paths.copy()\n",
    "    fitness_list = Calculate_fitness(distancegraph_list)\n",
    "    if loop_var == 0:\n",
    "        first_fitness_list = fitness_list.copy()\n",
    "    max_index = Calculate_max_fitness(fitness_list)\n",
    "    a,b = Calculate_Parents(fitness_list)\n",
    "    final_intersection_point = Calculate_Crossover_Inetersection_Point(a,b)\n",
    "    child1_list = single_point_crossover(a , b , final_intersection_point)\n",
    "    Updating_population(child1_list)  \n",
    "    loop_var = loop_var+1\n",
    "\n",
    "\n",
    "\n"
   ]
  },
  {
   "cell_type": "code",
   "execution_count": 2853,
   "metadata": {},
   "outputs": [
    {
     "name": "stdout",
     "output_type": "stream",
     "text": [
      "Initial population of Chromosomes/Paths form Source to destination : \n"
     ]
    },
    {
     "data": {
      "text/plain": [
       "[[0, 3],\n",
       " [0, 5, 1, 9, 7, 6, 3],\n",
       " [0, 5, 1, 9, 7, 8, 3],\n",
       " [0, 5, 1, 10, 9, 7, 6, 3],\n",
       " [0, 5, 1, 10, 9, 7, 8, 3],\n",
       " [0, 5, 6, 3],\n",
       " [0, 5, 6, 7, 8, 3],\n",
       " [0, 6, 3],\n",
       " [0, 6, 5, 1, 9, 7, 8, 3],\n",
       " [0, 3, 7, 8, 3],\n",
       " [0, 6, 7, 8, 3]]"
      ]
     },
     "execution_count": 2853,
     "metadata": {},
     "output_type": "execute_result"
    }
   ],
   "source": [
    "print(\"Initial population of Chromosomes/Paths form Source to destination : \")\n",
    "distancegraph.paths"
   ]
  },
  {
   "cell_type": "code",
   "execution_count": 2854,
   "metadata": {},
   "outputs": [
    {
     "name": "stdout",
     "output_type": "stream",
     "text": [
      "Initial Fitness values of all Chromosomes(weights of all paths) :\n",
      "[1.5661, 14.4814, 18.0681, 16.3163, 19.903, 8.3797, 18.3812, 7.6376, 24.4292, 26.264100000000003, 17.6391]\n"
     ]
    }
   ],
   "source": [
    "print( \"Initial Fitness values of all Chromosomes(weights of all paths) :\")\n",
    "print(first_fitness_list)"
   ]
  },
  {
   "cell_type": "code",
   "execution_count": 2855,
   "metadata": {},
   "outputs": [
    {
     "data": {
      "text/plain": [
       "[<matplotlib.lines.Line2D at 0x2cb7ff26d90>]"
      ]
     },
     "execution_count": 2855,
     "metadata": {},
     "output_type": "execute_result"
    },
    {
     "data": {
      "image/png": "[encoded data removed]",
      "text/plain": [
       "<Figure size 432x288 with 1 Axes>"
      ]
     },
     "metadata": {
      "needs_background": "light"
     },
     "output_type": "display_data"
    }
   ],
   "source": [
    "#Graph of intial Fitness Values :\n",
    "plt.plot(first_fitness_list)"
   ]
  },
  {
   "cell_type": "code",
   "execution_count": 2856,
   "metadata": {},
   "outputs": [
    {
     "name": "stdout",
     "output_type": "stream",
     "text": [
      "Parents of Final Generation of Genetic Algorithm : \n",
      "[0, 3]\n",
      "[0, 5, 6, 7, 8, 3]\n"
     ]
    }
   ],
   "source": [
    "print (\"Parents of Final Generation of Genetic Algorithm : \")\n",
    "print (a)\n",
    "print (b)"
   ]
  },
  {
   "cell_type": "code",
   "execution_count": 2857,
   "metadata": {},
   "outputs": [
    {
     "name": "stdout",
     "output_type": "stream",
     "text": [
      "Intersection Point for final Cross-Over between final Parents(chromosomes):\n",
      "3\n"
     ]
    }
   ],
   "source": [
    "print (\"Intersection Point for final Cross-Over between final Parents(chromosomes):\")\n",
    "print(final_intersection_point)"
   ]
  },
  {
   "cell_type": "code",
   "execution_count": 2858,
   "metadata": {},
   "outputs": [
    {
     "name": "stdout",
     "output_type": "stream",
     "text": [
      "Child of the Final Cross-Over between final Parents(chromosomes):\n",
      "[0, 3, 7, 8, 3]\n"
     ]
    }
   ],
   "source": [
    "print(\"Child of the Final Cross-Over between final Parents(chromosomes):\")\n",
    "print(child1_list)"
   ]
  },
  {
   "cell_type": "code",
   "execution_count": 2859,
   "metadata": {},
   "outputs": [
    {
     "data": {
      "text/plain": [
       "[1.5661,\n",
       " 14.4814,\n",
       " 18.0681,\n",
       " 16.3163,\n",
       " 19.903,\n",
       " 8.3797,\n",
       " 18.3812,\n",
       " 7.6376,\n",
       " 24.4292,\n",
       " 12.162500000000001,\n",
       " 17.6391]"
      ]
     },
     "execution_count": 2859,
     "metadata": {},
     "output_type": "execute_result"
    }
   ],
   "source": [
    "#Fitness Values of Chromosomes after Genetic algorithm :\n",
    "fitness_list"
   ]
  },
  {
   "cell_type": "code",
   "execution_count": 2860,
   "metadata": {},
   "outputs": [
    {
     "data": {
      "text/plain": [
       "[<matplotlib.lines.Line2D at 0x2cb03a4e820>]"
      ]
     },
     "execution_count": 2860,
     "metadata": {},
     "output_type": "execute_result"
    },
    {
     "data": {
      "image/png": "[encoded data removed]",
      "text/plain": [
       "<Figure size 432x288 with 1 Axes>"
      ]
     },
     "metadata": {
      "needs_background": "light"
     },
     "output_type": "display_data"
    }
   ],
   "source": [
    "#Graph of Fitness Values of Chromosomes  after Genetic Algorithm :\n",
    "plt.plot(fitness_list)"
   ]
  },
  {
   "cell_type": "code",
   "execution_count": 2861,
   "metadata": {},
   "outputs": [
    {
     "name": "stdout",
     "output_type": "stream",
     "text": [
      "THE BEST FIT OR OPTIMAL PATH/CHROMOSOME AFTER APPLYING GENETIC ALGORITHM IS :\n"
     ]
    },
    {
     "data": {
      "text/plain": [
       "[0, 3]"
      ]
     },
     "execution_count": 2861,
     "metadata": {},
     "output_type": "execute_result"
    }
   ],
   "source": [
    "min_fitness_value = min(fitness_list)\n",
    "min_index_of_fintess = fitness_list.index(min_fitness_value)\n",
    "\n",
    "print(\"THE BEST FIT OR OPTIMAL PATH/CHROMOSOME AFTER APPLYING GENETIC ALGORITHM IS :\")\n",
    "distancegraph.paths[min_index_of_fintess]"
   ]
  },
  {
   "cell_type": "code",
   "execution_count": 2862,
   "metadata": {},
   "outputs": [
    {
     "name": "stdout",
     "output_type": "stream",
     "text": [
      "Population of Paths/Chromosomes after performing Mutation :\n"
     ]
    },
    {
     "data": {
      "text/plain": [
       "[[0, 3],\n",
       " [0, 5, 1, 9, 7, 6, 3],\n",
       " [0, 5, 1, 9, 7, 8, 3],\n",
       " [0, 5, 1, 10, 9, 7, 6, 3],\n",
       " [0, 5, 1, 10, 9, 7, 8, 3],\n",
       " [0, 5, 6, 3],\n",
       " [0, 5, 6, 7, 8, 3],\n",
       " [0, 6, 3],\n",
       " [0, 5, 5, 1, 9, 7, 8, 3],\n",
       " [0, 3, 7, 8, 3],\n",
       " [0, 6, 7, 8, 3]]"
      ]
     },
     "execution_count": 2862,
     "metadata": {},
     "output_type": "execute_result"
    }
   ],
   "source": [
    "#PERFORMING MUTATION :\n",
    "\n",
    "mutation_index = Calculate_max_fitness(fitness_list)\n",
    "unmutated_chromosome = distancegraph.paths[mutation_index]\n",
    "distancegraph.paths[mutation_index] = mutation(unmutated_chromosome)\n",
    "\n",
    "# Population of Mutated Chromosomes after performing Mutation :\n",
    "print (\"Population of Paths/Chromosomes after performing Mutation :\")\n",
    "fitness_list_after_mutation = Calculate_fitness(distancegraph_list)\n",
    "distancegraph.paths"
   ]
  },
  {
   "cell_type": "code",
   "execution_count": 2863,
   "metadata": {},
   "outputs": [
    {
     "data": {
      "text/plain": [
       "[1.5661,\n",
       " 14.4814,\n",
       " 18.0681,\n",
       " 16.3163,\n",
       " 19.903,\n",
       " 8.3797,\n",
       " 18.3812,\n",
       " 7.6376,\n",
       " 18.0681,\n",
       " 12.162500000000001,\n",
       " 17.6391]"
      ]
     },
     "execution_count": 2863,
     "metadata": {},
     "output_type": "execute_result"
    }
   ],
   "source": [
    "#Fitness Values of Chromosomes after Performing mutation and genetic alogrithm:\n",
    "fitness_list_after_mutation"
   ]
  },
  {
   "cell_type": "code",
   "execution_count": 2864,
   "metadata": {},
   "outputs": [
    {
     "data": {
      "text/plain": [
       "[<matplotlib.lines.Line2D at 0x2cb07b079d0>]"
      ]
     },
     "execution_count": 2864,
     "metadata": {},
     "output_type": "execute_result"
    },
    {
     "data": {
      "image/png": "[encoded data removed]",
      "text/plain": [
       "<Figure size 432x288 with 1 Axes>"
      ]
     },
     "metadata": {
      "needs_background": "light"
     },
     "output_type": "display_data"
    }
   ],
   "source": [
    "#Graph of fitness list after Mutaion and genetic algorithm :\n",
    "\n",
    "plt.plot(fitness_list_after_mutation)\n"
   ]
  }
 ],
 "metadata": {
  "interpreter": {
   "hash": "bb8a3a1323f3c340db4ed9b667a7574bb3d09f377c2e3b6d53cc22a1278630b4"
  },
  "kernelspec": {
   "display_name": "Python 3.9.1 64-bit",
   "name": "python3"
  },
  "language_info": {
   "codemirror_mode": {
    "name": "ipython",
    "version": 3
   },
   "file_extension": ".py",
   "mimetype": "text/x-python",
   "name": "python",
   "nbconvert_exporter": "python",
   "pygments_lexer": "ipython3",
   "version": "3.9.6"
  },
  "orig_nbformat": 4
 },
 "nbformat": 4,
 "nbformat_minor": 2
}
