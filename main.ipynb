{
 "cells": [
  {
   "cell_type": "code",
   "execution_count": 1,
   "metadata": {},
   "outputs": [
    {
     "name": "stdout",
     "output_type": "stream",
     "text": [
      "Following are all different paths from  2 to  3 :\n",
      "[2, 0, 1, 3]\n",
      "[2, 0, 3]\n",
      "[2, 1, 3]\n"
     ]
    }
   ],
   "source": [
    "import numpy as np\n",
    "import pandas as pd\n",
    "import matplotlib.pyplot as plt\n",
    "import seaborn as sns\n",
    "import os\n",
    "import sys\n",
    "import time\n",
    "import datetime\n",
    "import random\n",
    "import io\n",
    "import folium\n",
    "from dgraph import *\n",
    "from numpy import random as np_random\n",
    "from scipy.spatial import distance_matrix\n",
    "from collections import defaultdict\n"
   ]
  },
  {
   "cell_type": "code",
   "execution_count": 2,
   "metadata": {},
   "outputs": [
    {
     "data": {
      "text/html": [
       "<div>\n",
       "<style scoped>\n",
       "    .dataframe tbody tr th:only-of-type {\n",
       "        vertical-align: middle;\n",
       "    }\n",
       "\n",
       "    .dataframe tbody tr th {\n",
       "        vertical-align: top;\n",
       "    }\n",
       "\n",
       "    .dataframe thead th {\n",
       "        text-align: right;\n",
       "    }\n",
       "</style>\n",
       "<table border=\"1\" class=\"dataframe\">\n",
       "  <thead>\n",
       "    <tr style=\"text-align: right;\">\n",
       "      <th></th>\n",
       "      <th>City</th>\n",
       "      <th>Lattitude</th>\n",
       "      <th>Longitude</th>\n",
       "    </tr>\n",
       "  </thead>\n",
       "  <tbody>\n",
       "    <tr>\n",
       "      <th>0</th>\n",
       "      <td>Islamabad</td>\n",
       "      <td>33.6989</td>\n",
       "      <td>73.0369</td>\n",
       "    </tr>\n",
       "    <tr>\n",
       "      <th>1</th>\n",
       "      <td>Lahore</td>\n",
       "      <td>31.5497</td>\n",
       "      <td>74.3436</td>\n",
       "    </tr>\n",
       "    <tr>\n",
       "      <th>2</th>\n",
       "      <td>Karachi</td>\n",
       "      <td>24.8600</td>\n",
       "      <td>67.0100</td>\n",
       "    </tr>\n",
       "    <tr>\n",
       "      <th>3</th>\n",
       "      <td>Peshawar</td>\n",
       "      <td>34.0000</td>\n",
       "      <td>71.5000</td>\n",
       "    </tr>\n",
       "    <tr>\n",
       "      <th>4</th>\n",
       "      <td>Hyderabad</td>\n",
       "      <td>25.3792</td>\n",
       "      <td>68.3683</td>\n",
       "    </tr>\n",
       "  </tbody>\n",
       "</table>\n",
       "</div>"
      ],
      "text/plain": [
       "        City  Lattitude  Longitude\n",
       "0  Islamabad    33.6989    73.0369\n",
       "1     Lahore    31.5497    74.3436\n",
       "2    Karachi    24.8600    67.0100\n",
       "3   Peshawar    34.0000    71.5000\n",
       "4  Hyderabad    25.3792    68.3683"
      ]
     },
     "execution_count": 2,
     "metadata": {},
     "output_type": "execute_result"
    }
   ],
   "source": [
    "df = pd.read_csv('data.csv')\n",
    "df.head()"
   ]
  },
  {
   "cell_type": "code",
   "execution_count": 3,
   "metadata": {},
   "outputs": [
    {
     "data": {
      "text/plain": [
       "(66.975, 24.86, 74.3436, 34.0)"
      ]
     },
     "execution_count": 3,
     "metadata": {},
     "output_type": "execute_result"
    }
   ],
   "source": [
    "#HERE I CALCULATE THE  min/max lang/lat values\n",
    "values =(df.Longitude.min(), df.Lattitude.min(), df.Longitude.max(), df.Lattitude.max())\n",
    "\n",
    "values\n"
   ]
  },
  {
   "cell_type": "code",
   "execution_count": 4,
   "metadata": {},
   "outputs": [
    {
     "data": {
      "text/html": [
       "<div style=\"width:100%;\"><div style=\"position:relative;width:100%;height:0;padding-bottom:60%;\"><span style=\"color:#565656\">Make this Notebook Trusted to load map: File -> Trust Notebook</span><iframe src=\"about:blank\" style=\"position:absolute;width:100%;height:100%;left:0;top:0;border:none !important;\" data-html=%3C%21DOCTYPE%20html%3E%0A%3Chead%3E%20%20%20%20%0A%20%20%20%20%3Cmeta%20http-equiv%3D%22content-type%22%20content%3D%22text/html%3B%20charset%3DUTF-8%22%20/%3E%0A%20%20%20%20%0A%20%20%20%20%20%20%20%20%3Cscript%3E%0A%20%20%20%20%20%20%20%20%20%20%20%20L_NO_TOUCH%20%3D%20false%3B%0A%20%20%20%20%20%20%20%20%20%20%20%20L_DISABLE_3D%20%3D%20false%3B%0A%20%20%20%20%20%20%20%20%3C/script%3E%0A%20%20%20%20%0A%20%20%20%20%3Cstyle%3Ehtml%2C%20body%20%7Bwidth%3A%20100%25%3Bheight%3A%20100%25%3Bmargin%3A%200%3Bpadding%3A%200%3B%7D%3C/style%3E%0A%20%20%20%20%3Cstyle%3E%23map%20%7Bposition%3Aabsolute%3Btop%3A0%3Bbottom%3A0%3Bright%3A0%3Bleft%3A0%3B%7D%3C/style%3E%0A%20%20%20%20%3Cscript%20src%3D%22https%3A//cdn.jsdelivr.net/npm/leaflet%401.6.0/dist/leaflet.js%22%3E%3C/script%3E%0A%20%20%20%20%3Cscript%20src%3D%22https%3A//code.jquery.com/jquery-1.12.4.min.js%22%3E%3C/script%3E%0A%20%20%20%20%3Cscript%20src%3D%22https%3A//maxcdn.bootstrapcdn.com/bootstrap/3.2.0/js/bootstrap.min.js%22%3E%3C/script%3E%0A%20%20%20%20%3Cscript%20src%3D%22https%3A//cdnjs.cloudflare.com/ajax/libs/Leaflet.awesome-markers/2.0.2/leaflet.awesome-markers.js%22%3E%3C/script%3E%0A%20%20%20%20%3Clink%20rel%3D%22stylesheet%22%20href%3D%22https%3A//cdn.jsdelivr.net/npm/leaflet%401.6.0/dist/leaflet.css%22/%3E%0A%20%20%20%20%3Clink%20rel%3D%22stylesheet%22%20href%3D%22https%3A//maxcdn.bootstrapcdn.com/bootstrap/3.2.0/css/bootstrap.min.css%22/%3E%0A%20%20%20%20%3Clink%20rel%3D%22stylesheet%22%20href%3D%22https%3A//maxcdn.bootstrapcdn.com/bootstrap/3.2.0/css/bootstrap-theme.min.css%22/%3E%0A%20%20%20%20%3Clink%20rel%3D%22stylesheet%22%20href%3D%22https%3A//maxcdn.bootstrapcdn.com/font-awesome/4.6.3/css/font-awesome.min.css%22/%3E%0A%20%20%20%20%3Clink%20rel%3D%22stylesheet%22%20href%3D%22https%3A//cdnjs.cloudflare.com/ajax/libs/Leaflet.awesome-markers/2.0.2/leaflet.awesome-markers.css%22/%3E%0A%20%20%20%20%3Clink%20rel%3D%22stylesheet%22%20href%3D%22https%3A//cdn.jsdelivr.net/gh/python-visualization/folium/folium/templates/leaflet.awesome.rotate.min.css%22/%3E%0A%20%20%20%20%0A%20%20%20%20%20%20%20%20%20%20%20%20%3Cmeta%20name%3D%22viewport%22%20content%3D%22width%3Ddevice-width%2C%0A%20%20%20%20%20%20%20%20%20%20%20%20%20%20%20%20initial-scale%3D1.0%2C%20maximum-scale%3D1.0%2C%20user-scalable%3Dno%22%20/%3E%0A%20%20%20%20%20%20%20%20%20%20%20%20%3Cstyle%3E%0A%20%20%20%20%20%20%20%20%20%20%20%20%20%20%20%20%23map_81e71e11a2ce4d659123547e5703a656%20%7B%0A%20%20%20%20%20%20%20%20%20%20%20%20%20%20%20%20%20%20%20%20position%3A%20relative%3B%0A%20%20%20%20%20%20%20%20%20%20%20%20%20%20%20%20%20%20%20%20width%3A%20100.0%25%3B%0A%20%20%20%20%20%20%20%20%20%20%20%20%20%20%20%20%20%20%20%20height%3A%20100.0%25%3B%0A%20%20%20%20%20%20%20%20%20%20%20%20%20%20%20%20%20%20%20%20left%3A%200.0%25%3B%0A%20%20%20%20%20%20%20%20%20%20%20%20%20%20%20%20%20%20%20%20top%3A%200.0%25%3B%0A%20%20%20%20%20%20%20%20%20%20%20%20%20%20%20%20%7D%0A%20%20%20%20%20%20%20%20%20%20%20%20%3C/style%3E%0A%20%20%20%20%20%20%20%20%0A%3C/head%3E%0A%3Cbody%3E%20%20%20%20%0A%20%20%20%20%0A%20%20%20%20%20%20%20%20%20%20%20%20%3Cdiv%20class%3D%22folium-map%22%20id%3D%22map_81e71e11a2ce4d659123547e5703a656%22%20%3E%3C/div%3E%0A%20%20%20%20%20%20%20%20%0A%3C/body%3E%0A%3Cscript%3E%20%20%20%20%0A%20%20%20%20%0A%20%20%20%20%20%20%20%20%20%20%20%20var%20map_81e71e11a2ce4d659123547e5703a656%20%3D%20L.map%28%0A%20%20%20%20%20%20%20%20%20%20%20%20%20%20%20%20%22map_81e71e11a2ce4d659123547e5703a656%22%2C%0A%20%20%20%20%20%20%20%20%20%20%20%20%20%20%20%20%7B%0A%20%20%20%20%20%20%20%20%20%20%20%20%20%20%20%20%20%20%20%20center%3A%20%5B30.6894721%2C%2070.94217836363636%5D%2C%0A%20%20%20%20%20%20%20%20%20%20%20%20%20%20%20%20%20%20%20%20crs%3A%20L.CRS.EPSG3857%2C%0A%20%20%20%20%20%20%20%20%20%20%20%20%20%20%20%20%20%20%20%20zoom%3A%2012%2C%0A%20%20%20%20%20%20%20%20%20%20%20%20%20%20%20%20%20%20%20%20zoomControl%3A%20true%2C%0A%20%20%20%20%20%20%20%20%20%20%20%20%20%20%20%20%20%20%20%20preferCanvas%3A%20false%2C%0A%20%20%20%20%20%20%20%20%20%20%20%20%20%20%20%20%7D%0A%20%20%20%20%20%20%20%20%20%20%20%20%29%3B%0A%20%20%20%20%20%20%20%20%20%20%20%20L.control.scale%28%29.addTo%28map_81e71e11a2ce4d659123547e5703a656%29%3B%0A%0A%20%20%20%20%20%20%20%20%20%20%20%20%0A%0A%20%20%20%20%20%20%20%20%0A%20%20%20%20%0A%20%20%20%20%20%20%20%20%20%20%20%20var%20tile_layer_3eb51d7b6fc341f5a44f55f93e0e1e4f%20%3D%20L.tileLayer%28%0A%20%20%20%20%20%20%20%20%20%20%20%20%20%20%20%20%22https%3A//%7Bs%7D.tile.openstreetmap.org/%7Bz%7D/%7Bx%7D/%7By%7D.png%22%2C%0A%20%20%20%20%20%20%20%20%20%20%20%20%20%20%20%20%7B%22attribution%22%3A%20%22Data%20by%20%5Cu0026copy%3B%20%5Cu003ca%20href%3D%5C%22http%3A//openstreetmap.org%5C%22%5Cu003eOpenStreetMap%5Cu003c/a%5Cu003e%2C%20under%20%5Cu003ca%20href%3D%5C%22http%3A//www.openstreetmap.org/copyright%5C%22%5Cu003eODbL%5Cu003c/a%5Cu003e.%22%2C%20%22detectRetina%22%3A%20false%2C%20%22maxNativeZoom%22%3A%2018%2C%20%22maxZoom%22%3A%2018%2C%20%22minZoom%22%3A%200%2C%20%22noWrap%22%3A%20false%2C%20%22opacity%22%3A%201%2C%20%22subdomains%22%3A%20%22abc%22%2C%20%22tms%22%3A%20false%7D%0A%20%20%20%20%20%20%20%20%20%20%20%20%29.addTo%28map_81e71e11a2ce4d659123547e5703a656%29%3B%0A%20%20%20%20%20%20%20%20%0A%20%20%20%20%0A%20%20%20%20%20%20%20%20%20%20%20%20var%20marker_04cab4a12d49465999b451178e0ecce3%20%3D%20L.marker%28%0A%20%20%20%20%20%20%20%20%20%20%20%20%20%20%20%20%5B33.6989%2C%2073.0369%5D%2C%0A%20%20%20%20%20%20%20%20%20%20%20%20%20%20%20%20%7B%22markerColor%22%3A%20%22red%22%7D%0A%20%20%20%20%20%20%20%20%20%20%20%20%29.addTo%28map_81e71e11a2ce4d659123547e5703a656%29%3B%0A%20%20%20%20%20%20%20%20%0A%20%20%20%20%0A%20%20%20%20%20%20%20%20var%20popup_4408bd8dde1248b2a3300bc745d3cbd5%20%3D%20L.popup%28%7B%22maxWidth%22%3A%20%22100%25%22%7D%29%3B%0A%0A%20%20%20%20%20%20%20%20%0A%20%20%20%20%20%20%20%20%20%20%20%20var%20html_67e32bb7e047478181b8a0ae1fa8b4d6%20%3D%20%24%28%60%3Cdiv%20id%3D%22html_67e32bb7e047478181b8a0ae1fa8b4d6%22%20style%3D%22width%3A%20100.0%25%3B%20height%3A%20100.0%25%3B%22%3EIslamabad%3C/div%3E%60%29%5B0%5D%3B%0A%20%20%20%20%20%20%20%20%20%20%20%20popup_4408bd8dde1248b2a3300bc745d3cbd5.setContent%28html_67e32bb7e047478181b8a0ae1fa8b4d6%29%3B%0A%20%20%20%20%20%20%20%20%0A%0A%20%20%20%20%20%20%20%20marker_04cab4a12d49465999b451178e0ecce3.bindPopup%28popup_4408bd8dde1248b2a3300bc745d3cbd5%29%0A%20%20%20%20%20%20%20%20%3B%0A%0A%20%20%20%20%20%20%20%20%0A%20%20%20%20%0A%20%20%20%20%0A%20%20%20%20%20%20%20%20%20%20%20%20var%20marker_d8413ec58b104dbc91c3cf16d2b8d44c%20%3D%20L.marker%28%0A%20%20%20%20%20%20%20%20%20%20%20%20%20%20%20%20%5B31.5497%2C%2074.3436%5D%2C%0A%20%20%20%20%20%20%20%20%20%20%20%20%20%20%20%20%7B%22markerColor%22%3A%20%22red%22%7D%0A%20%20%20%20%20%20%20%20%20%20%20%20%29.addTo%28map_81e71e11a2ce4d659123547e5703a656%29%3B%0A%20%20%20%20%20%20%20%20%0A%20%20%20%20%0A%20%20%20%20%20%20%20%20var%20popup_4129756e45d84163bec8ac8dd01a21d1%20%3D%20L.popup%28%7B%22maxWidth%22%3A%20%22100%25%22%7D%29%3B%0A%0A%20%20%20%20%20%20%20%20%0A%20%20%20%20%20%20%20%20%20%20%20%20var%20html_515f145a77e344e8bbe9c95907488338%20%3D%20%24%28%60%3Cdiv%20id%3D%22html_515f145a77e344e8bbe9c95907488338%22%20style%3D%22width%3A%20100.0%25%3B%20height%3A%20100.0%25%3B%22%3ELahore%3C/div%3E%60%29%5B0%5D%3B%0A%20%20%20%20%20%20%20%20%20%20%20%20popup_4129756e45d84163bec8ac8dd01a21d1.setContent%28html_515f145a77e344e8bbe9c95907488338%29%3B%0A%20%20%20%20%20%20%20%20%0A%0A%20%20%20%20%20%20%20%20marker_d8413ec58b104dbc91c3cf16d2b8d44c.bindPopup%28popup_4129756e45d84163bec8ac8dd01a21d1%29%0A%20%20%20%20%20%20%20%20%3B%0A%0A%20%20%20%20%20%20%20%20%0A%20%20%20%20%0A%20%20%20%20%0A%20%20%20%20%20%20%20%20%20%20%20%20var%20marker_50dcbf9fd25f44529c7b808ab7edb0d6%20%3D%20L.marker%28%0A%20%20%20%20%20%20%20%20%20%20%20%20%20%20%20%20%5B24.86%2C%2067.01%5D%2C%0A%20%20%20%20%20%20%20%20%20%20%20%20%20%20%20%20%7B%22markerColor%22%3A%20%22red%22%7D%0A%20%20%20%20%20%20%20%20%20%20%20%20%29.addTo%28map_81e71e11a2ce4d659123547e5703a656%29%3B%0A%20%20%20%20%20%20%20%20%0A%20%20%20%20%0A%20%20%20%20%20%20%20%20var%20popup_3c721472e8c148f6ac2e5dd1de0b7a38%20%3D%20L.popup%28%7B%22maxWidth%22%3A%20%22100%25%22%7D%29%3B%0A%0A%20%20%20%20%20%20%20%20%0A%20%20%20%20%20%20%20%20%20%20%20%20var%20html_cc3fccabbeb747208248078ef279fe27%20%3D%20%24%28%60%3Cdiv%20id%3D%22html_cc3fccabbeb747208248078ef279fe27%22%20style%3D%22width%3A%20100.0%25%3B%20height%3A%20100.0%25%3B%22%3EKarachi%3C/div%3E%60%29%5B0%5D%3B%0A%20%20%20%20%20%20%20%20%20%20%20%20popup_3c721472e8c148f6ac2e5dd1de0b7a38.setContent%28html_cc3fccabbeb747208248078ef279fe27%29%3B%0A%20%20%20%20%20%20%20%20%0A%0A%20%20%20%20%20%20%20%20marker_50dcbf9fd25f44529c7b808ab7edb0d6.bindPopup%28popup_3c721472e8c148f6ac2e5dd1de0b7a38%29%0A%20%20%20%20%20%20%20%20%3B%0A%0A%20%20%20%20%20%20%20%20%0A%20%20%20%20%0A%20%20%20%20%0A%20%20%20%20%20%20%20%20%20%20%20%20var%20marker_31a5d6a174374465b24c597bbb0576a6%20%3D%20L.marker%28%0A%20%20%20%20%20%20%20%20%20%20%20%20%20%20%20%20%5B34.0%2C%2071.5%5D%2C%0A%20%20%20%20%20%20%20%20%20%20%20%20%20%20%20%20%7B%22markerColor%22%3A%20%22red%22%7D%0A%20%20%20%20%20%20%20%20%20%20%20%20%29.addTo%28map_81e71e11a2ce4d659123547e5703a656%29%3B%0A%20%20%20%20%20%20%20%20%0A%20%20%20%20%0A%20%20%20%20%20%20%20%20var%20popup_facc328b340644608538c6f67ac6ca67%20%3D%20L.popup%28%7B%22maxWidth%22%3A%20%22100%25%22%7D%29%3B%0A%0A%20%20%20%20%20%20%20%20%0A%20%20%20%20%20%20%20%20%20%20%20%20var%20html_78f9d4ce3f2c473a89853edb4e4c76a4%20%3D%20%24%28%60%3Cdiv%20id%3D%22html_78f9d4ce3f2c473a89853edb4e4c76a4%22%20style%3D%22width%3A%20100.0%25%3B%20height%3A%20100.0%25%3B%22%3EPeshawar%3C/div%3E%60%29%5B0%5D%3B%0A%20%20%20%20%20%20%20%20%20%20%20%20popup_facc328b340644608538c6f67ac6ca67.setContent%28html_78f9d4ce3f2c473a89853edb4e4c76a4%29%3B%0A%20%20%20%20%20%20%20%20%0A%0A%20%20%20%20%20%20%20%20marker_31a5d6a174374465b24c597bbb0576a6.bindPopup%28popup_facc328b340644608538c6f67ac6ca67%29%0A%20%20%20%20%20%20%20%20%3B%0A%0A%20%20%20%20%20%20%20%20%0A%20%20%20%20%0A%20%20%20%20%0A%20%20%20%20%20%20%20%20%20%20%20%20var%20marker_496cd8e0dd7b424eadd7bf2aebf57199%20%3D%20L.marker%28%0A%20%20%20%20%20%20%20%20%20%20%20%20%20%20%20%20%5B25.3792%2C%2068.3683%5D%2C%0A%20%20%20%20%20%20%20%20%20%20%20%20%20%20%20%20%7B%22markerColor%22%3A%20%22red%22%7D%0A%20%20%20%20%20%20%20%20%20%20%20%20%29.addTo%28map_81e71e11a2ce4d659123547e5703a656%29%3B%0A%20%20%20%20%20%20%20%20%0A%20%20%20%20%0A%20%20%20%20%20%20%20%20var%20popup_0592c6ca48ff4596a402c24f11472e5d%20%3D%20L.popup%28%7B%22maxWidth%22%3A%20%22100%25%22%7D%29%3B%0A%0A%20%20%20%20%20%20%20%20%0A%20%20%20%20%20%20%20%20%20%20%20%20var%20html_13f00558697e46a5b3277085ae65439f%20%3D%20%24%28%60%3Cdiv%20id%3D%22html_13f00558697e46a5b3277085ae65439f%22%20style%3D%22width%3A%20100.0%25%3B%20height%3A%20100.0%25%3B%22%3EHyderabad%3C/div%3E%60%29%5B0%5D%3B%0A%20%20%20%20%20%20%20%20%20%20%20%20popup_0592c6ca48ff4596a402c24f11472e5d.setContent%28html_13f00558697e46a5b3277085ae65439f%29%3B%0A%20%20%20%20%20%20%20%20%0A%0A%20%20%20%20%20%20%20%20marker_496cd8e0dd7b424eadd7bf2aebf57199.bindPopup%28popup_0592c6ca48ff4596a402c24f11472e5d%29%0A%20%20%20%20%20%20%20%20%3B%0A%0A%20%20%20%20%20%20%20%20%0A%20%20%20%20%0A%20%20%20%20%0A%20%20%20%20%20%20%20%20%20%20%20%20var%20marker_a895c8b68fa245598ac7aec7738e8199%20%3D%20L.marker%28%0A%20%20%20%20%20%20%20%20%20%20%20%20%20%20%20%20%5B32.9405%2C%2073.7276%5D%2C%0A%20%20%20%20%20%20%20%20%20%20%20%20%20%20%20%20%7B%22markerColor%22%3A%20%22red%22%7D%0A%20%20%20%20%20%20%20%20%20%20%20%20%29.addTo%28map_81e71e11a2ce4d659123547e5703a656%29%3B%0A%20%20%20%20%20%20%20%20%0A%20%20%20%20%0A%20%20%20%20%20%20%20%20var%20popup_ccc98b86b803404b8dfaeb21fde5cce3%20%3D%20L.popup%28%7B%22maxWidth%22%3A%20%22100%25%22%7D%29%3B%0A%0A%20%20%20%20%20%20%20%20%0A%20%20%20%20%20%20%20%20%20%20%20%20var%20html_a608ff6377c1480bb8e00a7ac4879cd5%20%3D%20%24%28%60%3Cdiv%20id%3D%22html_a608ff6377c1480bb8e00a7ac4879cd5%22%20style%3D%22width%3A%20100.0%25%3B%20height%3A%20100.0%25%3B%22%3EJehlum%3C/div%3E%60%29%5B0%5D%3B%0A%20%20%20%20%20%20%20%20%20%20%20%20popup_ccc98b86b803404b8dfaeb21fde5cce3.setContent%28html_a608ff6377c1480bb8e00a7ac4879cd5%29%3B%0A%20%20%20%20%20%20%20%20%0A%0A%20%20%20%20%20%20%20%20marker_a895c8b68fa245598ac7aec7738e8199.bindPopup%28popup_ccc98b86b803404b8dfaeb21fde5cce3%29%0A%20%20%20%20%20%20%20%20%3B%0A%0A%20%20%20%20%20%20%20%20%0A%20%20%20%20%0A%20%20%20%20%0A%20%20%20%20%20%20%20%20%20%20%20%20var%20marker_92044f457de6437fa2e3c07a58bdfb81%20%3D%20L.marker%28%0A%20%20%20%20%20%20%20%20%20%20%20%20%20%20%20%20%5B30.1978%2C%2071.4711%5D%2C%0A%20%20%20%20%20%20%20%20%20%20%20%20%20%20%20%20%7B%22markerColor%22%3A%20%22red%22%7D%0A%20%20%20%20%20%20%20%20%20%20%20%20%29.addTo%28map_81e71e11a2ce4d659123547e5703a656%29%3B%0A%20%20%20%20%20%20%20%20%0A%20%20%20%20%0A%20%20%20%20%20%20%20%20var%20popup_836d0467d48a45e1999e535bfa11dfad%20%3D%20L.popup%28%7B%22maxWidth%22%3A%20%22100%25%22%7D%29%3B%0A%0A%20%20%20%20%20%20%20%20%0A%20%20%20%20%20%20%20%20%20%20%20%20var%20html_e4dfb60713eb4ebbb6c15f3b4eb38cd5%20%3D%20%24%28%60%3Cdiv%20id%3D%22html_e4dfb60713eb4ebbb6c15f3b4eb38cd5%22%20style%3D%22width%3A%20100.0%25%3B%20height%3A%20100.0%25%3B%22%3EMultan%3C/div%3E%60%29%5B0%5D%3B%0A%20%20%20%20%20%20%20%20%20%20%20%20popup_836d0467d48a45e1999e535bfa11dfad.setContent%28html_e4dfb60713eb4ebbb6c15f3b4eb38cd5%29%3B%0A%20%20%20%20%20%20%20%20%0A%0A%20%20%20%20%20%20%20%20marker_92044f457de6437fa2e3c07a58bdfb81.bindPopup%28popup_836d0467d48a45e1999e535bfa11dfad%29%0A%20%20%20%20%20%20%20%20%3B%0A%0A%20%20%20%20%20%20%20%20%0A%20%20%20%20%0A%20%20%20%20%0A%20%20%20%20%20%20%20%20%20%20%20%20var%20marker_d95e5a2496d44d2182f31490bc2ef1c6%20%3D%20L.marker%28%0A%20%20%20%20%20%20%20%20%20%20%20%20%20%20%20%20%5B33.2536611%2C%2070.496744%5D%2C%0A%20%20%20%20%20%20%20%20%20%20%20%20%20%20%20%20%7B%22markerColor%22%3A%20%22red%22%7D%0A%20%20%20%20%20%20%20%20%20%20%20%20%29.addTo%28map_81e71e11a2ce4d659123547e5703a656%29%3B%0A%20%20%20%20%20%20%20%20%0A%20%20%20%20%0A%20%20%20%20%20%20%20%20var%20popup_bbf96b92f5d544bbb930ad05cd0a8a40%20%3D%20L.popup%28%7B%22maxWidth%22%3A%20%22100%25%22%7D%29%3B%0A%0A%20%20%20%20%20%20%20%20%0A%20%20%20%20%20%20%20%20%20%20%20%20var%20html_f5f087cd6e2247c6b8297f7d237eb03a%20%3D%20%24%28%60%3Cdiv%20id%3D%22html_f5f087cd6e2247c6b8297f7d237eb03a%22%20style%3D%22width%3A%20100.0%25%3B%20height%3A%20100.0%25%3B%22%3EShewa%3C/div%3E%60%29%5B0%5D%3B%0A%20%20%20%20%20%20%20%20%20%20%20%20popup_bbf96b92f5d544bbb930ad05cd0a8a40.setContent%28html_f5f087cd6e2247c6b8297f7d237eb03a%29%3B%0A%20%20%20%20%20%20%20%20%0A%0A%20%20%20%20%20%20%20%20marker_d95e5a2496d44d2182f31490bc2ef1c6.bindPopup%28popup_bbf96b92f5d544bbb930ad05cd0a8a40%29%0A%20%20%20%20%20%20%20%20%3B%0A%0A%20%20%20%20%20%20%20%20%0A%20%20%20%20%0A%20%20%20%20%0A%20%20%20%20%20%20%20%20%20%20%20%20var%20marker_0fd5b7b1a1d94da19e867973a0f293bc%20%3D%20L.marker%28%0A%20%20%20%20%20%20%20%20%20%20%20%20%20%20%20%20%5B30.1798%2C%2066.975%5D%2C%0A%20%20%20%20%20%20%20%20%20%20%20%20%20%20%20%20%7B%22markerColor%22%3A%20%22red%22%7D%0A%20%20%20%20%20%20%20%20%20%20%20%20%29.addTo%28map_81e71e11a2ce4d659123547e5703a656%29%3B%0A%20%20%20%20%20%20%20%20%0A%20%20%20%20%0A%20%20%20%20%20%20%20%20var%20popup_fac05631cace4c6e95d85fe2e9bd43e1%20%3D%20L.popup%28%7B%22maxWidth%22%3A%20%22100%25%22%7D%29%3B%0A%0A%20%20%20%20%20%20%20%20%0A%20%20%20%20%20%20%20%20%20%20%20%20var%20html_cc88d73f6e1c48f4b5867cdd985ac629%20%3D%20%24%28%60%3Cdiv%20id%3D%22html_cc88d73f6e1c48f4b5867cdd985ac629%22%20style%3D%22width%3A%20100.0%25%3B%20height%3A%20100.0%25%3B%22%3EQuetta%3C/div%3E%60%29%5B0%5D%3B%0A%20%20%20%20%20%20%20%20%20%20%20%20popup_fac05631cace4c6e95d85fe2e9bd43e1.setContent%28html_cc88d73f6e1c48f4b5867cdd985ac629%29%3B%0A%20%20%20%20%20%20%20%20%0A%0A%20%20%20%20%20%20%20%20marker_0fd5b7b1a1d94da19e867973a0f293bc.bindPopup%28popup_fac05631cace4c6e95d85fe2e9bd43e1%29%0A%20%20%20%20%20%20%20%20%3B%0A%0A%20%20%20%20%20%20%20%20%0A%20%20%20%20%0A%20%20%20%20%0A%20%20%20%20%20%20%20%20%20%20%20%20var%20marker_9b2f8fdf0ab542f2bdfb52e5f04ed6d7%20%3D%20L.marker%28%0A%20%20%20%20%20%20%20%20%20%20%20%20%20%20%20%20%5B31.831832%2C%2070.911518%5D%2C%0A%20%20%20%20%20%20%20%20%20%20%20%20%20%20%20%20%7B%22markerColor%22%3A%20%22red%22%7D%0A%20%20%20%20%20%20%20%20%20%20%20%20%29.addTo%28map_81e71e11a2ce4d659123547e5703a656%29%3B%0A%20%20%20%20%20%20%20%20%0A%20%20%20%20%0A%20%20%20%20%20%20%20%20var%20popup_846085a6a57a46c69cf3d3cdd7104301%20%3D%20L.popup%28%7B%22maxWidth%22%3A%20%22100%25%22%7D%29%3B%0A%0A%20%20%20%20%20%20%20%20%0A%20%20%20%20%20%20%20%20%20%20%20%20var%20html_a042cf53b9694e1287a4abb21ae7455c%20%3D%20%24%28%60%3Cdiv%20id%3D%22html_a042cf53b9694e1287a4abb21ae7455c%22%20style%3D%22width%3A%20100.0%25%3B%20height%3A%20100.0%25%3B%22%3EDera%20Ismail%20Khan%3C/div%3E%60%29%5B0%5D%3B%0A%20%20%20%20%20%20%20%20%20%20%20%20popup_846085a6a57a46c69cf3d3cdd7104301.setContent%28html_a042cf53b9694e1287a4abb21ae7455c%29%3B%0A%20%20%20%20%20%20%20%20%0A%0A%20%20%20%20%20%20%20%20marker_9b2f8fdf0ab542f2bdfb52e5f04ed6d7.bindPopup%28popup_846085a6a57a46c69cf3d3cdd7104301%29%0A%20%20%20%20%20%20%20%20%3B%0A%0A%20%20%20%20%20%20%20%20%0A%20%20%20%20%0A%20%20%20%20%0A%20%20%20%20%20%20%20%20%20%20%20%20var%20marker_9a3847b669c1459ba7606f5729eed547%20%3D%20L.marker%28%0A%20%20%20%20%20%20%20%20%20%20%20%20%20%20%20%20%5B29.6928%2C%2072.5232%5D%2C%0A%20%20%20%20%20%20%20%20%20%20%20%20%20%20%20%20%7B%22markerColor%22%3A%20%22red%22%7D%0A%20%20%20%20%20%20%20%20%20%20%20%20%29.addTo%28map_81e71e11a2ce4d659123547e5703a656%29%3B%0A%20%20%20%20%20%20%20%20%0A%20%20%20%20%0A%20%20%20%20%20%20%20%20var%20popup_2634b61f45054f5fa5985f41df1ab9af%20%3D%20L.popup%28%7B%22maxWidth%22%3A%20%22100%25%22%7D%29%3B%0A%0A%20%20%20%20%20%20%20%20%0A%20%20%20%20%20%20%20%20%20%20%20%20var%20html_b1e743db36b74f51be3ed6d759e33a2f%20%3D%20%24%28%60%3Cdiv%20id%3D%22html_b1e743db36b74f51be3ed6d759e33a2f%22%20style%3D%22width%3A%20100.0%25%3B%20height%3A%20100.0%25%3B%22%3ECholistan%3C/div%3E%60%29%5B0%5D%3B%0A%20%20%20%20%20%20%20%20%20%20%20%20popup_2634b61f45054f5fa5985f41df1ab9af.setContent%28html_b1e743db36b74f51be3ed6d759e33a2f%29%3B%0A%20%20%20%20%20%20%20%20%0A%0A%20%20%20%20%20%20%20%20marker_9a3847b669c1459ba7606f5729eed547.bindPopup%28popup_2634b61f45054f5fa5985f41df1ab9af%29%0A%20%20%20%20%20%20%20%20%3B%0A%0A%20%20%20%20%20%20%20%20%0A%20%20%20%20%0A%3C/script%3E onload=\"this.contentDocument.open();this.contentDocument.write(    decodeURIComponent(this.getAttribute('data-html')));this.contentDocument.close();\" allowfullscreen webkitallowfullscreen mozallowfullscreen></iframe></div></div>"
      ],
      "text/plain": [
       "<folium.folium.Map at 0x22949a61b20>"
      ]
     },
     "execution_count": 4,
     "metadata": {},
     "output_type": "execute_result"
    }
   ],
   "source": [
    "#HERE I USED FOLIUM TO CREATE A MAP WHICH PLACES THE VALUES IN THE DATASET ON THE MAP\n",
    "x  = []\n",
    "y = []\n",
    "for i in range(8):\n",
    "        x.append(np_random.uniform(24.86, 34.0, size=1))\n",
    "        y.append(np_random.uniform(67.01,74.3436,size=1))\n",
    "\n",
    "map = folium.Map(location=[df.Lattitude.mean(), df.Longitude.mean()], zoom_start=12,control_scale=True)\n",
    "#folium place markers\n",
    "for lat, lng, label in zip(df.Lattitude, df.Longitude, df.City):\n",
    "    folium.Marker(location=[lat, lng], popup=label, marker_color='red').add_to(map)\n",
    "map\n"
   ]
  },
  {
   "cell_type": "code",
   "execution_count": 5,
   "metadata": {},
   "outputs": [
    {
     "data": {
      "image/png": "[encoded data removed]",
      "text/plain": [
       "<Figure size 720x720 with 1 Axes>"
      ]
     },
     "metadata": {
      "needs_background": "light"
     },
     "output_type": "display_data"
    }
   ],
   "source": [
    "#THIS IS A BASIC PLOT OF THE POints\n",
    "#plot the lang and lat\n",
    "plt.figure(figsize=(10,10))\n",
    "plt.scatter(df.Longitude, df.Lattitude)\n",
    "plt.xlabel('Longitude')\n",
    "plt.ylabel('Lattitude')\n",
    "#obs_4_x = [6.5, 8, 8, 6.5, 6.5]\n",
    "#obs_4_y = [6, 6, 9.5, 9.5, 6]\n",
    "#plt.fill(obs_4_x, obs_4_y, \"r\")\n",
    "\n",
    "\n",
    "rectangle = plt.Rectangle((69.05499773,27.30419314), 0.38, 0.95, fc='red',ec=\"red\")\n",
    "#use y[1] and x[1] to get the coordinates of the rectangle\n",
    "rectangle2 = plt.Rectangle((68.40579368,32.2244921), 0.38,0.95 , fc='red',ec=\"red\")\n",
    "#use y[2] and x[2] to get the coordinates of the rectangle\n",
    "rectangle3 = plt.Rectangle((73.95673648,30.2707003), 0.38, 0.95, fc='red',ec=\"red\")\n",
    "#use y[3] and x[3] to get the coordinates of the rectangle\n",
    "rectangle4 = plt.Rectangle((69.65336426,31.05971192), 0.38, 0.95, fc='red',ec=\"red\")\n",
    "#use y[4] and x[4] to get the coordinates of the rectangle\n",
    "rectangle5 = plt.Rectangle((73.52528668,26.72029817), 0.38, 0.95, fc='red',ec=\"red\")\n",
    "#use y[5] and x[5] to get the coordinates of the rectangle\n",
    "rectangle6 = plt.Rectangle((72.34731228,31.6979375), 0.38, 0.95, fc='red',ec=\"red\")\n",
    "#use y[6] and x[6] to get the coordinates of the rectangle\n",
    "rectangle7 = plt.Rectangle((67.32759484,27.59375763), 0.38, 0.95, fc='red',ec=\"red\")\n",
    "#use y[7] and x[7] to get the coordinates of the rectangle\n",
    "rectangle8 = plt.Rectangle((72.11769889,25.95242895), 0.38, 0.95, fc='red',ec=\"red\")\n",
    "#use y[8] and x[8] to get the coordinates of the rectangle\n",
    "\n",
    "\n",
    "plt.gca().add_patch(rectangle)\n",
    "plt.gca().add_patch(rectangle2)\n",
    "plt.gca().add_patch(rectangle3)\n",
    "plt.gca().add_patch(rectangle4)\n",
    "plt.gca().add_patch(rectangle5)\n",
    "plt.gca().add_patch(rectangle6)\n",
    "plt.gca().add_patch(rectangle7)\n",
    "plt.gca().add_patch(rectangle8)\n",
    "\n",
    "\n",
    "plt.axis('scaled')\n",
    "plt.show()\n",
    "\n",
    "\n",
    "\n"
   ]
  },
  {
   "cell_type": "code",
   "execution_count": 6,
   "metadata": {},
   "outputs": [
    {
     "name": "stdout",
     "output_type": "stream",
     "text": [
      "['Islamabad', 'Lahore', 'Karachi', 'Peshawar', 'Hyderabad', 'Jehlum', 'Multan', 'Shewa', 'Quetta', 'Dera Ismail Khan', 'Cholistan']\n",
      "[[73.0369, 33.6989], [74.3436, 31.5497], [67.01, 24.86], [71.5, 34.0], [68.3683, 25.3792], [73.7276, 32.9405], [71.4711, 30.1978], [70.496744, 33.2536611], [66.975, 30.1798], [70.911518, 31.831832], [72.5232, 29.6928]]\n"
     ]
    }
   ],
   "source": [
    "#calculate distance between each langitute and lattitude point\n",
    "#calculate distance between each points and save in array\n",
    "counter = 0\n",
    "distances = []\n",
    "cities =[]\n",
    "for i in range(len(df)):\n",
    "    cities.append(df.City[i])\n",
    "print(cities)\n",
    "data = []\n",
    "for i in range(len(df)):\n",
    "    l2 = [df.iloc[i].Longitude, df.iloc[i].Lattitude]\n",
    "    #print(l2)\n",
    "    data.append(l2)\n",
    "print(data)\n",
    "df = pd.DataFrame(data, columns=['xcord', 'ycord'], index=cities)\n",
    "dist_m = pd.DataFrame(distance_matrix(df.values, df.values), index=df.index, columns=df.index)\n",
    "dist_m.to_csv('dist_m.csv')\n",
    "\n",
    "\n",
    "\n",
    "\n",
    "\n",
    "\n",
    "\n"
   ]
  },
  {
   "cell_type": "code",
   "execution_count": 7,
   "metadata": {},
   "outputs": [],
   "source": [
    "islamabad = 1\n",
    "lahore = 2\n",
    "karachi=3\n",
    "peshawar=4\n",
    "hyderabad=5\n",
    "jhelum=6\n",
    "multan=7\n",
    "shewa=8\n",
    "quetta=9\n",
    "dera_ismail_khan=10\n",
    "cholistan=11\n",
    "\n",
    "             #1  2  3  4  5  6  7  8  9  10 11\n",
    "path_mat = [[0, 0, 0, 1, 0, 1, 1, 0, 0, 0, 0], \n",
    "            [0, 0, 0, 0, 0, 1, 1, 0, 0, 1, 1], \n",
    "            [0, 0, 0, 0, 1, 0, 0, 0, 1, 0, 0], \n",
    "            [1, 0, 0, 0, 0, 0, 1, 0, 1, 0, 0], \n",
    "            [0, 0, 1, 0, 0, 0, 0, 0, 0, 1, 0], \n",
    "            [1, 1, 0, 0, 0, 0, 1, 0, 0, 0, 0],      \n",
    "            [1, 0, 0, 1, 0, 1, 0, 1, 0, 0, 0], \n",
    "            [0, 0, 0, 0, 0, 0, 1, 0, 1, 1, 0], \n",
    "            [0, 0, 1, 1, 0, 0, 0, 1, 0, 0, 0], \n",
    "            [0, 1, 0, 0, 0, 0, 0, 1, 0, 0, 1], \n",
    "            [0, 1, 0, 0, 0, 0, 0, 0, 0, 1, 0] ]"
   ]
  },
  {
   "cell_type": "code",
   "execution_count": 8,
   "metadata": {},
   "outputs": [],
   "source": [
    "islamabad = 1\n",
    "lahore = 2\n",
    "karachi=3\n",
    "peshawar=4\n",
    "hyderabad=5\n",
    "jhelum=6\n",
    "multan=7\n",
    "shewa=8\n",
    "quetta=9\n",
    "dera_ismail_khan=10\n",
    "cholistan=11\n",
    "\n",
    "             #1  2  3  4  5  6  7  8  9  10 11\n",
    "ist_mat =   [[0, 0, 0, 1.5661, 0, 1.0258, 3.8353, 0, 0, 0, 0], \n",
    "            [0, 0, 0, 0, 0, 1.5211, 0, 0, 0, 3.4437, 2.6004], \n",
    "            [0, 0, 0, 0, 1.4541, 0, 0, 0, 5.3199, 0, 0], \n",
    "            [1.5661, 0, 0, 0, 0, 0, 3.8023, 0, 5.9219, 0, 0], \n",
    "            [0, 0, 1.4541, 0, 0, 0, 0, 0, 0, 6.9357, 0], \n",
    "            [1.0258, 1.5211, 0, 0, 0, 0, 3.5516, 0, 0, 0, 0],      \n",
    "            [3.8353, 0, 0, 3.8023, 0, 3.5516, 0, 3.2074, 0, 0, 0], \n",
    "            [0, 0, 0, 0, 0, 0, 3.2074, 0, 4.6745, 1.4810, 0], \n",
    "            [0, 0, 5.3199, 5.9219, 0, 0, 0, 4.6745, 0, 0, 0], \n",
    "            [0, 3.4437, 0, 0, 0, 0, 0, 1.4811, 0, 0, 2.6782], \n",
    "            [0, 2.6004, 0, 0, 0, 0, 0, 0, 0, 2.6782, 0] ]\n",
    "\n",
    "\n",
    "\n",
    "\n"
   ]
  },
  {
   "cell_type": "code",
   "execution_count": 9,
   "metadata": {},
   "outputs": [],
   "source": [
    "class Graph:\n",
    " \n",
    "    def __init__(self, vertices):\n",
    "        # No. of vertices\n",
    "        self.V = vertices \n",
    "        \n",
    "        # default dictionary to store graph\n",
    "        self.graph = defaultdict(list) \n",
    " \n",
    "    # function to add an edge to graph\n",
    "    def addEdge(self, u, v):\n",
    "        self.graph[u].append(v)\n",
    " \n",
    "    '''A recursive function to print all paths from 'u' to 'd'.\n",
    "    visited[] keeps track of vertices in current path.\n",
    "    path[] stores actual vertices and path_index is current\n",
    "    index in path[]'''\n",
    "    def printAllPathsUtil(self, u, d, visited, path):\n",
    "\n",
    "        # Mark the current node as visited and store in path\n",
    "        visited[u]= True\n",
    "        path.append(u)\n",
    "\n",
    "        # If current vertex is same as destination, then print\n",
    "        # current path[]\n",
    "        if u == d:\n",
    "            print (path)\n",
    "        else:\n",
    "            # If current vertex is not destination\n",
    "            # Recur for all the vertices adjacent to this vertex\n",
    "            for i in self.graph[u]:\n",
    "                if visited[i]== False:\n",
    "                    self.printAllPathsUtil(i, d, visited, path)\n",
    "                    \n",
    "        # Remove current vertex from path[] and mark it as unvisited\n",
    "        path.pop()\n",
    "        visited[u]= False\n",
    " \n",
    " \n",
    "    # Prints all paths from 's' to 'd'\n",
    "    def printAllPaths(self, s, d):\n",
    "\n",
    "        # Mark all the vertices as not visited\n",
    "        visited =[False]*(self.V)\n",
    "\n",
    "        # Create an array to store paths\n",
    "        path = []\n",
    "\n",
    "        # Call the recursive helper function to print all paths\n",
    "        self.printAllPathsUtil(s, d, visited, path)"
   ]
  },
  {
   "cell_type": "code",
   "execution_count": 10,
   "metadata": {},
   "outputs": [
    {
     "name": "stdout",
     "output_type": "stream",
     "text": [
      "[1, 4]\n",
      "[1, 6, 2, 10, 8, 7, 4]\n",
      "[1, 6, 2, 10, 8, 9, 4]\n",
      "[1, 6, 2, 11, 10, 8, 7, 4]\n",
      "[1, 6, 2, 11, 10, 8, 9, 4]\n",
      "[1, 6, 7, 4]\n",
      "[1, 6, 7, 8, 9, 4]\n",
      "[1, 7, 4]\n",
      "[1, 7, 6, 2, 10, 8, 9, 4]\n",
      "[1, 7, 6, 2, 11, 10, 8, 9, 4]\n",
      "[1, 7, 8, 9, 4]\n"
     ]
    }
   ],
   "source": [
    "distancegraph = Graph(12)  \n",
    "distancegraph.addEdge(1,4)\n",
    "distancegraph.addEdge(1,6)\n",
    "distancegraph.addEdge(1,7)\n",
    "distancegraph.addEdge(2,6)\n",
    "distancegraph.addEdge(2,10)\n",
    "distancegraph.addEdge(2,11)\n",
    "distancegraph.addEdge(3,5)\n",
    "distancegraph.addEdge(3,9)\n",
    "distancegraph.addEdge(4,1)\n",
    "distancegraph.addEdge(4,7)\n",
    "distancegraph.addEdge(4,9)\n",
    "distancegraph.addEdge(5,3)\n",
    "distancegraph.addEdge(5,10)\n",
    "distancegraph.addEdge(6,1)\n",
    "distancegraph.addEdge(6,2)\n",
    "distancegraph.addEdge(6,7)\n",
    "distancegraph.addEdge(7,1)\n",
    "distancegraph.addEdge(7,4)\n",
    "distancegraph.addEdge(7,6)\n",
    "distancegraph.addEdge(7,8)\n",
    "distancegraph.addEdge(8,7)\n",
    "distancegraph.addEdge(8,9)\n",
    "distancegraph.addEdge(8,10)\n",
    "distancegraph.addEdge(9,3)\n",
    "distancegraph.addEdge(9,4)\n",
    "distancegraph.addEdge(9,8)\n",
    "distancegraph.addEdge(10,2)\n",
    "distancegraph.addEdge(10,8)\n",
    "distancegraph.addEdge(10,11)\n",
    "distancegraph.addEdge(11,2)\n",
    "distancegraph.addEdge(11,10)\n",
    "\n",
    "distancegraph.printAllPaths(1,4)\n",
    "\n"
   ]
  },
  {
   "cell_type": "code",
   "execution_count": 11,
   "metadata": {},
   "outputs": [],
   "source": [
    "#Fitness Function\n",
    "def calculate_fitness():\n"
   ]
  }
 ],
 "metadata": {
  "interpreter": {
   "hash": "bb8a3a1323f3c340db4ed9b667a7574bb3d09f377c2e3b6d53cc22a1278630b4"
  },
  "kernelspec": {
   "display_name": "Python 3.9.1 64-bit",
   "name": "python3"
  },
  "language_info": {
   "codemirror_mode": {
    "name": "ipython",
    "version": 3
   },
   "file_extension": ".py",
   "mimetype": "text/x-python",
   "name": "python",
   "nbconvert_exporter": "python",
   "pygments_lexer": "ipython3",
   "version": "3.9.1"
  },
  "orig_nbformat": 4
 },
 "nbformat": 4,
 "nbformat_minor": 2
}
