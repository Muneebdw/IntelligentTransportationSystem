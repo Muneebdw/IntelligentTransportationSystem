{
 "cells": [
  {
   "cell_type": "code",
   "execution_count": 158,
   "metadata": {},
   "outputs": [],
   "source": [
    "\n",
    "########################### INTELLIGENT TRANSPORTAION SYSTEM USING GENETIC ALGORITHM ########################### \n",
    "\n",
    "\n",
    "#AUTHORS : \n",
    "\n",
    "#          MIRZA ABDUR RAHMAN (19I-0584) \n",
    "#          MUHAMMAD HAMMAD (19I-0446)\n",
    "#          MUNEEB BHALLI (19I-0591)\n",
    "\n",
    "\n",
    "\n",
    "# IMPORTING LIBRARIES:\n",
    "import numpy as np\n",
    "import pandas as pd\n",
    "import matplotlib.pyplot as plt\n",
    "import seaborn as sns\n",
    "import os\n",
    "import sys\n",
    "import time\n",
    "import datetime\n",
    "import random\n",
    "import io\n",
    "import folium\n",
    "from dgraph import *\n",
    "from numpy import random as np_random\n",
    "from scipy.spatial import distance_matrix\n",
    "from collections import defaultdict\n",
    "from statistics import mean\n",
    "  \n",
    "\n",
    "\n"
   ]
  },
  {
   "cell_type": "code",
   "execution_count": 159,
   "metadata": {},
   "outputs": [],
   "source": [
    "#Graph Class taken from : https://www.geeksforgeeks.org/find-paths-given-source-destination/\n",
    "\n",
    "\n",
    "# This Class is used in creating graph of Our Stations from differnt Cities of Pakistan\n",
    "class Graph:\n",
    " \n",
    "    def __init__(self, vertices):\n",
    "        # No. of vertices\n",
    "        self.V = vertices \n",
    "        self.paths = []\n",
    "        # default dictionary to store graph\n",
    "        self.graph = defaultdict(list) \n",
    " \n",
    "    # function to add an edge to graph\n",
    "    def addEdge(self, u, v):\n",
    "        self.graph[u].append(v)\n",
    " \n",
    "    '''A recursive function to print all paths from 'u' to 'd'.\n",
    "    visited[] keeps track of vertices in current path.\n",
    "    path[] stores actual vertices and path_index is current\n",
    "    index in path[]'''\n",
    "    def printAllPathsUtil(self, u, d, visited, path):\n",
    "\n",
    "        # Mark the current node as visited and store in path\n",
    "        visited[u]= True\n",
    "        path.append(u)\n",
    "\n",
    "        # If current vertex is same as destination, then print\n",
    "        # current path[]\n",
    "        if u == d:\n",
    "            print (path)\n",
    "            l2 = path\n",
    "            self.paths.append(l2.copy())\n",
    "        else:\n",
    "            # If current vertex is not destination\n",
    "            # Recur for all the vertices adjacent to this vertex\n",
    "            for i in self.graph[u]:\n",
    "                if visited[i]== False:\n",
    "                    self.printAllPathsUtil(i, d, visited, path)\n",
    "                    \n",
    "        # Remove current vertex from path[] and mark it as unvisited\n",
    "        path.pop()\n",
    "        visited[u]= False\n",
    " \n",
    " \n",
    "    # Prints all paths from 's' to 'd'\n",
    "    def printAllPaths(self, s, d):\n",
    "\n",
    "        # Mark all the vertices as not visited\n",
    "        visited =[False]*(self.V)\n",
    "\n",
    "        # Create an array to store paths\n",
    "        path = []\n",
    "\n",
    "        # Call the recursive helper function to print all paths\n",
    "        self.printAllPathsUtil(s, d, visited, path)\n",
    "        print (path)\n",
    "  "
   ]
  },
  {
   "cell_type": "code",
   "execution_count": 160,
   "metadata": {},
   "outputs": [],
   "source": [
    "# OUR FUNCTIONS WHICH WE USED IN GENTIC ALGORITHM AND DATA PREPROCESSING :\n",
    "\n",
    "\n",
    "\n",
    "# This function creates map of Stations in different Cites of Pakistan using folium libray.\n",
    "# We plotted the map using the orignal and actual coordinates(lattidtue m longitudes of Cites of Pakistan)\n",
    "# HERE WE USED FOLIUM TO CREATE A MAP\n",
    "# WHICH PLACES THE VALUES IN THE DATASET ON THE MAP\n",
    "def Create_map(df):\n",
    "        x  = []\n",
    "        y = []\n",
    "        for i in range(8):\n",
    "                x.append(np_random.uniform(24.86, 34.0, size=1))\n",
    "                y.append(np_random.uniform(67.01,74.3436,size=1))\n",
    "\n",
    "        map = folium.Map(location=[df.Lattitude.mean(), df.Longitude.mean()], zoom_start=12,control_scale=True)\n",
    "        #folium place markers\n",
    "        for lat, lng, label in zip(df.Lattitude, df.Longitude, df.City):\n",
    "            folium.Marker(location=[lat, lng], popup=label, marker_color='red').add_to(map)\n",
    "        display(map)\n",
    "\n",
    "\n",
    "\n",
    "# HERE WE ARE CREATING OBSTACALES ON OUR MAP :\n",
    "# THIS IS A BASIC PLOT OF THE POINTS\n",
    "# plot the lang and lat\n",
    "def Create_Stations_and_Obstacles(df):\n",
    "\n",
    "        plt.figure(figsize=(10,10))\n",
    "        plt.scatter(df.Longitude, df.Lattitude)\n",
    "        plt.xlabel('Longitude')\n",
    "        plt.ylabel('Lattitude')\n",
    "\n",
    "        rectangle = plt.Rectangle((69.05499773,27.30419314), 0.38, 0.95, fc='red',ec=\"red\")\n",
    "        #use y[1] and x[1] to get the coordinates of the rectangle\n",
    "        rectangle2 = plt.Rectangle((68.40579368,32.2244921), 0.38,0.95 , fc='red',ec=\"red\")\n",
    "        #use y[2] and x[2] to get the coordinates of the rectangle\n",
    "        rectangle3 = plt.Rectangle((73.95673648,30.2707003), 0.38, 0.95, fc='red',ec=\"red\")\n",
    "        #use y[3] and x[3] to get the coordinates of the rectangle\n",
    "        rectangle4 = plt.Rectangle((69.65336426,31.05971192), 0.38, 0.95, fc='red',ec=\"red\")\n",
    "        #use y[4] and x[4] to get the coordinates of the rectangle\n",
    "        rectangle5 = plt.Rectangle((73.52528668,26.72029817), 0.38, 0.95, fc='red',ec=\"red\")\n",
    "        #use y[5] and x[5] to get the coordinates of the rectangle\n",
    "        rectangle6 = plt.Rectangle((72.34731228,31.6979375), 0.38, 0.95, fc='red',ec=\"red\")\n",
    "        #use y[6] and x[6] to get the coordinates of the rectangle\n",
    "        rectangle7 = plt.Rectangle((67.32759484,27.59375763), 0.38, 0.95, fc='red',ec=\"red\")\n",
    "        #use y[7] and x[7] to get the coordinates of the rectangle\n",
    "        rectangle8 = plt.Rectangle((72.11769889,25.95242895), 0.38, 0.95, fc='red',ec=\"red\")\n",
    "        #use y[8] and x[8] to get the coordinates of the rectangle\n",
    "\n",
    "        plt.gca().add_patch(rectangle)\n",
    "        plt.gca().add_patch(rectangle2)\n",
    "        plt.gca().add_patch(rectangle3)\n",
    "        plt.gca().add_patch(rectangle4)\n",
    "        plt.gca().add_patch(rectangle5)\n",
    "        plt.gca().add_patch(rectangle6)\n",
    "        plt.gca().add_patch(rectangle7)\n",
    "        plt.gca().add_patch(rectangle8)\n",
    "\n",
    "        plt.axis('scaled')\n",
    "        plt.show()        \n",
    "\n",
    "\n",
    "\n",
    "\n",
    "\n",
    "#  WE HAVE CALCULATED THE DISTANCE OF EACH CITY TO EVERY CITY\n",
    "#  USING THERE LONGITUDES AND LATTIDTUDES\n",
    "def Calcluate_distance_Matrix(df):\n",
    "        counter = 0\n",
    "        distances = []\n",
    "        cities =[]\n",
    "        for i in range(len(df)):\n",
    "            cities.append(df.City[i])\n",
    "        data = []\n",
    "        for i in range(len(df)):\n",
    "            l2 = [df.iloc[i].Longitude, df.iloc[i].Lattitude]\n",
    "            #print(l2)\n",
    "            data.append(l2)\n",
    "        df = pd.DataFrame(data, columns=['xcord', 'ycord'], index=cities)\n",
    "        dist_m = pd.DataFrame(distance_matrix(df.values, df.values), index=df.index, columns=df.index)\n",
    "        dist_m.to_csv('dist_m.csv')\n",
    "\n",
    "\n",
    "\n",
    "# IN THIS FUNCTION WE CALCULATED FITNESS VALUES OF OUR CHROMOSOMES/PATHS\n",
    "# IN THE POPULATION USING THE WEIGHTS OF THE PATHS\n",
    "# WE ADDED THE DISTANCE WHICH IS ACTUALLY THE WEIGHT OF EVERY EDGE\n",
    "# IN THE WAY OF THE PATH STARING FROM SOURCE TO DESTINATION\n",
    "def Calculate_fitness(distancegraph_list ):\n",
    "    fitness_list = []\n",
    "    temp = []\n",
    "    sum = 0\n",
    "    for i in range(len(distancegraph_list)):\n",
    "      for j in range(len(distancegraph_list[i])-1):\n",
    "        x = distancegraph_list[i][j]\n",
    "        y = distancegraph_list[i][j+1]\n",
    "        sum = sum + ist_mat[x][y]\n",
    "        x =0\n",
    "        y = 0\n",
    "      fitness_list.append(sum)\n",
    "      sum = 0\n",
    "    return fitness_list  \n",
    "\n",
    "\n",
    "\n",
    "# CALCUTAING MAX FITNESS FROM THE POPULATION OF CHROMOSOMES/PATHS\n",
    "# FOR THIS WE FIRST CALCULATED MAX VALUE AND THEN \n",
    "# RETURNED THE INDEX OF THAT FROM THE FITNESS LIST\n",
    "def Calculate_max_fitness(fitness_list):\n",
    "    max_value = max(fitness_list)\n",
    "    max_index = fitness_list.index(max_value)\n",
    "    return max_index\n",
    "\n",
    "\n",
    "\n",
    "\n",
    "# CALCULATING THE PARENTS FOR CROSS-OVER\n",
    "# WE HAVE FIRST FIND THE TOP 2 CHROMOSOMES/PATHS HAVING BEST FITNESS\n",
    "# VALUES AND THEN MADE THEM PARENTS FOR THE CROSS-OVER\n",
    "def Calculate_Parents(fitness_list):\n",
    "    min_value = min(fitness_list)\n",
    "    min_index = fitness_list.index(min_value)\n",
    "\n",
    "    a = distancegraph.paths[min_index]\n",
    "    temp_fitness_list = fitness_list\n",
    "    pre_fitness_list = fitness_list\n",
    "\n",
    "    temp_fitness_list.remove(min_value)\n",
    "\n",
    "    second_min_value = min(temp_fitness_list)\n",
    "    second_min_index = temp_fitness_list.index(second_min_value)\n",
    "\n",
    "    b = distancegraph.paths[second_min_index]\n",
    "\n",
    "    temp_fitness_list.insert(0,min_value)\n",
    "\n",
    "    return a,b\n",
    "\n",
    "\n",
    "\n",
    "# CALCULATING CROSS-OVER INTERSECTION POINT FOR THE CROSS-OVER\n",
    "# BETWEEN BEST FIT PARENTS/PATHS\n",
    "# WE CALCULATED THE INTESECTION POINT BY SELECTING ANY RANDOM\n",
    "# COMMON POINT BETWEEN THE PARENT CHROMOSOMES IF NOT\n",
    "# THEN WE SELECTED ANY RANDOM POINT FROM PARENT 1 AS A INTERSECTION POINT\n",
    "def Calculate_Crossover_Inetersection_Point(a,b):\n",
    "    parent1 = list(a)\n",
    "    parent2 = list(b)\n",
    "\n",
    "    flag = 0\n",
    "    list1_as_set = set(parent1)\n",
    "    intersection = list1_as_set.intersection(parent2)\n",
    "\n",
    "    if intersection != []:\n",
    "      intersection_as_list = list(intersection)\n",
    "    else:\n",
    "      random_intersection_point = random.choice(parent1)\n",
    "      flag = 1\n",
    "    if flag ==1:\n",
    "        final_intersection_point = random_intersection_point\n",
    "    else:\n",
    "        final_intersection_point = random.choice(intersection_as_list)\n",
    "    return final_intersection_point\n",
    "\n",
    "\n",
    "\n",
    "\n",
    "# WE USED SINGLE-POINT CROSS-OVER TECHINQUE FOR CROSS-OVER\n",
    "# IN THIS WE CREATED THE NEW CHILD BY SELECTING THE PATH\n",
    "# OF PARENT 1 UPTO THE INTERSECTION POINT AND THE SELECTED \n",
    "# THE REAMINING PART FROM THE SECOND PARENT AFTER THE INTERSECTION POINT\n",
    "def single_point_crossover(a,b,final_intersection_point):\n",
    "      parent1 = np.array(a)\n",
    "      parent2 = np.array(b)\n",
    "      child1 = np.append(parent1[:final_intersection_point] , parent2[final_intersection_point:])\n",
    "      child2 = np.append(parent2[:final_intersection_point] , parent1[final_intersection_point:])\n",
    "\n",
    "      #converting child1 to list\n",
    "      child1_list = child1.tolist()\n",
    "      child1_list\n",
    "\n",
    "      return child1_list\n",
    "\n",
    "\n",
    "\n",
    "\n",
    "\n",
    "# IN THIS FUNCTION WE HAVE UPDATED THE POPULATION OF CHROMOSOMES/PATHS\n",
    "# BY INSERTING THE NEW CHILD WHICH WE GOT FROM THE CROSSOVER OF BEST FIT CHROMOSOMES(PARENTS)\n",
    "# AND EXCLUDED THE CHROMOSCME HAVING THE WORST FITNESS VALUE\n",
    "def Updating_population(child1_list):\n",
    "        check = False\n",
    "        for i in range(len(distancegraph.paths)):\n",
    "            if child1_list == distancegraph.paths[i]:\n",
    "                check = True\n",
    "                break\n",
    "            else:\n",
    "                check = False \n",
    "\n",
    "        #Updating the population after the Crossover e.g putting new child in population\n",
    "        if check == False:\n",
    "            distancegraph.paths[max_index] = child1_list\n",
    "\n",
    "\n",
    "\n",
    "\n",
    "# THIS FUNCTION IS FOR THE MUTAION OF THE POPULATION\n",
    "# WE HAVE USED THIS FUNCTION TO DEMONSTRATE THAT IF THE PATH IS \n",
    "# VERY AWKWARD AND THERE IS NO CHROMOSOME WHICH HAS AN IMPORATNT FEATURE\n",
    "# THEN WE MUTATED A CHROMOSOME AND ADDED TO THE POPULATION\n",
    "def mutation (chromosome):\n",
    "    mutated_chromosome = chromosome\n",
    "    mutated_chromosome[1] = random.randint(0,10)\n",
    "    return mutated_chromosome    \n",
    "\n",
    "#function to calculate mean /avg:\n",
    "def Average(lst):\n",
    "    return mean(lst)\n",
    "\n"
   ]
  },
  {
   "cell_type": "code",
   "execution_count": 161,
   "metadata": {},
   "outputs": [
    {
     "data": {
      "text/html": [
       "<div>\n",
       "<style scoped>\n",
       "    .dataframe tbody tr th:only-of-type {\n",
       "        vertical-align: middle;\n",
       "    }\n",
       "\n",
       "    .dataframe tbody tr th {\n",
       "        vertical-align: top;\n",
       "    }\n",
       "\n",
       "    .dataframe thead th {\n",
       "        text-align: right;\n",
       "    }\n",
       "</style>\n",
       "<table border=\"1\" class=\"dataframe\">\n",
       "  <thead>\n",
       "    <tr style=\"text-align: right;\">\n",
       "      <th></th>\n",
       "      <th>City</th>\n",
       "      <th>Lattitude</th>\n",
       "      <th>Longitude</th>\n",
       "    </tr>\n",
       "  </thead>\n",
       "  <tbody>\n",
       "    <tr>\n",
       "      <th>0</th>\n",
       "      <td>Islamabad</td>\n",
       "      <td>33.698900</td>\n",
       "      <td>73.036900</td>\n",
       "    </tr>\n",
       "    <tr>\n",
       "      <th>1</th>\n",
       "      <td>Lahore</td>\n",
       "      <td>31.549700</td>\n",
       "      <td>74.343600</td>\n",
       "    </tr>\n",
       "    <tr>\n",
       "      <th>2</th>\n",
       "      <td>Karachi</td>\n",
       "      <td>24.860000</td>\n",
       "      <td>67.010000</td>\n",
       "    </tr>\n",
       "    <tr>\n",
       "      <th>3</th>\n",
       "      <td>Peshawar</td>\n",
       "      <td>34.000000</td>\n",
       "      <td>71.500000</td>\n",
       "    </tr>\n",
       "    <tr>\n",
       "      <th>4</th>\n",
       "      <td>Hyderabad</td>\n",
       "      <td>25.379200</td>\n",
       "      <td>68.368300</td>\n",
       "    </tr>\n",
       "    <tr>\n",
       "      <th>5</th>\n",
       "      <td>Jehlum</td>\n",
       "      <td>32.940500</td>\n",
       "      <td>73.727600</td>\n",
       "    </tr>\n",
       "    <tr>\n",
       "      <th>6</th>\n",
       "      <td>Multan</td>\n",
       "      <td>30.197800</td>\n",
       "      <td>71.471100</td>\n",
       "    </tr>\n",
       "    <tr>\n",
       "      <th>7</th>\n",
       "      <td>Shewa</td>\n",
       "      <td>33.253661</td>\n",
       "      <td>70.496744</td>\n",
       "    </tr>\n",
       "    <tr>\n",
       "      <th>8</th>\n",
       "      <td>Quetta</td>\n",
       "      <td>30.179800</td>\n",
       "      <td>66.975000</td>\n",
       "    </tr>\n",
       "    <tr>\n",
       "      <th>9</th>\n",
       "      <td>Dera Ismail Khan</td>\n",
       "      <td>31.831832</td>\n",
       "      <td>70.911518</td>\n",
       "    </tr>\n",
       "    <tr>\n",
       "      <th>10</th>\n",
       "      <td>Cholistan</td>\n",
       "      <td>29.692800</td>\n",
       "      <td>72.523200</td>\n",
       "    </tr>\n",
       "  </tbody>\n",
       "</table>\n",
       "</div>"
      ],
      "text/plain": [
       "                City  Lattitude  Longitude\n",
       "0          Islamabad  33.698900  73.036900\n",
       "1             Lahore  31.549700  74.343600\n",
       "2            Karachi  24.860000  67.010000\n",
       "3           Peshawar  34.000000  71.500000\n",
       "4          Hyderabad  25.379200  68.368300\n",
       "5             Jehlum  32.940500  73.727600\n",
       "6             Multan  30.197800  71.471100\n",
       "7              Shewa  33.253661  70.496744\n",
       "8             Quetta  30.179800  66.975000\n",
       "9   Dera Ismail Khan  31.831832  70.911518\n",
       "10         Cholistan  29.692800  72.523200"
      ]
     },
     "execution_count": 161,
     "metadata": {},
     "output_type": "execute_result"
    }
   ],
   "source": [
    "# READING THE DATA.CSV FILE IN WHICH ALL THE CITIES AND THERE ACTUAL\n",
    "# LATTITUDES AND LONIGTUDES ARE PRESENT\n",
    "df = pd.read_csv('data.csv')\n",
    "df"
   ]
  },
  {
   "cell_type": "code",
   "execution_count": 162,
   "metadata": {},
   "outputs": [],
   "source": [
    " # HERE WE CALCULATE THE  min/max lang/lat values\n",
    "values =(df.Longitude.min(), df.Lattitude.min(), df.Longitude.max(), df.Lattitude.max())\n"
   ]
  },
  {
   "cell_type": "code",
   "execution_count": 163,
   "metadata": {},
   "outputs": [
    {
     "data": {
      "text/html": [
       "<div style=\"width:100%;\"><div style=\"position:relative;width:100%;height:0;padding-bottom:60%;\"><span style=\"color:#565656\">Make this Notebook Trusted to load map: File -> Trust Notebook</span><iframe src=\"about:blank\" style=\"position:absolute;width:100%;height:100%;left:0;top:0;border:none !important;\" data-html=%3C%21DOCTYPE%20html%3E%0A%3Chead%3E%20%20%20%20%0A%20%20%20%20%3Cmeta%20http-equiv%3D%22content-type%22%20content%3D%22text/html%3B%20charset%3DUTF-8%22%20/%3E%0A%20%20%20%20%0A%20%20%20%20%20%20%20%20%3Cscript%3E%0A%20%20%20%20%20%20%20%20%20%20%20%20L_NO_TOUCH%20%3D%20false%3B%0A%20%20%20%20%20%20%20%20%20%20%20%20L_DISABLE_3D%20%3D%20false%3B%0A%20%20%20%20%20%20%20%20%3C/script%3E%0A%20%20%20%20%0A%20%20%20%20%3Cstyle%3Ehtml%2C%20body%20%7Bwidth%3A%20100%25%3Bheight%3A%20100%25%3Bmargin%3A%200%3Bpadding%3A%200%3B%7D%3C/style%3E%0A%20%20%20%20%3Cstyle%3E%23map%20%7Bposition%3Aabsolute%3Btop%3A0%3Bbottom%3A0%3Bright%3A0%3Bleft%3A0%3B%7D%3C/style%3E%0A%20%20%20%20%3Cscript%20src%3D%22https%3A//cdn.jsdelivr.net/npm/leaflet%401.6.0/dist/leaflet.js%22%3E%3C/script%3E%0A%20%20%20%20%3Cscript%20src%3D%22https%3A//code.jquery.com/jquery-1.12.4.min.js%22%3E%3C/script%3E%0A%20%20%20%20%3Cscript%20src%3D%22https%3A//maxcdn.bootstrapcdn.com/bootstrap/3.2.0/js/bootstrap.min.js%22%3E%3C/script%3E%0A%20%20%20%20%3Cscript%20src%3D%22https%3A//cdnjs.cloudflare.com/ajax/libs/Leaflet.awesome-markers/2.0.2/leaflet.awesome-markers.js%22%3E%3C/script%3E%0A%20%20%20%20%3Clink%20rel%3D%22stylesheet%22%20href%3D%22https%3A//cdn.jsdelivr.net/npm/leaflet%401.6.0/dist/leaflet.css%22/%3E%0A%20%20%20%20%3Clink%20rel%3D%22stylesheet%22%20href%3D%22https%3A//maxcdn.bootstrapcdn.com/bootstrap/3.2.0/css/bootstrap.min.css%22/%3E%0A%20%20%20%20%3Clink%20rel%3D%22stylesheet%22%20href%3D%22https%3A//maxcdn.bootstrapcdn.com/bootstrap/3.2.0/css/bootstrap-theme.min.css%22/%3E%0A%20%20%20%20%3Clink%20rel%3D%22stylesheet%22%20href%3D%22https%3A//maxcdn.bootstrapcdn.com/font-awesome/4.6.3/css/font-awesome.min.css%22/%3E%0A%20%20%20%20%3Clink%20rel%3D%22stylesheet%22%20href%3D%22https%3A//cdnjs.cloudflare.com/ajax/libs/Leaflet.awesome-markers/2.0.2/leaflet.awesome-markers.css%22/%3E%0A%20%20%20%20%3Clink%20rel%3D%22stylesheet%22%20href%3D%22https%3A//cdn.jsdelivr.net/gh/python-visualization/folium/folium/templates/leaflet.awesome.rotate.min.css%22/%3E%0A%20%20%20%20%0A%20%20%20%20%20%20%20%20%20%20%20%20%3Cmeta%20name%3D%22viewport%22%20content%3D%22width%3Ddevice-width%2C%0A%20%20%20%20%20%20%20%20%20%20%20%20%20%20%20%20initial-scale%3D1.0%2C%20maximum-scale%3D1.0%2C%20user-scalable%3Dno%22%20/%3E%0A%20%20%20%20%20%20%20%20%20%20%20%20%3Cstyle%3E%0A%20%20%20%20%20%20%20%20%20%20%20%20%20%20%20%20%23map_4bfe5f47cdc34dabaf5aef13a3ca669a%20%7B%0A%20%20%20%20%20%20%20%20%20%20%20%20%20%20%20%20%20%20%20%20position%3A%20relative%3B%0A%20%20%20%20%20%20%20%20%20%20%20%20%20%20%20%20%20%20%20%20width%3A%20100.0%25%3B%0A%20%20%20%20%20%20%20%20%20%20%20%20%20%20%20%20%20%20%20%20height%3A%20100.0%25%3B%0A%20%20%20%20%20%20%20%20%20%20%20%20%20%20%20%20%20%20%20%20left%3A%200.0%25%3B%0A%20%20%20%20%20%20%20%20%20%20%20%20%20%20%20%20%20%20%20%20top%3A%200.0%25%3B%0A%20%20%20%20%20%20%20%20%20%20%20%20%20%20%20%20%7D%0A%20%20%20%20%20%20%20%20%20%20%20%20%3C/style%3E%0A%20%20%20%20%20%20%20%20%0A%3C/head%3E%0A%3Cbody%3E%20%20%20%20%0A%20%20%20%20%0A%20%20%20%20%20%20%20%20%20%20%20%20%3Cdiv%20class%3D%22folium-map%22%20id%3D%22map_4bfe5f47cdc34dabaf5aef13a3ca669a%22%20%3E%3C/div%3E%0A%20%20%20%20%20%20%20%20%0A%3C/body%3E%0A%3Cscript%3E%20%20%20%20%0A%20%20%20%20%0A%20%20%20%20%20%20%20%20%20%20%20%20var%20map_4bfe5f47cdc34dabaf5aef13a3ca669a%20%3D%20L.map%28%0A%20%20%20%20%20%20%20%20%20%20%20%20%20%20%20%20%22map_4bfe5f47cdc34dabaf5aef13a3ca669a%22%2C%0A%20%20%20%20%20%20%20%20%20%20%20%20%20%20%20%20%7B%0A%20%20%20%20%20%20%20%20%20%20%20%20%20%20%20%20%20%20%20%20center%3A%20%5B30.689472100000003%2C%2070.94217836363636%5D%2C%0A%20%20%20%20%20%20%20%20%20%20%20%20%20%20%20%20%20%20%20%20crs%3A%20L.CRS.EPSG3857%2C%0A%20%20%20%20%20%20%20%20%20%20%20%20%20%20%20%20%20%20%20%20zoom%3A%2012%2C%0A%20%20%20%20%20%20%20%20%20%20%20%20%20%20%20%20%20%20%20%20zoomControl%3A%20true%2C%0A%20%20%20%20%20%20%20%20%20%20%20%20%20%20%20%20%20%20%20%20preferCanvas%3A%20false%2C%0A%20%20%20%20%20%20%20%20%20%20%20%20%20%20%20%20%7D%0A%20%20%20%20%20%20%20%20%20%20%20%20%29%3B%0A%20%20%20%20%20%20%20%20%20%20%20%20L.control.scale%28%29.addTo%28map_4bfe5f47cdc34dabaf5aef13a3ca669a%29%3B%0A%0A%20%20%20%20%20%20%20%20%20%20%20%20%0A%0A%20%20%20%20%20%20%20%20%0A%20%20%20%20%0A%20%20%20%20%20%20%20%20%20%20%20%20var%20tile_layer_2685ddd9b2994f24b79e91883cd4627e%20%3D%20L.tileLayer%28%0A%20%20%20%20%20%20%20%20%20%20%20%20%20%20%20%20%22https%3A//%7Bs%7D.tile.openstreetmap.org/%7Bz%7D/%7Bx%7D/%7By%7D.png%22%2C%0A%20%20%20%20%20%20%20%20%20%20%20%20%20%20%20%20%7B%22attribution%22%3A%20%22Data%20by%20%5Cu0026copy%3B%20%5Cu003ca%20href%3D%5C%22http%3A//openstreetmap.org%5C%22%5Cu003eOpenStreetMap%5Cu003c/a%5Cu003e%2C%20under%20%5Cu003ca%20href%3D%5C%22http%3A//www.openstreetmap.org/copyright%5C%22%5Cu003eODbL%5Cu003c/a%5Cu003e.%22%2C%20%22detectRetina%22%3A%20false%2C%20%22maxNativeZoom%22%3A%2018%2C%20%22maxZoom%22%3A%2018%2C%20%22minZoom%22%3A%200%2C%20%22noWrap%22%3A%20false%2C%20%22opacity%22%3A%201%2C%20%22subdomains%22%3A%20%22abc%22%2C%20%22tms%22%3A%20false%7D%0A%20%20%20%20%20%20%20%20%20%20%20%20%29.addTo%28map_4bfe5f47cdc34dabaf5aef13a3ca669a%29%3B%0A%20%20%20%20%20%20%20%20%0A%20%20%20%20%0A%20%20%20%20%20%20%20%20%20%20%20%20var%20marker_8a428bebb753470888fbd4d753ac9e06%20%3D%20L.marker%28%0A%20%20%20%20%20%20%20%20%20%20%20%20%20%20%20%20%5B33.6989%2C%2073.0369%5D%2C%0A%20%20%20%20%20%20%20%20%20%20%20%20%20%20%20%20%7B%22markerColor%22%3A%20%22red%22%7D%0A%20%20%20%20%20%20%20%20%20%20%20%20%29.addTo%28map_4bfe5f47cdc34dabaf5aef13a3ca669a%29%3B%0A%20%20%20%20%20%20%20%20%0A%20%20%20%20%0A%20%20%20%20%20%20%20%20var%20popup_09cf00d4badf410c99a68390906c2c71%20%3D%20L.popup%28%7B%22maxWidth%22%3A%20%22100%25%22%7D%29%3B%0A%0A%20%20%20%20%20%20%20%20%0A%20%20%20%20%20%20%20%20%20%20%20%20var%20html_4e5e57af6a8a40e2870d4169a98ced09%20%3D%20%24%28%60%3Cdiv%20id%3D%22html_4e5e57af6a8a40e2870d4169a98ced09%22%20style%3D%22width%3A%20100.0%25%3B%20height%3A%20100.0%25%3B%22%3EIslamabad%3C/div%3E%60%29%5B0%5D%3B%0A%20%20%20%20%20%20%20%20%20%20%20%20popup_09cf00d4badf410c99a68390906c2c71.setContent%28html_4e5e57af6a8a40e2870d4169a98ced09%29%3B%0A%20%20%20%20%20%20%20%20%0A%0A%20%20%20%20%20%20%20%20marker_8a428bebb753470888fbd4d753ac9e06.bindPopup%28popup_09cf00d4badf410c99a68390906c2c71%29%0A%20%20%20%20%20%20%20%20%3B%0A%0A%20%20%20%20%20%20%20%20%0A%20%20%20%20%0A%20%20%20%20%0A%20%20%20%20%20%20%20%20%20%20%20%20var%20marker_5c1e26faa8dd4ce5b7cc170ee09cd220%20%3D%20L.marker%28%0A%20%20%20%20%20%20%20%20%20%20%20%20%20%20%20%20%5B31.5497%2C%2074.3436%5D%2C%0A%20%20%20%20%20%20%20%20%20%20%20%20%20%20%20%20%7B%22markerColor%22%3A%20%22red%22%7D%0A%20%20%20%20%20%20%20%20%20%20%20%20%29.addTo%28map_4bfe5f47cdc34dabaf5aef13a3ca669a%29%3B%0A%20%20%20%20%20%20%20%20%0A%20%20%20%20%0A%20%20%20%20%20%20%20%20var%20popup_eee5a8b2c03046668ae01c3ab3c0c600%20%3D%20L.popup%28%7B%22maxWidth%22%3A%20%22100%25%22%7D%29%3B%0A%0A%20%20%20%20%20%20%20%20%0A%20%20%20%20%20%20%20%20%20%20%20%20var%20html_81d2ad250606440fb62df8c3c8135bd2%20%3D%20%24%28%60%3Cdiv%20id%3D%22html_81d2ad250606440fb62df8c3c8135bd2%22%20style%3D%22width%3A%20100.0%25%3B%20height%3A%20100.0%25%3B%22%3ELahore%3C/div%3E%60%29%5B0%5D%3B%0A%20%20%20%20%20%20%20%20%20%20%20%20popup_eee5a8b2c03046668ae01c3ab3c0c600.setContent%28html_81d2ad250606440fb62df8c3c8135bd2%29%3B%0A%20%20%20%20%20%20%20%20%0A%0A%20%20%20%20%20%20%20%20marker_5c1e26faa8dd4ce5b7cc170ee09cd220.bindPopup%28popup_eee5a8b2c03046668ae01c3ab3c0c600%29%0A%20%20%20%20%20%20%20%20%3B%0A%0A%20%20%20%20%20%20%20%20%0A%20%20%20%20%0A%20%20%20%20%0A%20%20%20%20%20%20%20%20%20%20%20%20var%20marker_eec196b1d7a04426bba0cb30aa613227%20%3D%20L.marker%28%0A%20%20%20%20%20%20%20%20%20%20%20%20%20%20%20%20%5B24.86%2C%2067.01%5D%2C%0A%20%20%20%20%20%20%20%20%20%20%20%20%20%20%20%20%7B%22markerColor%22%3A%20%22red%22%7D%0A%20%20%20%20%20%20%20%20%20%20%20%20%29.addTo%28map_4bfe5f47cdc34dabaf5aef13a3ca669a%29%3B%0A%20%20%20%20%20%20%20%20%0A%20%20%20%20%0A%20%20%20%20%20%20%20%20var%20popup_9a35548084214c32b74784dd1f6b884b%20%3D%20L.popup%28%7B%22maxWidth%22%3A%20%22100%25%22%7D%29%3B%0A%0A%20%20%20%20%20%20%20%20%0A%20%20%20%20%20%20%20%20%20%20%20%20var%20html_a49bb32d7e5949d787bd57b68959cb78%20%3D%20%24%28%60%3Cdiv%20id%3D%22html_a49bb32d7e5949d787bd57b68959cb78%22%20style%3D%22width%3A%20100.0%25%3B%20height%3A%20100.0%25%3B%22%3EKarachi%3C/div%3E%60%29%5B0%5D%3B%0A%20%20%20%20%20%20%20%20%20%20%20%20popup_9a35548084214c32b74784dd1f6b884b.setContent%28html_a49bb32d7e5949d787bd57b68959cb78%29%3B%0A%20%20%20%20%20%20%20%20%0A%0A%20%20%20%20%20%20%20%20marker_eec196b1d7a04426bba0cb30aa613227.bindPopup%28popup_9a35548084214c32b74784dd1f6b884b%29%0A%20%20%20%20%20%20%20%20%3B%0A%0A%20%20%20%20%20%20%20%20%0A%20%20%20%20%0A%20%20%20%20%0A%20%20%20%20%20%20%20%20%20%20%20%20var%20marker_0d1779386f0a459ab224d79b01e296c1%20%3D%20L.marker%28%0A%20%20%20%20%20%20%20%20%20%20%20%20%20%20%20%20%5B34.0%2C%2071.5%5D%2C%0A%20%20%20%20%20%20%20%20%20%20%20%20%20%20%20%20%7B%22markerColor%22%3A%20%22red%22%7D%0A%20%20%20%20%20%20%20%20%20%20%20%20%29.addTo%28map_4bfe5f47cdc34dabaf5aef13a3ca669a%29%3B%0A%20%20%20%20%20%20%20%20%0A%20%20%20%20%0A%20%20%20%20%20%20%20%20var%20popup_8d05dee77dda4eadaf7cc7e301eec666%20%3D%20L.popup%28%7B%22maxWidth%22%3A%20%22100%25%22%7D%29%3B%0A%0A%20%20%20%20%20%20%20%20%0A%20%20%20%20%20%20%20%20%20%20%20%20var%20html_555c13d495c64341a4f2a4cc4de9acfd%20%3D%20%24%28%60%3Cdiv%20id%3D%22html_555c13d495c64341a4f2a4cc4de9acfd%22%20style%3D%22width%3A%20100.0%25%3B%20height%3A%20100.0%25%3B%22%3EPeshawar%3C/div%3E%60%29%5B0%5D%3B%0A%20%20%20%20%20%20%20%20%20%20%20%20popup_8d05dee77dda4eadaf7cc7e301eec666.setContent%28html_555c13d495c64341a4f2a4cc4de9acfd%29%3B%0A%20%20%20%20%20%20%20%20%0A%0A%20%20%20%20%20%20%20%20marker_0d1779386f0a459ab224d79b01e296c1.bindPopup%28popup_8d05dee77dda4eadaf7cc7e301eec666%29%0A%20%20%20%20%20%20%20%20%3B%0A%0A%20%20%20%20%20%20%20%20%0A%20%20%20%20%0A%20%20%20%20%0A%20%20%20%20%20%20%20%20%20%20%20%20var%20marker_ae79d2f8a17c4ade95e5f02a7f6e8742%20%3D%20L.marker%28%0A%20%20%20%20%20%20%20%20%20%20%20%20%20%20%20%20%5B25.3792%2C%2068.3683%5D%2C%0A%20%20%20%20%20%20%20%20%20%20%20%20%20%20%20%20%7B%22markerColor%22%3A%20%22red%22%7D%0A%20%20%20%20%20%20%20%20%20%20%20%20%29.addTo%28map_4bfe5f47cdc34dabaf5aef13a3ca669a%29%3B%0A%20%20%20%20%20%20%20%20%0A%20%20%20%20%0A%20%20%20%20%20%20%20%20var%20popup_8cca8123b64b494ba10e530571787f36%20%3D%20L.popup%28%7B%22maxWidth%22%3A%20%22100%25%22%7D%29%3B%0A%0A%20%20%20%20%20%20%20%20%0A%20%20%20%20%20%20%20%20%20%20%20%20var%20html_d52ada0475e540bdb1d68a8b577c2d03%20%3D%20%24%28%60%3Cdiv%20id%3D%22html_d52ada0475e540bdb1d68a8b577c2d03%22%20style%3D%22width%3A%20100.0%25%3B%20height%3A%20100.0%25%3B%22%3EHyderabad%3C/div%3E%60%29%5B0%5D%3B%0A%20%20%20%20%20%20%20%20%20%20%20%20popup_8cca8123b64b494ba10e530571787f36.setContent%28html_d52ada0475e540bdb1d68a8b577c2d03%29%3B%0A%20%20%20%20%20%20%20%20%0A%0A%20%20%20%20%20%20%20%20marker_ae79d2f8a17c4ade95e5f02a7f6e8742.bindPopup%28popup_8cca8123b64b494ba10e530571787f36%29%0A%20%20%20%20%20%20%20%20%3B%0A%0A%20%20%20%20%20%20%20%20%0A%20%20%20%20%0A%20%20%20%20%0A%20%20%20%20%20%20%20%20%20%20%20%20var%20marker_0d5dda90332b4663b2c624af0ff3b143%20%3D%20L.marker%28%0A%20%20%20%20%20%20%20%20%20%20%20%20%20%20%20%20%5B32.9405%2C%2073.7276%5D%2C%0A%20%20%20%20%20%20%20%20%20%20%20%20%20%20%20%20%7B%22markerColor%22%3A%20%22red%22%7D%0A%20%20%20%20%20%20%20%20%20%20%20%20%29.addTo%28map_4bfe5f47cdc34dabaf5aef13a3ca669a%29%3B%0A%20%20%20%20%20%20%20%20%0A%20%20%20%20%0A%20%20%20%20%20%20%20%20var%20popup_50929548190a40bc82d1cb9c1f012b41%20%3D%20L.popup%28%7B%22maxWidth%22%3A%20%22100%25%22%7D%29%3B%0A%0A%20%20%20%20%20%20%20%20%0A%20%20%20%20%20%20%20%20%20%20%20%20var%20html_334b2c6ff90a4848990ac92626f8b3e5%20%3D%20%24%28%60%3Cdiv%20id%3D%22html_334b2c6ff90a4848990ac92626f8b3e5%22%20style%3D%22width%3A%20100.0%25%3B%20height%3A%20100.0%25%3B%22%3EJehlum%3C/div%3E%60%29%5B0%5D%3B%0A%20%20%20%20%20%20%20%20%20%20%20%20popup_50929548190a40bc82d1cb9c1f012b41.setContent%28html_334b2c6ff90a4848990ac92626f8b3e5%29%3B%0A%20%20%20%20%20%20%20%20%0A%0A%20%20%20%20%20%20%20%20marker_0d5dda90332b4663b2c624af0ff3b143.bindPopup%28popup_50929548190a40bc82d1cb9c1f012b41%29%0A%20%20%20%20%20%20%20%20%3B%0A%0A%20%20%20%20%20%20%20%20%0A%20%20%20%20%0A%20%20%20%20%0A%20%20%20%20%20%20%20%20%20%20%20%20var%20marker_bf3c87c63d334bb88898d3456990b94c%20%3D%20L.marker%28%0A%20%20%20%20%20%20%20%20%20%20%20%20%20%20%20%20%5B30.1978%2C%2071.4711%5D%2C%0A%20%20%20%20%20%20%20%20%20%20%20%20%20%20%20%20%7B%22markerColor%22%3A%20%22red%22%7D%0A%20%20%20%20%20%20%20%20%20%20%20%20%29.addTo%28map_4bfe5f47cdc34dabaf5aef13a3ca669a%29%3B%0A%20%20%20%20%20%20%20%20%0A%20%20%20%20%0A%20%20%20%20%20%20%20%20var%20popup_9ced98d4d8c2454783708236463f0b8b%20%3D%20L.popup%28%7B%22maxWidth%22%3A%20%22100%25%22%7D%29%3B%0A%0A%20%20%20%20%20%20%20%20%0A%20%20%20%20%20%20%20%20%20%20%20%20var%20html_f9398737747442e7a67108813616a849%20%3D%20%24%28%60%3Cdiv%20id%3D%22html_f9398737747442e7a67108813616a849%22%20style%3D%22width%3A%20100.0%25%3B%20height%3A%20100.0%25%3B%22%3EMultan%3C/div%3E%60%29%5B0%5D%3B%0A%20%20%20%20%20%20%20%20%20%20%20%20popup_9ced98d4d8c2454783708236463f0b8b.setContent%28html_f9398737747442e7a67108813616a849%29%3B%0A%20%20%20%20%20%20%20%20%0A%0A%20%20%20%20%20%20%20%20marker_bf3c87c63d334bb88898d3456990b94c.bindPopup%28popup_9ced98d4d8c2454783708236463f0b8b%29%0A%20%20%20%20%20%20%20%20%3B%0A%0A%20%20%20%20%20%20%20%20%0A%20%20%20%20%0A%20%20%20%20%0A%20%20%20%20%20%20%20%20%20%20%20%20var%20marker_c87bf89d603c44a19faea729ca99a1e7%20%3D%20L.marker%28%0A%20%20%20%20%20%20%20%20%20%20%20%20%20%20%20%20%5B33.2536611%2C%2070.496744%5D%2C%0A%20%20%20%20%20%20%20%20%20%20%20%20%20%20%20%20%7B%22markerColor%22%3A%20%22red%22%7D%0A%20%20%20%20%20%20%20%20%20%20%20%20%29.addTo%28map_4bfe5f47cdc34dabaf5aef13a3ca669a%29%3B%0A%20%20%20%20%20%20%20%20%0A%20%20%20%20%0A%20%20%20%20%20%20%20%20var%20popup_c0efcf1600fc4386868932567ea999c0%20%3D%20L.popup%28%7B%22maxWidth%22%3A%20%22100%25%22%7D%29%3B%0A%0A%20%20%20%20%20%20%20%20%0A%20%20%20%20%20%20%20%20%20%20%20%20var%20html_77582e2bf60642fc993180a178020ca2%20%3D%20%24%28%60%3Cdiv%20id%3D%22html_77582e2bf60642fc993180a178020ca2%22%20style%3D%22width%3A%20100.0%25%3B%20height%3A%20100.0%25%3B%22%3EShewa%3C/div%3E%60%29%5B0%5D%3B%0A%20%20%20%20%20%20%20%20%20%20%20%20popup_c0efcf1600fc4386868932567ea999c0.setContent%28html_77582e2bf60642fc993180a178020ca2%29%3B%0A%20%20%20%20%20%20%20%20%0A%0A%20%20%20%20%20%20%20%20marker_c87bf89d603c44a19faea729ca99a1e7.bindPopup%28popup_c0efcf1600fc4386868932567ea999c0%29%0A%20%20%20%20%20%20%20%20%3B%0A%0A%20%20%20%20%20%20%20%20%0A%20%20%20%20%0A%20%20%20%20%0A%20%20%20%20%20%20%20%20%20%20%20%20var%20marker_54a70d02572742c68da537a107803788%20%3D%20L.marker%28%0A%20%20%20%20%20%20%20%20%20%20%20%20%20%20%20%20%5B30.1798%2C%2066.975%5D%2C%0A%20%20%20%20%20%20%20%20%20%20%20%20%20%20%20%20%7B%22markerColor%22%3A%20%22red%22%7D%0A%20%20%20%20%20%20%20%20%20%20%20%20%29.addTo%28map_4bfe5f47cdc34dabaf5aef13a3ca669a%29%3B%0A%20%20%20%20%20%20%20%20%0A%20%20%20%20%0A%20%20%20%20%20%20%20%20var%20popup_d9b2541b30c749a896eb137312eaef2c%20%3D%20L.popup%28%7B%22maxWidth%22%3A%20%22100%25%22%7D%29%3B%0A%0A%20%20%20%20%20%20%20%20%0A%20%20%20%20%20%20%20%20%20%20%20%20var%20html_56495b7af0fa4eee8d48d1c53461473a%20%3D%20%24%28%60%3Cdiv%20id%3D%22html_56495b7af0fa4eee8d48d1c53461473a%22%20style%3D%22width%3A%20100.0%25%3B%20height%3A%20100.0%25%3B%22%3EQuetta%3C/div%3E%60%29%5B0%5D%3B%0A%20%20%20%20%20%20%20%20%20%20%20%20popup_d9b2541b30c749a896eb137312eaef2c.setContent%28html_56495b7af0fa4eee8d48d1c53461473a%29%3B%0A%20%20%20%20%20%20%20%20%0A%0A%20%20%20%20%20%20%20%20marker_54a70d02572742c68da537a107803788.bindPopup%28popup_d9b2541b30c749a896eb137312eaef2c%29%0A%20%20%20%20%20%20%20%20%3B%0A%0A%20%20%20%20%20%20%20%20%0A%20%20%20%20%0A%20%20%20%20%0A%20%20%20%20%20%20%20%20%20%20%20%20var%20marker_c6e18876c3f74e5a9f8925e24df56388%20%3D%20L.marker%28%0A%20%20%20%20%20%20%20%20%20%20%20%20%20%20%20%20%5B31.831832%2C%2070.911518%5D%2C%0A%20%20%20%20%20%20%20%20%20%20%20%20%20%20%20%20%7B%22markerColor%22%3A%20%22red%22%7D%0A%20%20%20%20%20%20%20%20%20%20%20%20%29.addTo%28map_4bfe5f47cdc34dabaf5aef13a3ca669a%29%3B%0A%20%20%20%20%20%20%20%20%0A%20%20%20%20%0A%20%20%20%20%20%20%20%20var%20popup_7073a77575fa48c289f349fd22a35491%20%3D%20L.popup%28%7B%22maxWidth%22%3A%20%22100%25%22%7D%29%3B%0A%0A%20%20%20%20%20%20%20%20%0A%20%20%20%20%20%20%20%20%20%20%20%20var%20html_259ff9d4ae7e4120863d7dcf13c04fc2%20%3D%20%24%28%60%3Cdiv%20id%3D%22html_259ff9d4ae7e4120863d7dcf13c04fc2%22%20style%3D%22width%3A%20100.0%25%3B%20height%3A%20100.0%25%3B%22%3EDera%20Ismail%20Khan%3C/div%3E%60%29%5B0%5D%3B%0A%20%20%20%20%20%20%20%20%20%20%20%20popup_7073a77575fa48c289f349fd22a35491.setContent%28html_259ff9d4ae7e4120863d7dcf13c04fc2%29%3B%0A%20%20%20%20%20%20%20%20%0A%0A%20%20%20%20%20%20%20%20marker_c6e18876c3f74e5a9f8925e24df56388.bindPopup%28popup_7073a77575fa48c289f349fd22a35491%29%0A%20%20%20%20%20%20%20%20%3B%0A%0A%20%20%20%20%20%20%20%20%0A%20%20%20%20%0A%20%20%20%20%0A%20%20%20%20%20%20%20%20%20%20%20%20var%20marker_241f97a79cc84cb693cc78d14b776641%20%3D%20L.marker%28%0A%20%20%20%20%20%20%20%20%20%20%20%20%20%20%20%20%5B29.6928%2C%2072.5232%5D%2C%0A%20%20%20%20%20%20%20%20%20%20%20%20%20%20%20%20%7B%22markerColor%22%3A%20%22red%22%7D%0A%20%20%20%20%20%20%20%20%20%20%20%20%29.addTo%28map_4bfe5f47cdc34dabaf5aef13a3ca669a%29%3B%0A%20%20%20%20%20%20%20%20%0A%20%20%20%20%0A%20%20%20%20%20%20%20%20var%20popup_89cfbbcebf0d48f0900ecf33236076d9%20%3D%20L.popup%28%7B%22maxWidth%22%3A%20%22100%25%22%7D%29%3B%0A%0A%20%20%20%20%20%20%20%20%0A%20%20%20%20%20%20%20%20%20%20%20%20var%20html_d4dbe15a3e3d45e2af46a46a61727ae0%20%3D%20%24%28%60%3Cdiv%20id%3D%22html_d4dbe15a3e3d45e2af46a46a61727ae0%22%20style%3D%22width%3A%20100.0%25%3B%20height%3A%20100.0%25%3B%22%3ECholistan%3C/div%3E%60%29%5B0%5D%3B%0A%20%20%20%20%20%20%20%20%20%20%20%20popup_89cfbbcebf0d48f0900ecf33236076d9.setContent%28html_d4dbe15a3e3d45e2af46a46a61727ae0%29%3B%0A%20%20%20%20%20%20%20%20%0A%0A%20%20%20%20%20%20%20%20marker_241f97a79cc84cb693cc78d14b776641.bindPopup%28popup_89cfbbcebf0d48f0900ecf33236076d9%29%0A%20%20%20%20%20%20%20%20%3B%0A%0A%20%20%20%20%20%20%20%20%0A%20%20%20%20%0A%3C/script%3E onload=\"this.contentDocument.open();this.contentDocument.write(    decodeURIComponent(this.getAttribute('data-html')));this.contentDocument.close();\" allowfullscreen webkitallowfullscreen mozallowfullscreen></iframe></div></div>"
      ],
      "text/plain": [
       "<folium.folium.Map at 0x1f7b1283550>"
      ]
     },
     "metadata": {},
     "output_type": "display_data"
    }
   ],
   "source": [
    "# CREATING MAP OF THE INITIAL CITES BY USING FOLIUM LIBRARY AND \n",
    "# BY CALLING ABOVE CREATE MAP FUNCTION\n",
    "Create_map(df)\n"
   ]
  },
  {
   "cell_type": "code",
   "execution_count": 164,
   "metadata": {},
   "outputs": [
    {
     "data": {
      "image/png": "[encoded data removed]",
      "text/plain": [
       "<Figure size 720x720 with 1 Axes>"
      ]
     },
     "metadata": {
      "needs_background": "light"
     },
     "output_type": "display_data"
    }
   ],
   "source": [
    "# STATIONS AND OBSTACLES CREATED BY CALLING THE DESIRED FUNCTION CODDED ABOVE\n",
    "Create_Stations_and_Obstacles(df)\n"
   ]
  },
  {
   "cell_type": "code",
   "execution_count": 165,
   "metadata": {},
   "outputs": [],
   "source": [
    "#calculated distance between each langitute and lattitude point\n",
    "#calculated distance between each points and save in array\n",
    "\n",
    "Calcluate_distance_Matrix(df)\n",
    "\n"
   ]
  },
  {
   "cell_type": "code",
   "execution_count": 166,
   "metadata": {},
   "outputs": [],
   "source": [
    "# CREATED THE ADJENCY MATRIX OF GRAPH CONTAINING CITIES AS POINTS:\n",
    "\n",
    "\n",
    "# GIVEN NUMBERING TO OUR CITIES :\n",
    "islamabad = 0\n",
    "lahore = 1\n",
    "karachi=2\n",
    "peshawar=3\n",
    "hyderabad=4\n",
    "jhelum=5\n",
    "multan=6\n",
    "shewa=7\n",
    "quetta=8\n",
    "dera_ismail_khan=9\n",
    "cholistan=10\n",
    "\n",
    "#ADJENCY MATRIX :\n",
    "            #0  1  2  3  4  5  6  7  8  9 10\n",
    "path_mat = [[0, 0, 0, 1, 0, 1, 1, 0, 0, 0, 0], #0\n",
    "            [0, 0, 0, 0, 0, 1, 1, 0, 0, 1, 1], #1\n",
    "            [0, 0, 0, 0, 1, 0, 0, 0, 1, 0, 0], #2\n",
    "            [1, 0, 0, 0, 0, 0, 1, 0, 1, 0, 0], #3\n",
    "            [0, 0, 1, 0, 0, 0, 0, 0, 0, 1, 0], #4\n",
    "            [1, 1, 0, 0, 0, 0, 1, 0, 0, 0, 0], #5    \n",
    "            [1, 0, 0, 1, 0, 1, 0, 1, 0, 0, 0], #6\n",
    "            [0, 0, 0, 0, 0, 0, 1, 0, 1, 1, 0], #7\n",
    "            [0, 0, 1, 1, 0, 0, 0, 1, 0, 0, 0], #8\n",
    "            [0, 1, 0, 0, 0, 0, 0, 1, 0, 0, 1], #9\n",
    "            [0, 1, 0, 0, 0, 0, 0, 0, 0, 1, 0]] #10\n",
    "            "
   ]
  },
  {
   "cell_type": "code",
   "execution_count": 167,
   "metadata": {},
   "outputs": [],
   "source": [
    "# CREATED THE INITIAL DISTANCE MATRIX OF THE DISTANCES \n",
    "# FROM EVERY CITY TO OTHER CITY WHERE THER IS A PATH IN \n",
    "# THE ADJENCY MATRIX :\n",
    "\n",
    "             #0  1  2  3  4  5  6  7  8  9 10\n",
    "ist_mat =   [[0, 0, 0, 1.5661, 0, 1.0258, 3.8353, 0, 0, 0, 0],    #0\n",
    "            [0, 0, 0, 0, 0, 1.5211, 0, 0, 0, 3.4437, 2.6004],     #1\n",
    "            [0, 0, 0, 0, 1.4541, 0, 0, 0, 5.3199, 0, 0],          #2\n",
    "            [1.5661, 0, 0, 0, 0, 0, 3.8023, 0, 5.9219, 0, 0],     #3\n",
    "            [0, 0, 1.4541, 0, 0, 0, 0, 0, 0, 6.9357, 0],          #4\n",
    "            [1.0258, 1.5211, 0, 0, 0, 0, 3.5516, 0, 0, 0, 0],     #5 \n",
    "            [3.8353, 0, 0, 3.8023, 0, 3.5516, 0, 3.2074, 0, 0, 0],#6\n",
    "            [0, 0, 0, 0, 0, 0, 3.2074, 0, 4.6745, 1.4810, 0],     #7\n",
    "            [0, 0, 5.3199, 5.9219, 0, 0, 0, 4.6745, 0, 0, 0],     #8\n",
    "            [0, 3.4437, 0, 0, 0, 0, 0, 1.4811, 0, 0, 2.6782],     #9\n",
    "            [0, 2.6004, 0, 0, 0, 0, 0, 0, 0, 2.6782, 0] ]         #10\n",
    "\n"
   ]
  },
  {
   "cell_type": "code",
   "execution_count": 168,
   "metadata": {},
   "outputs": [
    {
     "name": "stdout",
     "output_type": "stream",
     "text": [
      "[0, 3, 6, 5, 1, 9, 7, 8, 2]\n",
      "[0, 3, 6, 5, 1, 10, 9, 7, 8, 2]\n",
      "[0, 3, 6, 7, 8, 2]\n",
      "[0, 3, 8, 2]\n",
      "[0, 5, 1, 9, 7, 6, 3, 8, 2]\n",
      "[0, 5, 1, 9, 7, 8, 2]\n",
      "[0, 5, 1, 10, 9, 7, 6, 3, 8, 2]\n",
      "[0, 5, 1, 10, 9, 7, 8, 2]\n",
      "[0, 5, 6, 3, 8, 2]\n",
      "[0, 5, 6, 7, 8, 2]\n",
      "[0, 6, 3, 8, 2]\n",
      "[0, 6, 5, 1, 9, 7, 8, 2]\n",
      "[0, 6, 5, 1, 10, 9, 7, 8, 2]\n",
      "[0, 6, 7, 8, 2]\n",
      "[]\n"
     ]
    },
    {
     "data": {
      "text/plain": [
       "[[0, 3, 6, 5, 1, 9, 7, 8, 2],\n",
       " [0, 3, 6, 5, 1, 10, 9, 7, 8, 2],\n",
       " [0, 3, 6, 7, 8, 2],\n",
       " [0, 3, 8, 2],\n",
       " [0, 5, 1, 9, 7, 6, 3, 8, 2],\n",
       " [0, 5, 1, 9, 7, 8, 2],\n",
       " [0, 5, 1, 10, 9, 7, 6, 3, 8, 2],\n",
       " [0, 5, 1, 10, 9, 7, 8, 2],\n",
       " [0, 5, 6, 3, 8, 2],\n",
       " [0, 5, 6, 7, 8, 2],\n",
       " [0, 6, 3, 8, 2],\n",
       " [0, 6, 5, 1, 9, 7, 8, 2],\n",
       " [0, 6, 5, 1, 10, 9, 7, 8, 2],\n",
       " [0, 6, 7, 8, 2]]"
      ]
     },
     "execution_count": 168,
     "metadata": {},
     "output_type": "execute_result"
    }
   ],
   "source": [
    "# CREATED THE GRAPH FROM GRAPH CLASS AND ADDED THE EDGES \n",
    "# ONLY WHERE THERE IS A PATH IN ADJENCY MATRIX :\n",
    "\n",
    "# GRAPH CREATION :\n",
    "distancegraph = Graph(11)  \n",
    "\n",
    "#ADDING EDGES:\n",
    "distancegraph.addEdge(0,3)\n",
    "distancegraph.addEdge(0,5)\n",
    "distancegraph.addEdge(0,6)\n",
    "distancegraph.addEdge(1,5)\n",
    "distancegraph.addEdge(1,9)\n",
    "distancegraph.addEdge(1,10)\n",
    "distancegraph.addEdge(2,4)\n",
    "distancegraph.addEdge(2,8)\n",
    "distancegraph.addEdge(3,0)\n",
    "distancegraph.addEdge(3,6)\n",
    "distancegraph.addEdge(3,8)\n",
    "distancegraph.addEdge(4,2)\n",
    "distancegraph.addEdge(4,9)\n",
    "distancegraph.addEdge(5,0)\n",
    "distancegraph.addEdge(5,1)\n",
    "distancegraph.addEdge(5,6)\n",
    "distancegraph.addEdge(6,0)\n",
    "distancegraph.addEdge(6,3)\n",
    "distancegraph.addEdge(6,5)\n",
    "distancegraph.addEdge(6,7)\n",
    "distancegraph.addEdge(7,6)\n",
    "distancegraph.addEdge(7,8)\n",
    "distancegraph.addEdge(7,9)\n",
    "distancegraph.addEdge(8,2)\n",
    "distancegraph.addEdge(8,3)\n",
    "distancegraph.addEdge(8,7)\n",
    "distancegraph.addEdge(9,1)\n",
    "distancegraph.addEdge(9,7)\n",
    "distancegraph.addEdge(9,10)\n",
    "distancegraph.addEdge(10,1)\n",
    "distancegraph.addEdge(10,9)\n",
    "\n",
    "\n",
    "# GIVING THE INTIAL POINT/SOURCE AND DESTINATION POINT FOR\n",
    "# APPLYING GENECTIC ALGORITHM TO FIND THE OPTIMAL PATH \n",
    "# 0 IS ISLAMABAD\n",
    "# 2 IS KARACHI\n",
    "# WE CAN ALSO CHANGE THESE SOURCE AND DESTINATION POINTS\n",
    "\n",
    "distancegraph.printAllPaths(0,2)\n",
    "\n",
    "distancegraph.paths"
   ]
  },
  {
   "cell_type": "code",
   "execution_count": 169,
   "metadata": {},
   "outputs": [],
   "source": [
    "# GENETIC ALGORITHM IMPLEMENTATION :\n",
    "# OUR MAIN GATEWAY :\n",
    "\n",
    "loop_var = 0\n",
    "while(loop_var<50):\n",
    "    distancegraph_list = distancegraph.paths.copy()  # DISTANCE GRAPH GENERATION\n",
    "    fitness_list = Calculate_fitness(distancegraph_list) # CALCULATING FITNESS \n",
    "    if loop_var == 0:\n",
    "        first_fitness_list = fitness_list.copy()   # SAVING THE FITNESS LIST BEFORE GENETIC ALGORITHM\n",
    "    max_index = Calculate_max_fitness(fitness_list)  #CALCLUATING MAX FINESS\n",
    "    a,b = Calculate_Parents(fitness_list)            #CALCULATING  PARENTS (BEST CHROMOSOMES/PATHS HAVING BEST FITNESS VALUE )\n",
    "    final_intersection_point = Calculate_Crossover_Inetersection_Point(a,b) # FINDING INTERSECTION POINT\n",
    "    child1_list = single_point_crossover(a , b , final_intersection_point)  # PERFORIMING CROSS-OVER\n",
    "    Updating_population(child1_list)   # UPDATING THE POPULATION AFTER CROSSOVER\n",
    "    loop_var = loop_var+1\n",
    "\n",
    "\n",
    "\n"
   ]
  },
  {
   "cell_type": "code",
   "execution_count": 170,
   "metadata": {},
   "outputs": [
    {
     "name": "stdout",
     "output_type": "stream",
     "text": [
      "Initial population of Chromosomes/Paths form Source to destination : \n"
     ]
    },
    {
     "data": {
      "text/plain": [
       "[[0, 3, 6, 5, 1, 9, 7, 8, 2],\n",
       " [0, 3, 8, 2, 2],\n",
       " [0, 3, 6, 7, 8, 2],\n",
       " [0, 3, 8, 2],\n",
       " [0, 3, 8, 7, 8, 2],\n",
       " [0, 5, 1, 9, 7, 8, 2],\n",
       " [0, 3, 5, 1, 10, 9, 7, 8, 2],\n",
       " [0, 5, 1, 10, 9, 7, 8, 2],\n",
       " [0, 5, 6, 3, 8, 2],\n",
       " [0, 5, 6, 7, 8, 2],\n",
       " [0, 6, 3, 8, 2],\n",
       " [0, 6, 5, 1, 9, 7, 8, 2],\n",
       " [0, 6, 5, 1, 10, 9, 7, 8, 2],\n",
       " [0, 6, 7, 8, 2]]"
      ]
     },
     "execution_count": 170,
     "metadata": {},
     "output_type": "execute_result"
    }
   ],
   "source": [
    "print(\"Initial population of Chromosomes/Paths form Source to destination : \")\n",
    "distancegraph.paths"
   ]
  },
  {
   "cell_type": "code",
   "execution_count": 171,
   "metadata": {},
   "outputs": [
    {
     "name": "stdout",
     "output_type": "stream",
     "text": [
      "Initial Fitness values of all Chromosomes(weights of all paths) :\n",
      "[25.3603, 27.195200000000003, 18.5702, 12.8079, 25.723200000000002, 17.4661, 27.5581, 19.301, 19.6215, 17.7792, 18.8794, 23.8272, 25.662100000000002, 17.0371]\n"
     ]
    }
   ],
   "source": [
    "print( \"Initial Fitness values of all Chromosomes(weights of all paths) :\")\n",
    "print(first_fitness_list)"
   ]
  },
  {
   "cell_type": "code",
   "execution_count": 172,
   "metadata": {},
   "outputs": [
    {
     "data": {
      "text/plain": [
       "[<matplotlib.lines.Line2D at 0x1f7b226ed30>]"
      ]
     },
     "execution_count": 172,
     "metadata": {},
     "output_type": "execute_result"
    },
    {
     "data": {
      "image/png": "[encoded data removed]",
      "text/plain": [
       "<Figure size 432x288 with 1 Axes>"
      ]
     },
     "metadata": {
      "needs_background": "light"
     },
     "output_type": "display_data"
    }
   ],
   "source": [
    "#Graph of intial Fitness Values :\n",
    "plt.plot(first_fitness_list)"
   ]
  },
  {
   "cell_type": "code",
   "execution_count": 173,
   "metadata": {},
   "outputs": [
    {
     "name": "stdout",
     "output_type": "stream",
     "text": [
      "Parents of Final Generation of Genetic Algorithm : \n",
      "[0, 3, 8, 2, 2]\n",
      "[0, 3, 6, 7, 8, 2]\n"
     ]
    }
   ],
   "source": [
    "print (\"Parents of Final Generation of Genetic Algorithm : \")\n",
    "print (a)\n",
    "print (b)"
   ]
  },
  {
   "cell_type": "code",
   "execution_count": 174,
   "metadata": {},
   "outputs": [
    {
     "name": "stdout",
     "output_type": "stream",
     "text": [
      "Intersection Point for final Cross-Over between final Parents(chromosomes):\n",
      "2\n"
     ]
    }
   ],
   "source": [
    "print (\"Intersection Point for final Cross-Over between final Parents(chromosomes):\")\n",
    "print(final_intersection_point)"
   ]
  },
  {
   "cell_type": "code",
   "execution_count": 175,
   "metadata": {},
   "outputs": [
    {
     "name": "stdout",
     "output_type": "stream",
     "text": [
      "Child of the Final Cross-Over between final Parents(chromosomes):\n",
      "[0, 3, 6, 7, 8, 2]\n"
     ]
    }
   ],
   "source": [
    "print(\"Child of the Final Cross-Over between final Parents(chromosomes):\")\n",
    "print(child1_list)"
   ]
  },
  {
   "cell_type": "code",
   "execution_count": 176,
   "metadata": {},
   "outputs": [
    {
     "data": {
      "text/plain": [
       "[12.8079,\n",
       " 25.3603,\n",
       " 18.5702,\n",
       " 12.8079,\n",
       " 22.1569,\n",
       " 17.4661,\n",
       " 19.8413,\n",
       " 19.301,\n",
       " 19.6215,\n",
       " 17.7792,\n",
       " 18.8794,\n",
       " 23.8272,\n",
       " 25.662100000000002,\n",
       " 17.0371]"
      ]
     },
     "execution_count": 176,
     "metadata": {},
     "output_type": "execute_result"
    }
   ],
   "source": [
    "#Fitness Values of Chromosomes after Genetic algorithm :\n",
    "fitness_list"
   ]
  },
  {
   "cell_type": "code",
   "execution_count": 177,
   "metadata": {},
   "outputs": [
    {
     "data": {
      "text/plain": [
       "[<matplotlib.lines.Line2D at 0x1f7b20a1400>]"
      ]
     },
     "execution_count": 177,
     "metadata": {},
     "output_type": "execute_result"
    },
    {
     "data": {
      "image/png": "[encoded data removed]",
      "text/plain": [
       "<Figure size 432x288 with 1 Axes>"
      ]
     },
     "metadata": {
      "needs_background": "light"
     },
     "output_type": "display_data"
    }
   ],
   "source": [
    "#Graph of Fitness Values of Chromosomes  after Genetic Algorithm :\n",
    "plt.plot(fitness_list)"
   ]
  },
  {
   "cell_type": "code",
   "execution_count": 178,
   "metadata": {},
   "outputs": [
    {
     "name": "stdout",
     "output_type": "stream",
     "text": [
      "THE BEST FIT OR OPTIMAL PATH/CHROMOSOME AFTER APPLYING GENETIC ALGORITHM IS :\n"
     ]
    },
    {
     "data": {
      "text/plain": [
       "[0, 3, 6, 5, 1, 9, 7, 8, 2]"
      ]
     },
     "execution_count": 178,
     "metadata": {},
     "output_type": "execute_result"
    }
   ],
   "source": [
    "min_fitness_value = min(fitness_list)\n",
    "min_index_of_fintess = fitness_list.index(min_fitness_value)\n",
    "\n",
    "print(\"THE BEST FIT OR OPTIMAL PATH/CHROMOSOME AFTER APPLYING GENETIC ALGORITHM IS :\")\n",
    "distancegraph.paths[min_index_of_fintess]"
   ]
  },
  {
   "cell_type": "code",
   "execution_count": 179,
   "metadata": {},
   "outputs": [
    {
     "name": "stdout",
     "output_type": "stream",
     "text": [
      "Population of Paths/Chromosomes after performing Mutation :\n"
     ]
    },
    {
     "data": {
      "text/plain": [
       "[[0, 3, 6, 5, 1, 9, 7, 8, 2],\n",
       " [0, 3, 8, 2, 2],\n",
       " [0, 3, 6, 7, 8, 2],\n",
       " [0, 3, 8, 2],\n",
       " [0, 3, 8, 7, 8, 2],\n",
       " [0, 5, 1, 9, 7, 8, 2],\n",
       " [0, 3, 5, 1, 10, 9, 7, 8, 2],\n",
       " [0, 5, 1, 10, 9, 7, 8, 2],\n",
       " [0, 5, 6, 3, 8, 2],\n",
       " [0, 5, 6, 7, 8, 2],\n",
       " [0, 6, 3, 8, 2],\n",
       " [0, 6, 5, 1, 9, 7, 8, 2],\n",
       " [0, 0, 5, 1, 10, 9, 7, 8, 2],\n",
       " [0, 6, 7, 8, 2]]"
      ]
     },
     "execution_count": 179,
     "metadata": {},
     "output_type": "execute_result"
    }
   ],
   "source": [
    "#PERFORMING MUTATION :\n",
    "\n",
    "mutation_index = Calculate_max_fitness(fitness_list)\n",
    "unmutated_chromosome = distancegraph.paths[mutation_index]\n",
    "distancegraph.paths[mutation_index] = mutation(unmutated_chromosome)\n",
    "\n",
    "# Population of Mutated Chromosomes after performing Mutation :\n",
    "print (\"Population of Paths/Chromosomes after performing Mutation :\")\n",
    "fitness_list_after_mutation = Calculate_fitness(distancegraph_list)\n",
    "distancegraph.paths"
   ]
  },
  {
   "cell_type": "code",
   "execution_count": 180,
   "metadata": {},
   "outputs": [
    {
     "data": {
      "text/plain": [
       "[25.3603,\n",
       " 12.8079,\n",
       " 18.5702,\n",
       " 12.8079,\n",
       " 22.1569,\n",
       " 17.4661,\n",
       " 19.8413,\n",
       " 19.301,\n",
       " 19.6215,\n",
       " 17.7792,\n",
       " 18.8794,\n",
       " 23.8272,\n",
       " 19.301,\n",
       " 17.0371]"
      ]
     },
     "execution_count": 180,
     "metadata": {},
     "output_type": "execute_result"
    }
   ],
   "source": [
    "#Fitness Values of Chromosomes after Performing mutation and genetic alogrithm:\n",
    "fitness_list_after_mutation"
   ]
  },
  {
   "cell_type": "code",
   "execution_count": 181,
   "metadata": {},
   "outputs": [
    {
     "data": {
      "text/plain": [
       "[<matplotlib.lines.Line2D at 0x1f7b1fb6ca0>]"
      ]
     },
     "execution_count": 181,
     "metadata": {},
     "output_type": "execute_result"
    },
    {
     "data": {
      "image/png": "[encoded data removed]",
      "text/plain": [
       "<Figure size 432x288 with 1 Axes>"
      ]
     },
     "metadata": {
      "needs_background": "light"
     },
     "output_type": "display_data"
    }
   ],
   "source": [
    "#Graph of fitness list after Mutaion and genetic algorithm :\n",
    "\n",
    "plt.plot(fitness_list_after_mutation)\n"
   ]
  },
  {
   "cell_type": "code",
   "execution_count": 182,
   "metadata": {},
   "outputs": [
    {
     "data": {
      "text/plain": [
       "21.199178571428572"
      ]
     },
     "execution_count": 182,
     "metadata": {},
     "output_type": "execute_result"
    }
   ],
   "source": [
    "average_before_genetic = Average(first_fitness_list)\n",
    "\n",
    "average_before_genetic"
   ]
  },
  {
   "cell_type": "code",
   "execution_count": 183,
   "metadata": {},
   "outputs": [
    {
     "data": {
      "text/plain": [
       "19.36557857142857"
      ]
     },
     "execution_count": 183,
     "metadata": {},
     "output_type": "execute_result"
    }
   ],
   "source": [
    "average_after_genetic = Average(fitness_list)\n",
    "\n",
    "average_after_genetic"
   ]
  },
  {
   "cell_type": "code",
   "execution_count": 184,
   "metadata": {},
   "outputs": [
    {
     "data": {
      "text/plain": [
       "18.911214285714287"
      ]
     },
     "execution_count": 184,
     "metadata": {},
     "output_type": "execute_result"
    }
   ],
   "source": [
    "average_after_Mutation = Average(fitness_list_after_mutation)\n",
    "\n",
    "average_after_Mutation"
   ]
  }
 ],
 "metadata": {
  "interpreter": {
   "hash": "bb8a3a1323f3c340db4ed9b667a7574bb3d09f377c2e3b6d53cc22a1278630b4"
  },
  "kernelspec": {
   "display_name": "Python 3.9.1 64-bit",
   "name": "python3"
  },
  "language_info": {
   "codemirror_mode": {
    "name": "ipython",
    "version": 3
   },
   "file_extension": ".py",
   "mimetype": "text/x-python",
   "name": "python",
   "nbconvert_exporter": "python",
   "pygments_lexer": "ipython3",
   "version": "3.9.7"
  },
  "orig_nbformat": 4
 },
 "nbformat": 4,
 "nbformat_minor": 2
}
